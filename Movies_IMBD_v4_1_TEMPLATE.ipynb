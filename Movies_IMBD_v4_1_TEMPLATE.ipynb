{
  "nbformat": 4,
  "nbformat_minor": 0,
  "metadata": {
    "colab": {
      "name": "Movies_IMBD_v4.1_TEMPLATE.ipynb",
      "provenance": [],
      "collapsed_sections": [],
      "include_colab_link": true
    },
    "kernelspec": {
      "display_name": "Python 3",
      "language": "python",
      "name": "python3"
    },
    "language_info": {
      "codemirror_mode": {
        "name": "ipython",
        "version": 3
      },
      "file_extension": ".py",
      "mimetype": "text/x-python",
      "name": "python",
      "nbconvert_exporter": "python",
      "pygments_lexer": "ipython3",
      "version": "3.7.4"
    }
  },
  "cells": [
    {
      "cell_type": "markdown",
      "metadata": {
        "id": "view-in-github",
        "colab_type": "text"
      },
      "source": [
        "<a href=\"https://colab.research.google.com/github/Yanasla/skillfactory_rds-module_1/blob/main/Movies_IMBD_v4_1_TEMPLATE.ipynb\" target=\"_parent\"><img src=\"https://colab.research.google.com/assets/colab-badge.svg\" alt=\"Open In Colab\"/></a>"
      ]
    },
    {
      "cell_type": "code",
      "metadata": {
        "_cell_guid": "b1076dfc-b9ad-4769-8c92-a6c4dae69d19",
        "_uuid": "8f2839f25d086af736a60e9eeb907d3b93b6e0e5",
        "id": "U2D2gTdJVp90"
      },
      "source": [
        "import numpy as np\n",
        "import pandas as pd\n",
        "import seaborn as sns\n",
        "import matplotlib.pyplot as plt\n",
        "from collections import Counter"
      ],
      "execution_count": 2,
      "outputs": []
    },
    {
      "cell_type": "code",
      "metadata": {
        "_cell_guid": "79c7e3d0-c299-4dcb-8224-4455121ee9b0",
        "_uuid": "d629ff2d2480ee46fbb7e2d37f6b5fab8052498a",
        "colab": {
          "base_uri": "https://localhost:8080/",
          "height": 439
        },
        "id": "oyGfxL3eVp9-",
        "outputId": "37b60924-549e-4df7-80fe-283d0e0a5f60"
      },
      "source": [
        "data1 = pd.read_csv('movie_bd_v5.csv', encoding = 'utf-8')\n",
        "data1.sample(3)"
      ],
      "execution_count": 3,
      "outputs": [
        {
          "output_type": "execute_result",
          "data": {
            "text/html": [
              "<div>\n",
              "<style scoped>\n",
              "    .dataframe tbody tr th:only-of-type {\n",
              "        vertical-align: middle;\n",
              "    }\n",
              "\n",
              "    .dataframe tbody tr th {\n",
              "        vertical-align: top;\n",
              "    }\n",
              "\n",
              "    .dataframe thead th {\n",
              "        text-align: right;\n",
              "    }\n",
              "</style>\n",
              "<table border=\"1\" class=\"dataframe\">\n",
              "  <thead>\n",
              "    <tr style=\"text-align: right;\">\n",
              "      <th></th>\n",
              "      <th>imdb_id</th>\n",
              "      <th>budget</th>\n",
              "      <th>revenue</th>\n",
              "      <th>original_title</th>\n",
              "      <th>cast</th>\n",
              "      <th>director</th>\n",
              "      <th>tagline</th>\n",
              "      <th>overview</th>\n",
              "      <th>runtime</th>\n",
              "      <th>genres</th>\n",
              "      <th>production_companies</th>\n",
              "      <th>release_date</th>\n",
              "      <th>vote_average</th>\n",
              "      <th>release_year</th>\n",
              "    </tr>\n",
              "  </thead>\n",
              "  <tbody>\n",
              "    <tr>\n",
              "      <th>1503</th>\n",
              "      <td>tt0430304</td>\n",
              "      <td>64000000</td>\n",
              "      <td>101595121</td>\n",
              "      <td>Little Man</td>\n",
              "      <td>Marlon Wayans|Shawn Wayans|Kerry Washington|Jo...</td>\n",
              "      <td>Keenen Ivory Wayans</td>\n",
              "      <td>Big things come in small packages</td>\n",
              "      <td>After leaving the prison, the dwarf criminal C...</td>\n",
              "      <td>98</td>\n",
              "      <td>Comedy|Crime</td>\n",
              "      <td>Revolution Studios|Wayans Bros. Entertainment</td>\n",
              "      <td>8/31/2006</td>\n",
              "      <td>5.6</td>\n",
              "      <td>2006</td>\n",
              "    </tr>\n",
              "    <tr>\n",
              "      <th>1366</th>\n",
              "      <td>tt0373926</td>\n",
              "      <td>80000000</td>\n",
              "      <td>162944923</td>\n",
              "      <td>The Interpreter</td>\n",
              "      <td>Nicole Kidman|Sean Penn|Catherine Keener|Jespe...</td>\n",
              "      <td>Sydney Pollack</td>\n",
              "      <td>The truth needs no translation.</td>\n",
              "      <td>After Silvia Broome, an interpreter at United ...</td>\n",
              "      <td>128</td>\n",
              "      <td>Action</td>\n",
              "      <td>Universal Pictures|StudioCanal|Mirage Enterpri...</td>\n",
              "      <td>4/4/2005</td>\n",
              "      <td>6.2</td>\n",
              "      <td>2005</td>\n",
              "    </tr>\n",
              "    <tr>\n",
              "      <th>1647</th>\n",
              "      <td>tt0327437</td>\n",
              "      <td>110000000</td>\n",
              "      <td>72178895</td>\n",
              "      <td>Around the World in 80 Days</td>\n",
              "      <td>Jackie Chan|Steve Coogan|CÃ©cile De France|Rob...</td>\n",
              "      <td>Frank Coraci</td>\n",
              "      <td>Let your imagination soar.</td>\n",
              "      <td>A bet pits a British inventor, a Chinese thief...</td>\n",
              "      <td>120</td>\n",
              "      <td>Action|Adventure|Comedy</td>\n",
              "      <td>Studio Babelsberg|Walden Media|Babelsberg Film...</td>\n",
              "      <td>6/16/2004</td>\n",
              "      <td>5.6</td>\n",
              "      <td>2004</td>\n",
              "    </tr>\n",
              "  </tbody>\n",
              "</table>\n",
              "</div>"
            ],
            "text/plain": [
              "        imdb_id     budget    revenue  ... release_date vote_average release_year\n",
              "1503  tt0430304   64000000  101595121  ...    8/31/2006          5.6         2006\n",
              "1366  tt0373926   80000000  162944923  ...     4/4/2005          6.2         2005\n",
              "1647  tt0327437  110000000   72178895  ...    6/16/2004          5.6         2004\n",
              "\n",
              "[3 rows x 14 columns]"
            ]
          },
          "metadata": {
            "tags": []
          },
          "execution_count": 3
        }
      ]
    },
    {
      "cell_type": "code",
      "metadata": {
        "colab": {
          "base_uri": "https://localhost:8080/",
          "height": 299
        },
        "id": "CoYUnagMVp-C",
        "outputId": "562f7b50-617b-408a-f7a9-5848281fbb52"
      },
      "source": [
        "data1.describe()"
      ],
      "execution_count": 125,
      "outputs": [
        {
          "output_type": "execute_result",
          "data": {
            "text/html": [
              "<div>\n",
              "<style scoped>\n",
              "    .dataframe tbody tr th:only-of-type {\n",
              "        vertical-align: middle;\n",
              "    }\n",
              "\n",
              "    .dataframe tbody tr th {\n",
              "        vertical-align: top;\n",
              "    }\n",
              "\n",
              "    .dataframe thead th {\n",
              "        text-align: right;\n",
              "    }\n",
              "</style>\n",
              "<table border=\"1\" class=\"dataframe\">\n",
              "  <thead>\n",
              "    <tr style=\"text-align: right;\">\n",
              "      <th></th>\n",
              "      <th>budget</th>\n",
              "      <th>revenue</th>\n",
              "      <th>runtime</th>\n",
              "      <th>vote_average</th>\n",
              "      <th>release_year</th>\n",
              "    </tr>\n",
              "  </thead>\n",
              "  <tbody>\n",
              "    <tr>\n",
              "      <th>count</th>\n",
              "      <td>1.889000e+03</td>\n",
              "      <td>1.889000e+03</td>\n",
              "      <td>1889.000000</td>\n",
              "      <td>1889.000000</td>\n",
              "      <td>1889.000000</td>\n",
              "    </tr>\n",
              "    <tr>\n",
              "      <th>mean</th>\n",
              "      <td>5.431083e+07</td>\n",
              "      <td>1.553653e+08</td>\n",
              "      <td>109.658549</td>\n",
              "      <td>6.140762</td>\n",
              "      <td>2007.860773</td>\n",
              "    </tr>\n",
              "    <tr>\n",
              "      <th>std</th>\n",
              "      <td>4.858721e+07</td>\n",
              "      <td>2.146698e+08</td>\n",
              "      <td>18.017041</td>\n",
              "      <td>0.764763</td>\n",
              "      <td>4.468841</td>\n",
              "    </tr>\n",
              "    <tr>\n",
              "      <th>min</th>\n",
              "      <td>5.000000e+06</td>\n",
              "      <td>2.033165e+06</td>\n",
              "      <td>63.000000</td>\n",
              "      <td>3.300000</td>\n",
              "      <td>2000.000000</td>\n",
              "    </tr>\n",
              "    <tr>\n",
              "      <th>25%</th>\n",
              "      <td>2.000000e+07</td>\n",
              "      <td>3.456058e+07</td>\n",
              "      <td>97.000000</td>\n",
              "      <td>5.600000</td>\n",
              "      <td>2004.000000</td>\n",
              "    </tr>\n",
              "    <tr>\n",
              "      <th>50%</th>\n",
              "      <td>3.800000e+07</td>\n",
              "      <td>8.361541e+07</td>\n",
              "      <td>107.000000</td>\n",
              "      <td>6.100000</td>\n",
              "      <td>2008.000000</td>\n",
              "    </tr>\n",
              "    <tr>\n",
              "      <th>75%</th>\n",
              "      <td>7.200000e+07</td>\n",
              "      <td>1.782626e+08</td>\n",
              "      <td>120.000000</td>\n",
              "      <td>6.600000</td>\n",
              "      <td>2012.000000</td>\n",
              "    </tr>\n",
              "    <tr>\n",
              "      <th>max</th>\n",
              "      <td>3.800000e+08</td>\n",
              "      <td>2.781506e+09</td>\n",
              "      <td>214.000000</td>\n",
              "      <td>8.100000</td>\n",
              "      <td>2015.000000</td>\n",
              "    </tr>\n",
              "  </tbody>\n",
              "</table>\n",
              "</div>"
            ],
            "text/plain": [
              "             budget       revenue      runtime  vote_average  release_year\n",
              "count  1.889000e+03  1.889000e+03  1889.000000   1889.000000   1889.000000\n",
              "mean   5.431083e+07  1.553653e+08   109.658549      6.140762   2007.860773\n",
              "std    4.858721e+07  2.146698e+08    18.017041      0.764763      4.468841\n",
              "min    5.000000e+06  2.033165e+06    63.000000      3.300000   2000.000000\n",
              "25%    2.000000e+07  3.456058e+07    97.000000      5.600000   2004.000000\n",
              "50%    3.800000e+07  8.361541e+07   107.000000      6.100000   2008.000000\n",
              "75%    7.200000e+07  1.782626e+08   120.000000      6.600000   2012.000000\n",
              "max    3.800000e+08  2.781506e+09   214.000000      8.100000   2015.000000"
            ]
          },
          "metadata": {
            "tags": []
          },
          "execution_count": 125
        }
      ]
    },
    {
      "cell_type": "markdown",
      "metadata": {
        "id": "DTIt7ezGVp-G"
      },
      "source": [
        "# Предобработка"
      ]
    },
    {
      "cell_type": "code",
      "metadata": {
        "id": "jNb40DwKVp-H"
      },
      "source": [
        "answers = {} # создадим словарь для ответов"
      ],
      "execution_count": 126,
      "outputs": []
    },
    {
      "cell_type": "code",
      "metadata": {
        "id": "ih1EqOiCphDX"
      },
      "source": [
        "def get_unique(numbers):\n",
        "    unique = []\n",
        "    for number in numbers:\n",
        "        if number not in unique:\n",
        "            unique.append(number)\n",
        "    return unique"
      ],
      "execution_count": 6,
      "outputs": []
    },
    {
      "cell_type": "code",
      "metadata": {
        "id": "Tmt8MaK1Vp_R",
        "colab": {
          "base_uri": "https://localhost:8080/",
          "height": 235
        },
        "outputId": "58420878-380a-4320-96b5-e8eeef8ecaf9"
      },
      "source": [
        "import itertools\n",
        "from collections import Counter\n",
        "data = pd.read_csv('movie_bd_v5.csv', encoding = 'utf-8')\n",
        "data_genres = data.genres.apply(lambda s: str(s).split('|'))\n",
        "genres_list = list(itertools.chain(*data_genres))\n",
        "s = pd.Series(genres_list) #список уникальных значений жанров\n",
        "display(s)\n"
      ],
      "execution_count": 7,
      "outputs": [
        {
          "output_type": "display_data",
          "data": {
            "text/plain": [
              "0                Action\n",
              "1             Adventure\n",
              "2       Science Fiction\n",
              "3              Thriller\n",
              "4                Action\n",
              "             ...       \n",
              "5102             Comedy\n",
              "5103             Family\n",
              "5104             Comedy\n",
              "5105              Drama\n",
              "5106           Thriller\n",
              "Length: 5107, dtype: object"
            ]
          },
          "metadata": {
            "tags": []
          }
        }
      ]
    },
    {
      "cell_type": "markdown",
      "metadata": {
        "id": "YxZaH-nPVp-L"
      },
      "source": [
        "# 1. У какого фильма из списка самый большой бюджет?"
      ]
    },
    {
      "cell_type": "markdown",
      "metadata": {
        "id": "Nd-G5gX6Vp-M"
      },
      "source": [
        "Использовать варианты ответов в коде решения запрещено.    \n",
        "Вы думаете и в жизни у вас будут варианты ответов?)"
      ]
    },
    {
      "cell_type": "code",
      "metadata": {
        "id": "uVnXAY5RVp-O"
      },
      "source": [
        "# в словарь вставляем номер вопроса и ваш ответ на него\n",
        "answers['01'] = '723 Pirates of the Caribbean: On Stranger Tides\t(tt1298650)' #+"
      ],
      "execution_count": 127,
      "outputs": []
    },
    {
      "cell_type": "code",
      "metadata": {
        "colab": {
          "base_uri": "https://localhost:8080/",
          "height": 205
        },
        "id": "LtCwBbDc85Hv",
        "outputId": "8deee6ac-1e4f-406f-e814-5dd6a67b34a5"
      },
      "source": [
        "data = pd.read_csv('movie_bd_v5.csv', encoding = 'utf-8')\n",
        "data2 = data.copy()\n",
        "data2[(data2.budget == data2.budget.max())]"
      ],
      "execution_count": 101,
      "outputs": [
        {
          "output_type": "execute_result",
          "data": {
            "text/html": [
              "<div>\n",
              "<style scoped>\n",
              "    .dataframe tbody tr th:only-of-type {\n",
              "        vertical-align: middle;\n",
              "    }\n",
              "\n",
              "    .dataframe tbody tr th {\n",
              "        vertical-align: top;\n",
              "    }\n",
              "\n",
              "    .dataframe thead th {\n",
              "        text-align: right;\n",
              "    }\n",
              "</style>\n",
              "<table border=\"1\" class=\"dataframe\">\n",
              "  <thead>\n",
              "    <tr style=\"text-align: right;\">\n",
              "      <th></th>\n",
              "      <th>imdb_id</th>\n",
              "      <th>budget</th>\n",
              "      <th>revenue</th>\n",
              "      <th>original_title</th>\n",
              "      <th>cast</th>\n",
              "      <th>director</th>\n",
              "      <th>tagline</th>\n",
              "      <th>overview</th>\n",
              "      <th>runtime</th>\n",
              "      <th>genres</th>\n",
              "      <th>production_companies</th>\n",
              "      <th>release_date</th>\n",
              "      <th>vote_average</th>\n",
              "      <th>release_year</th>\n",
              "    </tr>\n",
              "  </thead>\n",
              "  <tbody>\n",
              "    <tr>\n",
              "      <th>723</th>\n",
              "      <td>tt1298650</td>\n",
              "      <td>380000000</td>\n",
              "      <td>1021683000</td>\n",
              "      <td>Pirates of the Caribbean: On Stranger Tides</td>\n",
              "      <td>Johnny Depp|PenÃ©lope Cruz|Geoffrey Rush|Ian M...</td>\n",
              "      <td>Rob Marshall</td>\n",
              "      <td>Live Forever Or Die Trying.</td>\n",
              "      <td>Captain Jack Sparrow crosses paths with a woma...</td>\n",
              "      <td>136</td>\n",
              "      <td>Adventure|Action|Fantasy</td>\n",
              "      <td>Walt Disney Pictures|Jerry Bruckheimer Films|M...</td>\n",
              "      <td>5/11/2011</td>\n",
              "      <td>6.3</td>\n",
              "      <td>2011</td>\n",
              "    </tr>\n",
              "  </tbody>\n",
              "</table>\n",
              "</div>"
            ],
            "text/plain": [
              "       imdb_id     budget     revenue  ... release_date vote_average release_year\n",
              "723  tt1298650  380000000  1021683000  ...    5/11/2011          6.3         2011\n",
              "\n",
              "[1 rows x 14 columns]"
            ]
          },
          "metadata": {
            "tags": []
          },
          "execution_count": 101
        }
      ]
    },
    {
      "cell_type": "markdown",
      "metadata": {
        "id": "FNRbbI3vVp-c"
      },
      "source": [
        "# 2. Какой из фильмов самый длительный (в минутах)?"
      ]
    },
    {
      "cell_type": "code",
      "metadata": {
        "id": "vHAoEXNTVp-d"
      },
      "source": [
        "answers['02'] = '1157 Gods and Generals (tt0279111)' # +"
      ],
      "execution_count": 150,
      "outputs": []
    },
    {
      "cell_type": "code",
      "metadata": {
        "id": "ot-VX2XrVp-g",
        "colab": {
          "base_uri": "https://localhost:8080/",
          "height": 205
        },
        "outputId": "33b85051-ab13-4537-c12d-b3a9f5d6aa3f"
      },
      "source": [
        "data = pd.read_csv('movie_bd_v5.csv', encoding = 'utf-8')\n",
        "data = data.copy()\n",
        "data[(data.runtime == data.runtime.max())]"
      ],
      "execution_count": 11,
      "outputs": [
        {
          "output_type": "execute_result",
          "data": {
            "text/html": [
              "<div>\n",
              "<style scoped>\n",
              "    .dataframe tbody tr th:only-of-type {\n",
              "        vertical-align: middle;\n",
              "    }\n",
              "\n",
              "    .dataframe tbody tr th {\n",
              "        vertical-align: top;\n",
              "    }\n",
              "\n",
              "    .dataframe thead th {\n",
              "        text-align: right;\n",
              "    }\n",
              "</style>\n",
              "<table border=\"1\" class=\"dataframe\">\n",
              "  <thead>\n",
              "    <tr style=\"text-align: right;\">\n",
              "      <th></th>\n",
              "      <th>imdb_id</th>\n",
              "      <th>budget</th>\n",
              "      <th>revenue</th>\n",
              "      <th>original_title</th>\n",
              "      <th>cast</th>\n",
              "      <th>director</th>\n",
              "      <th>tagline</th>\n",
              "      <th>overview</th>\n",
              "      <th>runtime</th>\n",
              "      <th>genres</th>\n",
              "      <th>production_companies</th>\n",
              "      <th>release_date</th>\n",
              "      <th>vote_average</th>\n",
              "      <th>release_year</th>\n",
              "    </tr>\n",
              "  </thead>\n",
              "  <tbody>\n",
              "    <tr>\n",
              "      <th>1157</th>\n",
              "      <td>tt0279111</td>\n",
              "      <td>56000000</td>\n",
              "      <td>12923936</td>\n",
              "      <td>Gods and Generals</td>\n",
              "      <td>Stephen Lang|Jeff Daniels|Robert Duvall|Kevin ...</td>\n",
              "      <td>Ronald F. Maxwell</td>\n",
              "      <td>The nations heart was touched by...</td>\n",
              "      <td>The film centers mostly around the personal an...</td>\n",
              "      <td>214</td>\n",
              "      <td>Drama|History|War</td>\n",
              "      <td>Turner Pictures|Antietam Filmworks</td>\n",
              "      <td>2/21/2003</td>\n",
              "      <td>5.8</td>\n",
              "      <td>2003</td>\n",
              "    </tr>\n",
              "  </tbody>\n",
              "</table>\n",
              "</div>"
            ],
            "text/plain": [
              "        imdb_id    budget   revenue  ... release_date vote_average release_year\n",
              "1157  tt0279111  56000000  12923936  ...    2/21/2003          5.8         2003\n",
              "\n",
              "[1 rows x 14 columns]"
            ]
          },
          "metadata": {
            "tags": []
          },
          "execution_count": 11
        }
      ]
    },
    {
      "cell_type": "markdown",
      "metadata": {
        "id": "bapLlpW8Vp-k"
      },
      "source": [
        "# 3. Какой из фильмов самый короткий (в минутах)?\n",
        "\n",
        "\n",
        "\n"
      ]
    },
    {
      "cell_type": "code",
      "metadata": {
        "id": "hVIsYIjNBGLq"
      },
      "source": [
        "answers['03'] = '768 Winnie the Pooh (tt1449283)' # +"
      ],
      "execution_count": 151,
      "outputs": []
    },
    {
      "cell_type": "code",
      "metadata": {
        "id": "YBxaSHuAVp-l",
        "colab": {
          "base_uri": "https://localhost:8080/",
          "height": 205
        },
        "outputId": "b42a3631-e182-438b-db01-7001a775eaae"
      },
      "source": [
        "data = pd.read_csv('movie_bd_v5.csv', encoding = 'utf-8')\n",
        "data[(data.runtime == data.runtime.min())]"
      ],
      "execution_count": 13,
      "outputs": [
        {
          "output_type": "execute_result",
          "data": {
            "text/html": [
              "<div>\n",
              "<style scoped>\n",
              "    .dataframe tbody tr th:only-of-type {\n",
              "        vertical-align: middle;\n",
              "    }\n",
              "\n",
              "    .dataframe tbody tr th {\n",
              "        vertical-align: top;\n",
              "    }\n",
              "\n",
              "    .dataframe thead th {\n",
              "        text-align: right;\n",
              "    }\n",
              "</style>\n",
              "<table border=\"1\" class=\"dataframe\">\n",
              "  <thead>\n",
              "    <tr style=\"text-align: right;\">\n",
              "      <th></th>\n",
              "      <th>imdb_id</th>\n",
              "      <th>budget</th>\n",
              "      <th>revenue</th>\n",
              "      <th>original_title</th>\n",
              "      <th>cast</th>\n",
              "      <th>director</th>\n",
              "      <th>tagline</th>\n",
              "      <th>overview</th>\n",
              "      <th>runtime</th>\n",
              "      <th>genres</th>\n",
              "      <th>production_companies</th>\n",
              "      <th>release_date</th>\n",
              "      <th>vote_average</th>\n",
              "      <th>release_year</th>\n",
              "    </tr>\n",
              "  </thead>\n",
              "  <tbody>\n",
              "    <tr>\n",
              "      <th>768</th>\n",
              "      <td>tt1449283</td>\n",
              "      <td>30000000</td>\n",
              "      <td>14460000</td>\n",
              "      <td>Winnie the Pooh</td>\n",
              "      <td>Jim Cummings|Travis Oates|Jim Cummings|Bud Luc...</td>\n",
              "      <td>Stephen Anderson|Don Hall</td>\n",
              "      <td>Oh Pooh.</td>\n",
              "      <td>During an ordinary day in Hundred Acre Wood, W...</td>\n",
              "      <td>63</td>\n",
              "      <td>Animation|Family</td>\n",
              "      <td>Walt Disney Pictures|Walt Disney Animation Stu...</td>\n",
              "      <td>4/13/2011</td>\n",
              "      <td>6.8</td>\n",
              "      <td>2011</td>\n",
              "    </tr>\n",
              "  </tbody>\n",
              "</table>\n",
              "</div>"
            ],
            "text/plain": [
              "       imdb_id    budget   revenue  ... release_date vote_average release_year\n",
              "768  tt1449283  30000000  14460000  ...    4/13/2011          6.8         2011\n",
              "\n",
              "[1 rows x 14 columns]"
            ]
          },
          "metadata": {
            "tags": []
          },
          "execution_count": 13
        }
      ]
    },
    {
      "cell_type": "markdown",
      "metadata": {
        "id": "TfQbxbfNVp-p"
      },
      "source": [
        "# 4. Какова средняя длительность фильмов?\n"
      ]
    },
    {
      "cell_type": "code",
      "metadata": {
        "id": "j_zOrbCGBq7h"
      },
      "source": [
        "answers['04'] = '109.6585494970884' # +"
      ],
      "execution_count": 152,
      "outputs": []
    },
    {
      "cell_type": "code",
      "metadata": {
        "id": "5K6dKZYVVp-q",
        "colab": {
          "base_uri": "https://localhost:8080/"
        },
        "outputId": "ecbe44fc-1812-4b66-e9c0-33b8570bd9a3"
      },
      "source": [
        "data = pd.read_csv('movie_bd_v5.csv', encoding = 'utf-8')\n",
        "data.runtime.mean()"
      ],
      "execution_count": 15,
      "outputs": [
        {
          "output_type": "execute_result",
          "data": {
            "text/plain": [
              "109.6585494970884"
            ]
          },
          "metadata": {
            "tags": []
          },
          "execution_count": 15
        }
      ]
    },
    {
      "cell_type": "markdown",
      "metadata": {
        "id": "r5TvbnT_Vp-u"
      },
      "source": [
        "# 5. Каково медианное значение длительности фильмов? "
      ]
    },
    {
      "cell_type": "code",
      "metadata": {
        "id": "CMkQoxb-B0zk"
      },
      "source": [
        "answers['05'] = '107' # +"
      ],
      "execution_count": 153,
      "outputs": []
    },
    {
      "cell_type": "code",
      "metadata": {
        "id": "iBROplKnVp-v",
        "colab": {
          "base_uri": "https://localhost:8080/"
        },
        "outputId": "1377ebb7-77b1-482a-d654-0797d99f62d7"
      },
      "source": [
        "data = pd.read_csv('movie_bd_v5.csv', encoding = 'utf-8')\n",
        "data.runtime.median()"
      ],
      "execution_count": 17,
      "outputs": [
        {
          "output_type": "execute_result",
          "data": {
            "text/plain": [
              "107.0"
            ]
          },
          "metadata": {
            "tags": []
          },
          "execution_count": 17
        }
      ]
    },
    {
      "cell_type": "markdown",
      "metadata": {
        "id": "39P-deDSVp-y"
      },
      "source": [
        "# 6. Какой самый прибыльный фильм?\n",
        "#### Внимание! Здесь и далее под «прибылью» или «убытками» понимается разность между сборами и бюджетом фильма. (прибыль = сборы - бюджет) в нашем датасете это будет (profit = revenue - budget) "
      ]
    },
    {
      "cell_type": "code",
      "metadata": {
        "id": "Z_JWX1orzFyl"
      },
      "source": [
        "answers['06'] = '239 Avatar (tt0499549)' # +"
      ],
      "execution_count": 154,
      "outputs": []
    },
    {
      "cell_type": "code",
      "metadata": {
        "colab": {
          "base_uri": "https://localhost:8080/",
          "height": 187
        },
        "id": "gEDhsTmgDlF5",
        "outputId": "e50735a6-9716-4761-da5c-ac56fb941d22"
      },
      "source": [
        "data = pd.read_csv('movie_bd_v5.csv', encoding = 'utf-8')\n",
        "data['profit'] = data['revenue'] - data['budget']\n",
        "display(data.sort_values('profit',ascending=False).head(1))"
      ],
      "execution_count": 19,
      "outputs": [
        {
          "output_type": "display_data",
          "data": {
            "text/html": [
              "<div>\n",
              "<style scoped>\n",
              "    .dataframe tbody tr th:only-of-type {\n",
              "        vertical-align: middle;\n",
              "    }\n",
              "\n",
              "    .dataframe tbody tr th {\n",
              "        vertical-align: top;\n",
              "    }\n",
              "\n",
              "    .dataframe thead th {\n",
              "        text-align: right;\n",
              "    }\n",
              "</style>\n",
              "<table border=\"1\" class=\"dataframe\">\n",
              "  <thead>\n",
              "    <tr style=\"text-align: right;\">\n",
              "      <th></th>\n",
              "      <th>imdb_id</th>\n",
              "      <th>budget</th>\n",
              "      <th>revenue</th>\n",
              "      <th>original_title</th>\n",
              "      <th>cast</th>\n",
              "      <th>director</th>\n",
              "      <th>tagline</th>\n",
              "      <th>overview</th>\n",
              "      <th>runtime</th>\n",
              "      <th>genres</th>\n",
              "      <th>production_companies</th>\n",
              "      <th>release_date</th>\n",
              "      <th>vote_average</th>\n",
              "      <th>release_year</th>\n",
              "      <th>profit</th>\n",
              "    </tr>\n",
              "  </thead>\n",
              "  <tbody>\n",
              "    <tr>\n",
              "      <th>239</th>\n",
              "      <td>tt0499549</td>\n",
              "      <td>237000000</td>\n",
              "      <td>2781505847</td>\n",
              "      <td>Avatar</td>\n",
              "      <td>Sam Worthington|Zoe Saldana|Sigourney Weaver|S...</td>\n",
              "      <td>James Cameron</td>\n",
              "      <td>Enter the World of Pandora.</td>\n",
              "      <td>In the 22nd century, a paraplegic Marine is di...</td>\n",
              "      <td>162</td>\n",
              "      <td>Action|Adventure|Fantasy|Science Fiction</td>\n",
              "      <td>Ingenious Film Partners|Twentieth Century Fox ...</td>\n",
              "      <td>12/10/2009</td>\n",
              "      <td>7.1</td>\n",
              "      <td>2009</td>\n",
              "      <td>2544505847</td>\n",
              "    </tr>\n",
              "  </tbody>\n",
              "</table>\n",
              "</div>"
            ],
            "text/plain": [
              "       imdb_id     budget     revenue  ... vote_average release_year      profit\n",
              "239  tt0499549  237000000  2781505847  ...          7.1         2009  2544505847\n",
              "\n",
              "[1 rows x 15 columns]"
            ]
          },
          "metadata": {
            "tags": []
          }
        }
      ]
    },
    {
      "cell_type": "markdown",
      "metadata": {
        "id": "M99JmIX4Vp-2"
      },
      "source": [
        "# 7. Какой фильм самый убыточный? "
      ]
    },
    {
      "cell_type": "code",
      "metadata": {
        "id": "e6hVIhLLJ6nz"
      },
      "source": [
        "answers['07'] = '1245 The Lone Ranger (tt1210819)' # +"
      ],
      "execution_count": 155,
      "outputs": []
    },
    {
      "cell_type": "code",
      "metadata": {
        "colab": {
          "base_uri": "https://localhost:8080/",
          "height": 205
        },
        "id": "SUKNPGTCWYlT",
        "outputId": "9b7a54e2-21c7-42f1-93c6-a90fa43d7574"
      },
      "source": [
        "data = pd.read_csv('movie_bd_v5.csv', encoding = 'utf-8')\n",
        "data['profit'] = data['revenue'] - data['budget']\n",
        "display(data.sort_values('profit',ascending=True).head(1))"
      ],
      "execution_count": 21,
      "outputs": [
        {
          "output_type": "display_data",
          "data": {
            "text/html": [
              "<div>\n",
              "<style scoped>\n",
              "    .dataframe tbody tr th:only-of-type {\n",
              "        vertical-align: middle;\n",
              "    }\n",
              "\n",
              "    .dataframe tbody tr th {\n",
              "        vertical-align: top;\n",
              "    }\n",
              "\n",
              "    .dataframe thead th {\n",
              "        text-align: right;\n",
              "    }\n",
              "</style>\n",
              "<table border=\"1\" class=\"dataframe\">\n",
              "  <thead>\n",
              "    <tr style=\"text-align: right;\">\n",
              "      <th></th>\n",
              "      <th>imdb_id</th>\n",
              "      <th>budget</th>\n",
              "      <th>revenue</th>\n",
              "      <th>original_title</th>\n",
              "      <th>cast</th>\n",
              "      <th>director</th>\n",
              "      <th>tagline</th>\n",
              "      <th>overview</th>\n",
              "      <th>runtime</th>\n",
              "      <th>genres</th>\n",
              "      <th>production_companies</th>\n",
              "      <th>release_date</th>\n",
              "      <th>vote_average</th>\n",
              "      <th>release_year</th>\n",
              "      <th>profit</th>\n",
              "    </tr>\n",
              "  </thead>\n",
              "  <tbody>\n",
              "    <tr>\n",
              "      <th>1245</th>\n",
              "      <td>tt1210819</td>\n",
              "      <td>255000000</td>\n",
              "      <td>89289910</td>\n",
              "      <td>The Lone Ranger</td>\n",
              "      <td>Johnny Depp|Armie Hammer|William Fichtner|Hele...</td>\n",
              "      <td>Gore Verbinski</td>\n",
              "      <td>Never Take Off the Mask</td>\n",
              "      <td>The Texas Rangers chase down a gang of outlaws...</td>\n",
              "      <td>149</td>\n",
              "      <td>Action|Adventure|Western</td>\n",
              "      <td>Walt Disney Pictures|Jerry Bruckheimer Films|I...</td>\n",
              "      <td>7/3/2013</td>\n",
              "      <td>6.0</td>\n",
              "      <td>2013</td>\n",
              "      <td>-165710090</td>\n",
              "    </tr>\n",
              "  </tbody>\n",
              "</table>\n",
              "</div>"
            ],
            "text/plain": [
              "        imdb_id     budget   revenue  ... vote_average release_year     profit\n",
              "1245  tt1210819  255000000  89289910  ...          6.0         2013 -165710090\n",
              "\n",
              "[1 rows x 15 columns]"
            ]
          },
          "metadata": {
            "tags": []
          }
        }
      ]
    },
    {
      "cell_type": "markdown",
      "metadata": {
        "id": "wEOM5ERVVp-6"
      },
      "source": [
        "# 8. У скольких фильмов из датасета объем сборов оказался выше бюджета?"
      ]
    },
    {
      "cell_type": "code",
      "metadata": {
        "id": "PcijaO2wLC6S"
      },
      "source": [
        "answers['08'] = '1478' # +"
      ],
      "execution_count": 156,
      "outputs": []
    },
    {
      "cell_type": "code",
      "metadata": {
        "id": "y00_7HD6Vp-7",
        "colab": {
          "base_uri": "https://localhost:8080/"
        },
        "outputId": "b71cfa86-3ab6-46da-9ff2-7733f053eb4b"
      },
      "source": [
        "data = pd.read_csv('movie_bd_v5.csv', encoding = 'utf-8')\n",
        "data.query('revenue > budget').count()[0]"
      ],
      "execution_count": 23,
      "outputs": [
        {
          "output_type": "execute_result",
          "data": {
            "text/plain": [
              "1478"
            ]
          },
          "metadata": {
            "tags": []
          },
          "execution_count": 23
        }
      ]
    },
    {
      "cell_type": "markdown",
      "metadata": {
        "id": "xhpspA9KVp_A"
      },
      "source": [
        "# 9. Какой фильм оказался самым кассовым в 2008 году?"
      ]
    },
    {
      "cell_type": "code",
      "metadata": {
        "id": "Zt3R8DOcLjDu"
      },
      "source": [
        "answers['09'] = '599 The Dark Knight (tt0468569)' # +"
      ],
      "execution_count": 157,
      "outputs": []
    },
    {
      "cell_type": "code",
      "metadata": {
        "id": "MoUyQr9RVp_B",
        "colab": {
          "base_uri": "https://localhost:8080/",
          "height": 187
        },
        "outputId": "6832ed5f-2e51-4172-9a5b-88787fbd137d"
      },
      "source": [
        "data = pd.read_csv('movie_bd_v5.csv', encoding = 'utf-8')\n",
        "data.query('release_year == 2008').sort_values('revenue',ascending=False).head(1)"
      ],
      "execution_count": 25,
      "outputs": [
        {
          "output_type": "execute_result",
          "data": {
            "text/html": [
              "<div>\n",
              "<style scoped>\n",
              "    .dataframe tbody tr th:only-of-type {\n",
              "        vertical-align: middle;\n",
              "    }\n",
              "\n",
              "    .dataframe tbody tr th {\n",
              "        vertical-align: top;\n",
              "    }\n",
              "\n",
              "    .dataframe thead th {\n",
              "        text-align: right;\n",
              "    }\n",
              "</style>\n",
              "<table border=\"1\" class=\"dataframe\">\n",
              "  <thead>\n",
              "    <tr style=\"text-align: right;\">\n",
              "      <th></th>\n",
              "      <th>imdb_id</th>\n",
              "      <th>budget</th>\n",
              "      <th>revenue</th>\n",
              "      <th>original_title</th>\n",
              "      <th>cast</th>\n",
              "      <th>director</th>\n",
              "      <th>tagline</th>\n",
              "      <th>overview</th>\n",
              "      <th>runtime</th>\n",
              "      <th>genres</th>\n",
              "      <th>production_companies</th>\n",
              "      <th>release_date</th>\n",
              "      <th>vote_average</th>\n",
              "      <th>release_year</th>\n",
              "    </tr>\n",
              "  </thead>\n",
              "  <tbody>\n",
              "    <tr>\n",
              "      <th>599</th>\n",
              "      <td>tt0468569</td>\n",
              "      <td>185000000</td>\n",
              "      <td>1001921825</td>\n",
              "      <td>The Dark Knight</td>\n",
              "      <td>Christian Bale|Michael Caine|Heath Ledger|Aaro...</td>\n",
              "      <td>Christopher Nolan</td>\n",
              "      <td>Why So Serious?</td>\n",
              "      <td>Batman raises the stakes in his war on crime. ...</td>\n",
              "      <td>152</td>\n",
              "      <td>Drama|Action|Crime|Thriller</td>\n",
              "      <td>DC Comics|Legendary Pictures|Warner Bros.|Syncopy</td>\n",
              "      <td>7/16/2008</td>\n",
              "      <td>8.1</td>\n",
              "      <td>2008</td>\n",
              "    </tr>\n",
              "  </tbody>\n",
              "</table>\n",
              "</div>"
            ],
            "text/plain": [
              "       imdb_id     budget     revenue  ... release_date vote_average release_year\n",
              "599  tt0468569  185000000  1001921825  ...    7/16/2008          8.1         2008\n",
              "\n",
              "[1 rows x 14 columns]"
            ]
          },
          "metadata": {
            "tags": []
          },
          "execution_count": 25
        }
      ]
    },
    {
      "cell_type": "markdown",
      "metadata": {
        "id": "IAqJ4QfSNroZ"
      },
      "source": [
        "# 10. Самый убыточный фильм за период с 2012 по 2014 годы (включительно)?"
      ]
    },
    {
      "cell_type": "code",
      "metadata": {
        "id": "a6Lpxg6iN-nZ"
      },
      "source": [
        "answers['10'] = \"1245 The Lone Ranger (tt1210819)\" # +"
      ],
      "execution_count": 158,
      "outputs": []
    },
    {
      "cell_type": "code",
      "metadata": {
        "colab": {
          "base_uri": "https://localhost:8080/",
          "height": 205
        },
        "id": "CHY8oFmPRQx3",
        "outputId": "053d860c-b217-490e-8afd-94b4e7e1988f"
      },
      "source": [
        "data = pd.read_csv('movie_bd_v5.csv', encoding = 'utf-8')\n",
        "data['profit'] = data['revenue'] - data['budget']\n",
        "data.query('release_year > 2012 & release_year < 2014').sort_values('profit').head(1)"
      ],
      "execution_count": 27,
      "outputs": [
        {
          "output_type": "execute_result",
          "data": {
            "text/html": [
              "<div>\n",
              "<style scoped>\n",
              "    .dataframe tbody tr th:only-of-type {\n",
              "        vertical-align: middle;\n",
              "    }\n",
              "\n",
              "    .dataframe tbody tr th {\n",
              "        vertical-align: top;\n",
              "    }\n",
              "\n",
              "    .dataframe thead th {\n",
              "        text-align: right;\n",
              "    }\n",
              "</style>\n",
              "<table border=\"1\" class=\"dataframe\">\n",
              "  <thead>\n",
              "    <tr style=\"text-align: right;\">\n",
              "      <th></th>\n",
              "      <th>imdb_id</th>\n",
              "      <th>budget</th>\n",
              "      <th>revenue</th>\n",
              "      <th>original_title</th>\n",
              "      <th>cast</th>\n",
              "      <th>director</th>\n",
              "      <th>tagline</th>\n",
              "      <th>overview</th>\n",
              "      <th>runtime</th>\n",
              "      <th>genres</th>\n",
              "      <th>production_companies</th>\n",
              "      <th>release_date</th>\n",
              "      <th>vote_average</th>\n",
              "      <th>release_year</th>\n",
              "      <th>profit</th>\n",
              "    </tr>\n",
              "  </thead>\n",
              "  <tbody>\n",
              "    <tr>\n",
              "      <th>1245</th>\n",
              "      <td>tt1210819</td>\n",
              "      <td>255000000</td>\n",
              "      <td>89289910</td>\n",
              "      <td>The Lone Ranger</td>\n",
              "      <td>Johnny Depp|Armie Hammer|William Fichtner|Hele...</td>\n",
              "      <td>Gore Verbinski</td>\n",
              "      <td>Never Take Off the Mask</td>\n",
              "      <td>The Texas Rangers chase down a gang of outlaws...</td>\n",
              "      <td>149</td>\n",
              "      <td>Action|Adventure|Western</td>\n",
              "      <td>Walt Disney Pictures|Jerry Bruckheimer Films|I...</td>\n",
              "      <td>7/3/2013</td>\n",
              "      <td>6.0</td>\n",
              "      <td>2013</td>\n",
              "      <td>-165710090</td>\n",
              "    </tr>\n",
              "  </tbody>\n",
              "</table>\n",
              "</div>"
            ],
            "text/plain": [
              "        imdb_id     budget   revenue  ... vote_average release_year     profit\n",
              "1245  tt1210819  255000000  89289910  ...          6.0         2013 -165710090\n",
              "\n",
              "[1 rows x 15 columns]"
            ]
          },
          "metadata": {
            "tags": []
          },
          "execution_count": 27
        }
      ]
    },
    {
      "cell_type": "markdown",
      "metadata": {
        "id": "EA7Sa9dkVp_I"
      },
      "source": [
        "# 11. Какого жанра фильмов больше всего?"
      ]
    },
    {
      "cell_type": "code",
      "metadata": {
        "id": "E2ouLAgDe_zw"
      },
      "source": [
        "answers['11'] = 'Drama' # +"
      ],
      "execution_count": 159,
      "outputs": []
    },
    {
      "cell_type": "code",
      "metadata": {
        "colab": {
          "base_uri": "https://localhost:8080/"
        },
        "id": "2G75HnlsmchY",
        "outputId": "236b7b0c-08cc-4290-c46b-e37ca04fbd4d"
      },
      "source": [
        "import itertools\n",
        "from collections import Counter\n",
        "\n",
        "data = pd.read_csv('movie_bd_v5.csv', encoding = 'utf-8')\n",
        "data_genres = data.genres.apply(lambda s: str(s).split('|'))\n",
        "genres_list = list(itertools.chain(*data_genres))\n",
        "print(max(set(genres_list), key=lambda x: genres_list.count(x)))"
      ],
      "execution_count": 29,
      "outputs": [
        {
          "output_type": "stream",
          "text": [
            "Drama\n"
          ],
          "name": "stdout"
        }
      ]
    },
    {
      "cell_type": "markdown",
      "metadata": {
        "id": "Ax6g2C8SVp_M"
      },
      "source": [
        "ВАРИАНТ 2"
      ]
    },
    {
      "cell_type": "code",
      "metadata": {
        "colab": {
          "base_uri": "https://localhost:8080/"
        },
        "id": "TowZb7_v5ZF1",
        "outputId": "ad7f2e1e-67b5-4d4f-dd8c-d9dfa99f0318"
      },
      "source": [
        "pd.Series(genres_list).describe()"
      ],
      "execution_count": 130,
      "outputs": [
        {
          "output_type": "execute_result",
          "data": {
            "text/plain": [
              "count      5107\n",
              "unique       19\n",
              "top       Drama\n",
              "freq        782\n",
              "dtype: object"
            ]
          },
          "metadata": {
            "tags": []
          },
          "execution_count": 130
        }
      ]
    },
    {
      "cell_type": "markdown",
      "metadata": {
        "id": "xjFGRUBSsa4Z"
      },
      "source": [
        "ВАРИАНТ 3"
      ]
    },
    {
      "cell_type": "code",
      "metadata": {
        "colab": {
          "base_uri": "https://localhost:8080/"
        },
        "id": "EsnThBw6pJEf",
        "outputId": "c6755956-4a11-422a-959a-a8f5e20d9be3"
      },
      "source": [
        "pd.Series(genres_list).value_counts().head(1)\n"
      ],
      "execution_count": 31,
      "outputs": [
        {
          "output_type": "execute_result",
          "data": {
            "text/plain": [
              "Drama    782\n",
              "dtype: int64"
            ]
          },
          "metadata": {
            "tags": []
          },
          "execution_count": 31
        }
      ]
    },
    {
      "cell_type": "markdown",
      "metadata": {
        "id": "T9_bPWpkVp_Q"
      },
      "source": [
        "# 12. Фильмы какого жанра чаще всего становятся прибыльными? "
      ]
    },
    {
      "cell_type": "code",
      "metadata": {
        "id": "YYDF4G4tnwcz"
      },
      "source": [
        "answers['12'] = 'Drama' # +"
      ],
      "execution_count": 132,
      "outputs": []
    },
    {
      "cell_type": "code",
      "metadata": {
        "colab": {
          "base_uri": "https://localhost:8080/"
        },
        "id": "EvgUPIH3O-tD",
        "outputId": "9a98635c-269d-407b-f4eb-1d5fbcbd4772"
      },
      "source": [
        "import itertools\n",
        "from collections import Counter\n",
        "data = pd.read_csv('movie_bd_v5.csv', encoding = 'utf-8')\n",
        "data['profit'] = data['revenue'] - data['budget']\n",
        "data.genres = data.genres.apply(lambda x: str(x).split('|'))\n",
        "data = data.explode('genres')\n",
        "data[(data.profit>0)].groupby(['genres'])['profit'].count().sort_values(ascending=False).head(1)"
      ],
      "execution_count": 32,
      "outputs": [
        {
          "output_type": "execute_result",
          "data": {
            "text/plain": [
              "genres\n",
              "Drama    560\n",
              "Name: profit, dtype: int64"
            ]
          },
          "metadata": {
            "tags": []
          },
          "execution_count": 32
        }
      ]
    },
    {
      "cell_type": "markdown",
      "metadata": {
        "id": "0F23bgsDVp_U"
      },
      "source": [
        "# 13. У какого режиссера самые большие суммарные кассовые сборы?"
      ]
    },
    {
      "cell_type": "code",
      "metadata": {
        "id": "LD8bech-vz_j"
      },
      "source": [
        "answers['13'] = 'Peter Jackson' # +"
      ],
      "execution_count": 133,
      "outputs": []
    },
    {
      "cell_type": "code",
      "metadata": {
        "id": "K6Z3J8ygVp_X",
        "colab": {
          "base_uri": "https://localhost:8080/"
        },
        "outputId": "a55cb0dd-a522-4ded-f169-ab12b5cb9d45"
      },
      "source": [
        "data = pd.read_csv('movie_bd_v5.csv', encoding = 'utf-8')\n",
        "grouped = data.groupby(['director'])['revenue'].sum().sort_values(ascending=False).head(1)\n",
        "print(grouped)"
      ],
      "execution_count": 134,
      "outputs": [
        {
          "output_type": "stream",
          "text": [
            "director\n",
            "Peter Jackson    6490593685\n",
            "Name: revenue, dtype: int64\n"
          ],
          "name": "stdout"
        }
      ]
    },
    {
      "cell_type": "markdown",
      "metadata": {
        "id": "PsYC9FgRVp_a"
      },
      "source": [
        "# 14. Какой режисер снял больше всего фильмов в стиле Action?"
      ]
    },
    {
      "cell_type": "code",
      "metadata": {
        "id": "i5jc26hx5W8P"
      },
      "source": [
        "answers['14'] = 'Robert Rodriguez' # +"
      ],
      "execution_count": 135,
      "outputs": []
    },
    {
      "cell_type": "code",
      "metadata": {
        "colab": {
          "base_uri": "https://localhost:8080/"
        },
        "id": "DvlSi5kj9uaQ",
        "outputId": "5071f43c-0145-4ed8-c2a0-5a6e5d145020"
      },
      "source": [
        "data = pd.read_csv('movie_bd_v5.csv', encoding = 'utf-8')\n",
        "data_action = data[data.genres.str.contains('Action')] #фильтруем df только из фильмов жанра Action\n",
        "'''объединяем строку директоров, которые снимали фильмы в жанре Action \n",
        "и перезаписываем измененный столбец под тем же именем:'''\n",
        "directors = data_action['director'].str.cat(sep='|')\n",
        "result=pd.Series(directors.split('|')) # создаем серию с разделителями |\n",
        "result = result.value_counts(ascending=False) # подсчитываем количество повторений имен директоров\n",
        "print(result.head(1))"
      ],
      "execution_count": 36,
      "outputs": [
        {
          "output_type": "stream",
          "text": [
            "Robert Rodriguez    9\n",
            "dtype: int64\n"
          ],
          "name": "stdout"
        }
      ]
    },
    {
      "cell_type": "markdown",
      "metadata": {
        "id": "PQ0KciD7Vp_f"
      },
      "source": [
        "# 15. Фильмы с каким актером принесли самые высокие кассовые сборы в 2012 году? "
      ]
    },
    {
      "cell_type": "code",
      "metadata": {
        "id": "eJySOXgIFmbF"
      },
      "source": [
        "answers['15'] = 'Chris Hemsworth' # +"
      ],
      "execution_count": 136,
      "outputs": []
    },
    {
      "cell_type": "code",
      "metadata": {
        "colab": {
          "base_uri": "https://localhost:8080/"
        },
        "id": "GDKMB5xpFPEa",
        "outputId": "62b35383-2f01-4081-b3c7-d6454c14694b"
      },
      "source": [
        "data = pd.read_csv('movie_bd_v5.csv', encoding = 'utf-8')\n",
        "data.cast = data.cast.apply(lambda x: str(x).split('|'))\n",
        "data = data.explode('cast')\n",
        "data[data.release_year == 2012].groupby('cast').revenue.sum().sort_values(ascending=False).head(1)"
      ],
      "execution_count": null,
      "outputs": [
        {
          "output_type": "execute_result",
          "data": {
            "text/plain": [
              "cast\n",
              "Chris Hemsworth    2027450773\n",
              "Name: revenue, dtype: int64"
            ]
          },
          "metadata": {
            "tags": []
          },
          "execution_count": 38
        }
      ]
    },
    {
      "cell_type": "markdown",
      "metadata": {
        "id": "mWHyyL7QVp_j"
      },
      "source": [
        "# 16. Какой актер снялся в большем количестве высокобюджетных фильмов?"
      ]
    },
    {
      "cell_type": "code",
      "metadata": {
        "id": "AMNZQPs8b5MJ"
      },
      "source": [
        "answers['16'] = 'Matt Damon' # +"
      ],
      "execution_count": 137,
      "outputs": []
    },
    {
      "cell_type": "code",
      "metadata": {
        "colab": {
          "base_uri": "https://localhost:8080/"
        },
        "id": "O6J-n2q_mCjj",
        "outputId": "6bcfd4fb-7762-4d5b-87ad-e5d2031672c1"
      },
      "source": [
        "data = pd.read_csv('movie_bd_v5.csv', encoding = 'utf-8')\n",
        "pd.Series(data[data.budget > data.budget.mean()].cast.str.split('|').sum()).value_counts().head(1)"
      ],
      "execution_count": 38,
      "outputs": [
        {
          "output_type": "execute_result",
          "data": {
            "text/plain": [
              "Matt Damon    18\n",
              "dtype: int64"
            ]
          },
          "metadata": {
            "tags": []
          },
          "execution_count": 38
        }
      ]
    },
    {
      "cell_type": "markdown",
      "metadata": {
        "id": "NIh6AaW5Vp_n"
      },
      "source": [
        "# 17. В фильмах какого жанра больше всего снимался Nicolas Cage? "
      ]
    },
    {
      "cell_type": "code",
      "metadata": {
        "id": "g7lU7JsdpP_1"
      },
      "source": [
        "answers['17'] = 'Action' # +"
      ],
      "execution_count": 138,
      "outputs": []
    },
    {
      "cell_type": "code",
      "metadata": {
        "colab": {
          "base_uri": "https://localhost:8080/"
        },
        "id": "PpbMyb1oU-Dp",
        "outputId": "0b91e13d-4559-47df-8125-1d54ea5f30b2"
      },
      "source": [
        "data = pd.read_csv('movie_bd_v5.csv', encoding = 'utf-8')\n",
        "data_NC = data[data.cast.str.contains('Nicolas Cage')] #фильтруем df по NC\n",
        "genres_NC = data_NC.genres.str.cat(sep='|') #объединяем все жанры NC и перезаписываем измененный столбец под тем же именем\n",
        "result3 = pd.Series(genres_NC.split('|')) # превращаем строку в серию с разделителями |\n",
        "result3 = result3.value_counts(ascending=False) # подсчитываем количество повторений имен директоров\n",
        "print(result3.head(1))"
      ],
      "execution_count": 40,
      "outputs": [
        {
          "output_type": "stream",
          "text": [
            "Action    17\n",
            "dtype: int64\n"
          ],
          "name": "stdout"
        }
      ]
    },
    {
      "cell_type": "markdown",
      "metadata": {
        "id": "RqOmPRfWVp_q"
      },
      "source": [
        "# 18. Самый убыточный фильм от Paramount Pictures"
      ]
    },
    {
      "cell_type": "code",
      "metadata": {
        "id": "UYDigklcx4RG"
      },
      "source": [
        "answers['18'] = 'K-19: The Widowmaker' # +"
      ],
      "execution_count": 139,
      "outputs": []
    },
    {
      "cell_type": "code",
      "metadata": {
        "id": "9E_B0Y96Vp_r",
        "colab": {
          "base_uri": "https://localhost:8080/"
        },
        "outputId": "58def02d-cf22-41d6-8808-472f4a7ec012"
      },
      "source": [
        "data = pd.read_csv('movie_bd_v5.csv', encoding = 'utf-8')\n",
        "data['profit'] = data['revenue'] - data['budget']\n",
        "data.production_companies = data.production_companies.apply(lambda x: str(x).split('|'))#разделяем столбец датафрейма на серию из списков по разделителю |\n",
        "data = data.explode('production_companies') #преобразовываем каждый элемент df в строку, реплицируя значения индекса\n",
        "data[(data.production_companies == 'Paramount Pictures')].groupby('original_title').profit.min().sort_values(ascending=True).head(1)\n"
      ],
      "execution_count": 42,
      "outputs": [
        {
          "output_type": "execute_result",
          "data": {
            "text/plain": [
              "original_title\n",
              "K-19: The Widowmaker   -64831034\n",
              "Name: profit, dtype: int64"
            ]
          },
          "metadata": {
            "tags": []
          },
          "execution_count": 42
        }
      ]
    },
    {
      "cell_type": "markdown",
      "metadata": {
        "id": "vS8Ur6ddVp_u"
      },
      "source": [
        "# 19. Какой год стал самым успешным по суммарным кассовым сборам?"
      ]
    },
    {
      "cell_type": "code",
      "metadata": {
        "id": "RcSFPA_o1Q0N"
      },
      "source": [
        "answers['19'] = '2015' # +"
      ],
      "execution_count": 140,
      "outputs": []
    },
    {
      "cell_type": "code",
      "metadata": {
        "id": "Dnbt4GdIVp_v",
        "colab": {
          "base_uri": "https://localhost:8080/"
        },
        "outputId": "7f5c6cae-a8bb-48c6-f12b-a3bd488d009b"
      },
      "source": [
        "data = pd.read_csv('movie_bd_v5.csv', encoding = 'utf-8')\n",
        "data.groupby('release_year').revenue.sum().sort_values(ascending=False).head(1)"
      ],
      "execution_count": 44,
      "outputs": [
        {
          "output_type": "execute_result",
          "data": {
            "text/plain": [
              "release_year\n",
              "2015    25449202382\n",
              "Name: revenue, dtype: int64"
            ]
          },
          "metadata": {
            "tags": []
          },
          "execution_count": 44
        }
      ]
    },
    {
      "cell_type": "markdown",
      "metadata": {
        "id": "JAzJh4QAVp_z"
      },
      "source": [
        "# 20. Какой самый прибыльный год для студии Warner Bros?"
      ]
    },
    {
      "cell_type": "code",
      "metadata": {
        "id": "anh-tURX3ie4"
      },
      "source": [
        "answers['20'] = '2014' # +"
      ],
      "execution_count": 141,
      "outputs": []
    },
    {
      "cell_type": "code",
      "metadata": {
        "colab": {
          "base_uri": "https://localhost:8080/"
        },
        "id": "oexYXvLp3gP5",
        "outputId": "64754fc3-8dac-47ff-a150-f76183328ea0"
      },
      "source": [
        "data = pd.read_csv('movie_bd_v5.csv', encoding = 'utf-8')\n",
        "data['profit'] = data['revenue'] - data['budget']\n",
        "print(get_unique(data.production_companies))\n",
        "warner_df = data[data['production_companies'].str.contains('Warner Bros')]\n",
        "warner_df.groupby(['release_year'])['profit'].sum().sort_values(ascending = False).head(1)"
      ],
      "execution_count": 46,
      "outputs": [
        {
          "output_type": "stream",
          "text": [
            "['Universal Studios|Amblin Entertainment|Legendary Pictures|Fuji Television Network|Dentsu', 'Village Roadshow Pictures|Kennedy Miller Productions', 'Summit Entertainment|Mandeville Films|Red Wagon Entertainment|NeoReel', 'Lucasfilm|Truenorth Productions|Bad Robot', 'Universal Pictures|Original Film|Media Rights Capital|Dentsu|One Race Films', 'Regency Enterprises|Appian Way|CatchPlay|Anonymous Content|New Regency Pictures', 'Paramount Pictures|Skydance Productions', 'Twentieth Century Fox Film Corporation|Scott Free Productions|Mid Atlantic Films|International Traders|TSG Entertainment', 'Universal Pictures|Illumination Entertainment', 'Walt Disney Pictures|Pixar Animation Studios|Walt Disney Studios Motion Pictures', 'Columbia Pictures|Danjaq|B24', 'Village Roadshow Pictures|Dune Entertainment|Anarchos Productions|Warner Bros.', 'DNA Films|Universal Pictures International (UPI)|Film4', 'Columbia Pictures|Happy Madison Productions', 'Marvel Studios|Prime Focus|Revolution Sun Studios', 'Double Feature Films|The Weinstein Company|FilmColony', 'Twentieth Century Fox Film Corporation|M6 Films|Canal+|EuropaCorp|CinÃ©+', 'Marvel Studios', 'Walt Disney Pictures|Genre Films|Beagle Pug Films|Allison Shearmur Productions', 'Studio Babelsberg|StudioCanal|Lionsgate|Walt Disney Studios Motion Pictures|Color Force', 'Walt Disney Pictures|Babieka|A113', 'Escape Artists|Riche-Ludwig Productions', 'New Line Cinema|Village Roadshow Pictures|Warner Bros.|Flynn Picture Company', 'Focus Features|Trigger Street Productions|Michael De Luca Productions', 'Paramount Pictures|Plan B Entertainment|Regency Enterprises', 'Paramount Pictures|Skydance Productions|China Movie Channel|Bad Robot|TC Productions', 'Universal Pictures|Media Rights Capital|Fuzzy Door Productions', 'Twentieth Century Fox Film Corporation|Marv Films|TSG Entertainment|Cloudy Productions', 'Participant Media|Open Road Films|Anonymous Content|Rocklin / Faust|Entertainment One Features', 'Gotham Group|Temple Hill Entertainment|TSG Entertainment', 'Columbia Pictures|Media Rights Capital|Sony Pictures Entertainment (SPE)|Alpha Core|Genre Films', 'Universal Pictures|Gold Circle Films|Brownstone Productions', 'DreamWorks SKG|Amblin Entertainment|Studio Babelsberg|Fox 2000 Pictures|Marc Platt Productions', 'Columbia Pictures|Original Film|Scholastic Entertainment', 'Element Pictures|No Trace Camping|A24|Duperele Films', 'Walt Disney Pictures|Pixar Animation Studios|Buena Vista', 'Vertigo Entertainment|Energy Entertainment|RatPac-Dune Entertainment', 'Wildgaze Films|Irish Film Board|Item 7|Parallel Film Productions', 'New Line Cinema|Universal Pictures|Legendary Pictures|Cube Vision|Broken Chair Flickz', 'Summit Entertainment|Atmosphere Entertainment MM|One Race Films|Goldmann Pictures|NeoReel', 'Davis Entertainment|Warner Bros.|Wigram Productions|RatPac-Dune Entertainment', 'Lakeshore Entertainment|Sidney Kimmel Entertainment|Sierra/Affinity', 'Bazelevs Production|Versus Pictures', 'Twentieth Century Fox Film Corporation|DreamWorks Animation', 'Fox 2000 Pictures', 'Killer Films|Film4|Number 9 Films', 'Waverly Films|Warner Bros.', 'Universal Pictures|Working Title Films|Walden Media|Cross Creek Pictures|Free State Pictures', 'Studio Babelsberg|Alcon Entertainment|DMG Entertainment|Ehman Productions', 'Double Feature Films|PeaPie Films|3 Arts Entertainment', 'Endgame Entertainment|Ram Bergman Productions', 'Lionsgate|Mad Chance|OddLot Entertainment|Huayi Brothers Media', 'Pretty Pictures|Working Title Films|ArtÃ©mis Productions|Le Tax Shelter du Gouvernement FÃ©dÃ©ral de Belgique|Taxshelter. be', 'Universal Pictures|Forward Pass|Legendary Pictures', 'Lionsgate|Thunder Road Pictures|Black Label Media', 'Twentieth Century Fox Film Corporation|Marv Films|Marvel Entertainment|Constantin Film.|Moving Picture Company (MPC)', 'Twentieth Century Fox Film Corporation|Chernin Entertainment|Feigco Entertainment', 'Kramer & Sigman Films|RatPac-Dune Entertainment|Zaftig Films', 'Twentieth Century Fox Film Corporation|Fox International Productions|Infinite Frameworks Studios|TSG Entertainment', 'Imagine Entertainment|Spring Creek Productions|Warner Bros.|Roth Films|K. JAM Media', 'New Line Cinema|Warner Bros.|Metro-Goldwyn-Mayer (MGM)|Chartoff-Winkler Productions', 'Universal Pictures|Fuji Television Network|Dentsu|Apatow Productions', 'Entertainment One|Moonlighting Films|Raindog Films', 'Working Title Films|Cross Creek Pictures|Anton Capital Entertainment (ACE)', 'Warner Bros.|Moving Picture Company (MPC)|Berlanti Productions|RatPac-Dune Entertainment', 'Blue Sky Studios|Twentieth Century Fox Animation|Feigco Entertainment', 'Village Roadshow Pictures|Scott Free Productions|LStar Capital|The Cantillon Company|The Shuman Company', 'Sony Pictures|Point Grey Pictures|Good Universe', 'Fox 2000 Pictures|Temple Hill Entertainment', 'Columbia Pictures|Sony Pictures Animation', 'Imagine Entertainment|Groundswell Productions|CBS Films', 'TriStar Pictures|Sony Pictures Entertainment|ImageMovers', 'New Line Cinema|BenderSpink|David Dobkin Productions', 'Ghost House Pictures|Vertigo Entertainment|Metro-Goldwyn-Mayer (MGM)|TSG Entertainment', 'Summit Entertainment|Scott Free Productions|Worldview Entertainment', 'Blumhouse Productions|Blue-Tongue Films|STX Entertainment|Ahimsa Films', 'Paramount Pictures|Gary Sanchez Productions|Good Universe|Red Granite Pictures', 'Onyx Films|Orange Studios|CityMation|On Entertainment|Zippcast Films', 'Amazon Studios|Film Art Media|Apollo Media', 'Wonderland Sound and Vision|CBS Films|Vast Entertainment', 'Alliance Films|Blumhouse Productions|IM Global|Automatik Entertainment|Entertainment One', 'Columbia Pictures|Happy Madison Productions|Sony Pictures Releasing|Sony Pictures Home Entertainment|Sony Pictures Entertainment (SPE)', 'Warner Bros.|Closest to the Hole Productions', 'Miramax Films|Screen Gems|LStar Capital', 'Blumhouse Productions|Blinding Edge Pictures', 'Infinitum Nihil|Head Gear Films|Cross Creek Pictures|Free State Pictures|RatPac-Dune Entertainment', 'Universal Pictures|Legendary Pictures', 'Bold Films|Living Films|Brothers Dowdle Productions', 'BBC Films|Origin Pictures', 'Little Stranger', 'Paramount Pictures|MTV Films|Platinum Dunes|Insurge Pictures', 'EuropaCorp', 'Legendary Pictures', 'Warner Bros.|Iron Horse Entertainment (II)', 'Paramount Pictures|Blumhouse Productions', 'Groundswell Productions|Inimitable Pictures|ShivHans Pictures', 'Ingenious Media|Gran Via Productions|IM Global|Route One Films', 'Paramount Pictures|Nickelodeon Movies|Nickelodeon Animation Studios|United Plankton Pictures|Disruption Entertainment', 'Sunswept Entertainment|Warner Bros.|Metro-Goldwyn-Mayer (MGM)', 'StudioCanal|Silver Pictures|TF1 Films Production|Canal+|Instituto de la CinematografÃ\\xada y de las Artes Audiovisuales (ICAA)', 'New Line Cinema|Warner Bros.|Metro-Goldwyn-Mayer (MGM)|Pacific Standard', 'Sony Pictures', 'BBC Films|TriStar Productions', 'Twentieth Century Fox Film Corporation|Davis Entertainment|Moving Picture Company (MPC)|TSG Entertainment', 'Columbia TriStar|Clinica Estetico|LStar Capital', 'Screen Gems', 'Scott Rudin Productions|A24', 'Gary Sanchez Productions|Warner Bros.', 'Ruby Films|PathÃ©|Film4', 'Working Title Films', 'Metanoia Films', 'Columbia Pictures|Vinyl Films|Regency Enterprises|Sony Pictures Entertainment (SPE)|RatPac Entertainment', 'Participant Media|Smokehouse Pictures', 'Shangri-La Entertainment|QED International|Dune Films|Venture Forth', 'Wildwood Enterprises|Route One Films', 'Studio Babelsberg|Regency Enterprises|Escape Artists|New Regency Pictures', 'Treehouse Pictures', 'Universal Pictures|Blumhouse Productions|Hasbro Studios|Allspark Pictures', 'Paramount Pictures|Legendary Pictures|Warner Bros.|Syncopy|Lynda Obst Productions', 'Marvel Studios|Moving Picture Company (MPC)|Bulletproof Cupid|Revolution Sun Studios', 'Thunder Road Pictures|Warner Bros.|87Eleven|DefyNite Films|MJW Films', 'Lionsgate|Color Force', 'WingNut Films|New Line Cinema|3Foot7|Metro-Goldwyn-Mayer (MGM)', 'Walt Disney Pictures|Walt Disney Animation Studios', 'Black Bear Pictures|Bristol Automotive', 'Ingenious Media|Twentieth Century Fox Film Corporation|Gotham Group|Dayday Films|Temple Hill Entertainment', 'Worldview Entertainment|New Regency Pictures|TSG Entertainment|Le Grisbi Productions|M Productions', 'Twentieth Century Fox Film Corporation|Regency Enterprises|New Regency Pictures|Pacific Standard|TSG Entertainment', 'Columbia Pictures|QED International|Crave Films|LStar Capital|Huayi Brothers Media', 'Twentieth Century Fox Film Corporation|1492 Pictures|21 Laps Entertainment|Moving Picture Company (MPC)|TSG Entertainment', 'Summit Entertainment|Red Wagon Entertainment', \"Twentieth Century Fox Film Corporation|Donners' Company|Marvel Entertainment|Bad Hat Harry Productions|TSG Entertainment\", 'Universal Pictures|TF1 Films Production|Canal+|EuropaCorp|CinÃ©+', 'Paramount Pictures|Nickelodeon Movies|Platinum Dunes', 'Escape Artists|Media Rights Capital|Sony Pictures Entertainment (SPE)|LStar Capital', 'Bold Films|Sierra / Affinity', 'Paramount Pictures|Amblin Entertainment|Di Bonaventura Pictures|Platinum Dunes|Hasbro', 'Fox Searchlight Pictures|Scott Rudin Productions|Studio Babelsberg|Indian Paintbrush|TSG Entertainment', 'Ingenious Media|Chernin Entertainment|TSG Entertainment', 'Columbia Pictures|Village Roadshow Pictures|Escape Artists|Mace Neufeld Productions|LStar Capital', 'New Line Cinema|BenderSpink|RatPac Entertainment', 'Columbia Pictures|Marvel Enterprises|Avi Arad Productions|Matt Tolmach Productions', 'Village Roadshow Pictures|Warner Bros.|Viz Media|Province of British Columbia Production Services Tax Credit|3 Arts Entertainment', 'Columbia TriStar', 'Village Roadshow Pictures|Malpaso Productions|Warner Bros.|RatPac-Dune Entertainment|Mad Chance Productions', 'Scott Free Productions|Chernin Entertainment|Babieka|Volcano Films', 'Toho Company|Legendary Pictures|Warner Bros.|Disruption Entertainment|RatPac-Dune Entertainment', 'Walt Disney Pictures|Roth Films', 'Irish Dreamtime|Relativity Media|SPD Films', 'Universal Pictures|Platinum Dunes|Media Rights Capital|Hasbro|Blumhouse Productions', 'DreamWorks Animation|Mad Hatter Entertainment', 'Davis-Films|Nu Image Films|LionsGate|Millennium Films|Ex3 Productions', 'Village Roadshow Pictures|DC Comics|Vertigo Entertainment|Lin Pictures|Warner Bros. Animation', 'Legendary Pictures|Thunder Road Pictures|Outlaw Sinema|Moving Picture Company (MPC)|Pendle Mountain Productions', 'Twentieth Century Fox Film Corporation|WideAwake|Genre Films', 'Universal Pictures|Legendary Pictures|Fuji Television Network|Dentsu|Michael De Luca Productions', 'DreamWorks Animation', 'Walt Disney Pictures|Marc Platt Productions|Lucamar Productions', 'Legendary Pictures|Hollywood Gang Productions|Atmosphere Entertainment MM|Warner Bros.|Nimar Studios', 'The Weinstein Company|Walden Media|Tonik Productions|Asis Productions', 'Columbia Pictures|Original Film|Media Rights Capital|Metro-Goldwyn-Mayer (MGM)|Cannell Studios', 'Double Feature Films|Jersey Films|1984 Private Defense Contractors|Cross Creek Pictures|Exclusive Media Group', 'The Weinstein Company|StudioCanal|TF1 Films Production|Canal+|Heyday Films', \"Echo Films|We're Not Brothers Productions|Cinelou Films\", 'Open Road Films|Aldamisa Entertainment|Kilburn Media|Fetisov Teterin Films', 'Universal Pictures|Why Not Productions|Platinum Dunes|Blumhouse Productions|5150 Action', 'Stoney Lake Entertainment', 'Participant Media|Imagenation Abu Dhabi FZ|FilmNation Entertainment|Before the Door Pictures|Washington Square Films', 'Paramount Pictures|Metro-Goldwyn-Mayer (MGM)|Radical Studios|Flynn Picture Company', 'Paramount Pictures|Regency Enterprises|Protozoa Pictures|Disruption Entertainment', 'Village Roadshow Pictures|Warner Bros.|Big Kid Pictures|Team Downey', 'Happy Madison Productions|Karz Entertainment|Warner Bros.|Gulfstream Pictures', 'Universal Pictures|Point Grey Pictures|Good Universe', 'New Line Cinema|Metro-Goldwyn-Mayer (MGM)', 'Summit Entertainment|Offspring Entertainment', 'Fox 2000 Pictures|Temple Hill Entertainment|TSG Entertainment', 'Universal Pictures|Rainforest Films|Cube Vision|Relativity Media', 'Ghoulardi Film Company|Warner Bros.', 'Paramount Pictures|Di Bonaventura Pictures|Mace Neufeld Productions|Skydance Productions|Etalon film', 'StudioCanal|Silver Pictures|TF1 Films Production|Canal+|Anton Capital Entertainment (ACE)', 'Screen Australia|Screen Queensland|Blacklab Entertainment|Wolfhound Pictures', 'Columbia Pictures|Strike Entertainment|Metro-Goldwyn-Mayer (MGM)', 'Alcon Entertainment|Syncopy|DMG Entertainment|Straight Up Films', 'Twentieth Century Fox Film Corporation|LBI Productions', '20th Century Fox', 'Miramax Films|Troublemaker Studios|AR Films|Aldamisa Entertainment|Demarest Films', 'Blue Sky Studios|Twentieth Century Fox Animation', 'New Line Cinema|Universal Pictures|Conundrum Entertainment|Red Granite Pictures', 'Columbia Pictures|Studio Babelsberg|Fox 2000 Pictures|Smokehouse Pictures|Obelisk Productions', 'Legendary Pictures|3 Arts Entertainment|Jolie Pas', 'Plan B Entertainment|Harpo Films|Celador Films|Cloud Eight Films|PathÃ©', 'Impact Pictures|TriStar Pictures|Don Carmody Productions|FilmDistrict|Constantin Film International', 'Relativity Media', 'Columbia Pictures|Sony Pictures Entertainment (SPE)|Overbrook Entertainment', 'The Weinstein Company|Crescendo Productions|Chernin Entertainment|Goldenlight Films', 'DreamWorks SKG|Reliance Entertainment|Bandito Brothers|Touchstone Pictures|Electronic Arts', 'Amblin Entertainment|Harpo Films|Participant Media|Imagenation Abu Dhabi FZ|Reliance Entertainment', 'Laika Entertainment', 'The Weinstein Company|Silverwood Films|Electric City Entertainment|Tim Burton Productions', 'Grindstone Entertainment Group|Emmett/Furla Films|Oasis Films|Aperture Entertainment', 'New Line Cinema|Village Roadshow Pictures|Broken Road Productions', 'Walt Disney Pictures|DisneyToon Studios|Prana Studios|Prana Animation Studios', 'Open Road Films|QED International|Albert S. Ruddy Productions|Crave Films|Roth Films', 'Sony Pictures|Screen Gems', 'Likely Story|Media Rights Capital|Annapurna Pictures', 'Universal Pictures|Fake Empire|Bluegrass Films', 'Porchlight Films|FilmNation Entertainment|Screen Australia|Screen NSW|Blue-Tongue Films', 'Qwerty Films|Alliance Films|Canal+|TF1 Droits Audiovisuels|Scope Pictures', 'New Line Cinema|The Safran Company|Evergreen Media Group|RatPac-Dune Entertainment', 'Lakeshore Entertainment|Sidney Kimmel Entertainment|Lionsgate|Hopscotch Films', 'Canal+|EuropaCorp|CinÃ©+|D8', 'New Line Cinema|Gary Sanchez Productions', 'Village Roadshow Pictures|Weed Road Pictures|Warner Bros.', 'HanWay Films|Snoot Entertainment', 'Hopscotch Features|RatPac Entertainment|Seven West Media|Fear of God Films|Seven Group Holdings', 'Walt Disney Pictures|21 Laps Entertainment|Jim Henson Company, The', 'Spring Creek Productions|21 Laps Entertainment|Warner Bros.', 'Screen Gems, Inc.|Rainforest Films|Olive Bridge Entertainment', 'Walt Disney Pictures', 'Scottish Screen|UK Film Council|FilmNation Entertainment|Nick Wechsler Productions|Creative Scotland', 'Warner Bros.|Warner Bros. Interactive Entertainment|Rob Thomas Productions', 'Hearst Entertainment Productions|LightWorkers Media', 'Mandalay Pictures|Affirm Films', 'Fox International Productions|Sahara Productions|Silvatar Media', 'The Combine|Bluegrass Films', 'Alcon Entertainment|Color Force|Boxing Cat Films', 'Buena Vista|Disney', 'TriStar Pictures|Screen Gems|Roth Films', 'Millennium Films', 'TriStar Pictures|Provident Films|Pure Flix Entertainment|Affirm Films|FourBoys Entertainment', 'Walt Disney Studios Motion Pictures|Panay Films', 'Paramount Pictures|Winkler Films', 'Max Films Productions|Morag Loves Company', 'Pure Flix Entertainment', 'Twentieth Century Fox Film Corporation|Davis Entertainment|TSG Entertainment', 'Ingenious Film Partners|Twentieth Century Fox Film Corporation|Dune Entertainment|Lightstorm Entertainment', 'Universal Pictures|A Band Apart|Zehnte Babelsberg|Visiona Romantica', 'Lakeshore Entertainment|Screen Gems|Sketch Films|UW3 Film Productions', 'Warner Bros.|Heyday Films', 'Walt Disney Pictures|Pixar Animation Studios', 'Paramount Pictures|Spyglass Entertainment|Bad Robot|MavroCine Pictures GmbH & Co. KG', 'Columbia Pictures|The Halcyon Company|Wonderland Sound and Vision|Warner Bros.', 'WingNut Films|TriStar Pictures|Key Creatives|Block / Hanson|Canadian Film or Video Production Tax Credit (CPTC)', 'Village Roadshow Pictures|Silver Pictures|Warner Bros.|Internationale Filmproduktion Blackbird Dritte|Wigram Productions', 'Fox Searchlight Pictures|Watermark|Dune Entertainment III', 'Legendary Pictures|Green Hat Films|Warner Bros.|IFP Westcoast Erste', 'Paramount Pictures|DC Comics|Lawrence Gordon Productions|Legendary Pictures|Warner Bros.', 'Columbia Pictures|Centropolis Entertainment|The Mark Gordon Company|Farewell Productions', 'Focus Films|Starz Animation|Relativity Media|Tim Burton Productions|Arc Productions', 'Columbia Pictures|Imagine Entertainment|Panorama Films|Skylark Productions', 'Alcon Entertainment|Left Tackle Pictures|Zucker/Netter Productions', 'Columbia Pictures', 'Summit Entertainment|Maverick Films|Imprint Entertainment|Sunswept Entertainment|Temple Hill Entertainment', 'New Line Cinema|Flower Films (II)|Internationale Filmproduktion Blackswan', 'Paramount Pictures|Spyglass Entertainment|Di Bonaventura Pictures|Hasbro|Kontsept Film Company', 'Touchstone Pictures|Mandeville Films|Kurtzman/Orci', 'Lakeshore Entertainment|Relativity Media', 'Twentieth Century Fox Film Corporation|Regency Enterprises|Indian Paintbrush|Twentieth Century Fox Animation|American Empirical Pictures', 'Focus Features|Laika Entertainment', 'Twentieth Century Fox Film Corporation|1492 Pictures|Dune Entertainment|21 Laps Entertainment|Museum Canada Productions', 'New Line Cinema|Offspring Entertainment', 'Walt Disney|ImageMovers', 'WingNut Films|DreamWorks SKG|Key Creatives|Film4|Goldcrest Pictures', 'Columbia Pictures|Happy Madison Productions|Relativity Media', 'Grand Army Entertainment|Scion Films|Inferno Distribution|Stage 6 Films|Hachiko', 'Film Department, The|Evil Twins|Warp Films', 'Media Rights Capital|Lin Pictures|Warner Bros.|Darko Entertainment|Radar Pictures', 'Lakeshore Entertainment|Lionsgate|Radical Media', 'Impact Pictures|Constantin Film Produktion', 'Universal Pictures|Ghost House Pictures|Mandate Pictures|Buckaroo Entertainment|Curse Productions', 'Summit Entertainment|Mystery Clock Cinema|Escape Artists|Goldcrest Pictures|Kaplan/Perrone Entertainment', 'Liberty Films UK|Lunar Industries|Xingu Films|Limelight Fund', 'Walt Disney Pictures|Jerry Bruckheimer Films|Whamaphram Productions', 'Columbia Pictures|Escape Artists|Scott Free Productions|Relativity Media|Metro-Goldwyn-Mayer (MGM)', 'Media Rights Capital|Lin Pictures|Warner Bros.|Wintergreen Productions|Lynda Obst Productions', 'Jerry Bruckheimer Films|Touchstone Pictures', 'Lakeshore Entertainment|Lionsgate', 'Pan EuropÃ©enne Production|Virtual Films', 'Universal Pictures|Wild West Picture Show Productions|Stuber Productions|Relativity Media', 'Lionsgate|Relativity Media|Sighvatsson Films|Michael De Luca Productions|Palomar Pictures (II)', '2929 Productions|Dimension Films|Nick Wechsler Productions|Chockstone Pictures', 'Columbia Pictures|Scott Rudin Productions|Easy There Tiger Productions', 'StudioCanal|Montecito Picture Company, The|Outpost Studios', 'Universal Pictures|Appian Way|Forward Pass|Dentsu|Relativity Media', 'Dune Entertainment|Fox Atomic', 'Dark Castle Entertainment|Studio Babelsberg StudioBabelsberg Motion Pictures|Don Carmody Productions|Studio Canal', 'Dune Entertainment|Fox 2000 Pictures|Fortis Films|Dune Entertainment III|Radar Pictures', 'New Line Cinema|Practical Pictures|Parallel Zide', 'Regency Enterprises|Fox 2000 Pictures|Bagdasarian Productions', 'Dune Entertainment|Regency Enterprises|Fox 2000 Pictures|Dune Entertainment III|New Regency Pictures', 'Smokewood Entertainment Group', 'Universal Pictures|StudioCanal|Andell Entertainment|Relativity Media|Working Title Films', 'Rogue Pictures|Phantom Four|Platinum Dunes|Relativity Media', 'DreamWorks SKG|The Montecito Picture Company|De Line Pictures|Bernard Gayle Productions', 'Section Eight|Groundswell Productions|Warner Bros.|Participant Media|Jaffe / Braunstein Enterprise', 'Walt Disney Pictures|Gunn Films', 'Paramount Vantage|Anonymous Content|Misher Films|Case 39 Productions', 'Universal Pictures|Studio Canal|Working Title Films|Medienproduktion Prometheus Filmgesellschaft|Portobello Studios', 'Lionsgate|Furst Films|Pictures in Paradise|Pacific Film and Television Commission|Australian Film Finance Corporation (AFFC)', 'Universal Pictures|Stuber Productions|Camp / Thompson Pictures|Relativity Media|Scion Films', 'Icon Productions|Infinity Features Entertainment|Summit Entertainment', 'Nu Image Films|Langley Productions|Thunder Road Productions|Fuqua Films|Millennium Films', 'Lionsgate|Twisted Pictures', 'GK Films', 'Mike Zoss Productions|Studio Canal|Relativity Media|Focus Features|Working Title Films', 'Davis Entertainment|Relativity Media|Rogue|QED International|Tooley Productions', 'StudioCanal|Dark Castle Entertainment|Don Carmody Productions|Warner Bros.|Canadian Film or Video Production Tax Credit (CPTC)', 'The Mark Gordon Company|Fox Atomic|20th Century Fox Home Entertainment|WWE Studios|Midnight Sun Pictures', 'Vidhu Vinod Chopra Productions', 'Paramount Pictures|DreamWorks SKG|Amblin Entertainment|Di Bonaventura Pictures|Platinum Dunes', 'BBC Films|Smoke House', 'Studio Babelsberg|Anarchos Productions|Legendary Pictures|Dark Castle Entertainment|Silver Pictures', 'Summit Entertainment|Goldsmith-Thomas Productions|Walden Media', 'Universal Pictures|Scott Rudin Productions|Waverly Films|Dentsu|Relativity Media', 'Universal Pictures|Mosaic Media Group|Relativity Media|Sid & Marty Krofft Pictures', 'Spyglass Entertainment|Malpaso Productions|Revelations Entertainment|Mace Neufeld Productions|Warner Bros.', 'TriStar Pictures|Ilion Animation Studios|Hand Made Films', 'Columbia Pictures|Ocean Pictures|Apatow Productions', 'Lionsgate', 'Walt Disney Pictures|Tapestry Films', 'HimenÃ³ptero|Telecinco Cinema|Mod Producciones|Nimar Studios|Canal+ EspaÃ±a', 'Chris Brinker Productions|Stage 6 Films', 'Saturn Films|Nu Image Films|Edward R. Pressman Film|Millennium Films|Polsky Films', 'Screen Gems|Stars Road Entertainment|Farah Films & Management|Buckaroo Entertainment', 'Universal Pictures', 'BBC Films', 'Columbia Pictures|Universal Pictures|Happy Madison Productions|Relativity Media|Apatow Productions', 'Paramount Pictures', 'The Weinstein Company|Summit Entertainment|Tezuka Production Company Ltd.|Imagi Animation Studios', 'Studio Babelsberg|Atlas Entertainment|Mosaic Media Group|X-Filme Creative Pool', 'Universal Pictures|Original Film|One Race Productions|Dentsu Inc.|Relativity Media', 'The Weinstein Company|Paramount Vantage', 'Dimension Films|Spectacle Entertainment Group|Trancas International Films', \"Walt Disney Pictures|It's a Laugh Productions|Millar Gough Ink\", 'Twentieth Century Fox Film Corporation|Regency Enterprises|Josephson Entertainment|New Upstairs Productions|Upstairs Canada Productions', 'Universal Pictures|Saga Film|Focus Films|Gold Circle Films|Chambara Pictures', 'Smartest Man Productions|Millennium Films|Paul Schiff Productions', 'Universal Pictures|Laura Bickford Productions|Relativity Media|Medienproduktion Poseidon Filmgesellschaft', 'BBC Films|PathÃ© Renn Productions|UK Film Council|Screen Australia|Australian Film Finance Corporation (AFFC)', 'Miramax Films|Sidney Kimmel Entertainment|This Is That Productions', 'Miramax Films', 'Fox Searchlight Pictures|26 Films', 'Mark Johnson Productions|Gran Via Productions|Curmudgeon Films', 'DreamWorks', 'New Line Cinema', 'HanWay Films|UK Film Council|Marv Films', 'Touchstone Pictures|Mandeville Films|Wintergreen Productions|Top Shelf Productions', 'Twentieth Century Fox Film Corporation|Hyde Park Films', 'DreamWorks SKG|Nickelodeon Movies', 'Davis-Films|Czech Anglo Productions|Wandering Star Pictures', \"Ingenious Film Partners|Twentieth Century Fox Film Corporation|Donners' Company|Dune Entertainment|Seed Productions\", 'Lionsgate|Edmonds Entertainment Group (EEG)|Epidemic Pictures|The Safran Company|Gold Circle Films', 'Isle of Man Film|Freestyle Releasing|CinemaNX', 'Warner Bros. Pictures', 'Summit Entertainment|Karz Entertainment', 'Echo Lake Productions|Premiere Picture', 'Dune Entertainment|Cold Spring Pictures|The Montecito Picture Company|Fox Atomic', \"Fox Searchlight Pictures|Butcher's Run Films|Informant Media\", 'Columbia Pictures|Castle Rock Entertainment|Relativity Media|Banter', 'Ghost House Pictures|Ozla Pictures|Stage 6 Films', 'Great Scott Productions Pty. Ltd.', 'Legendary Pictures|Warner Bros.|Syncopy', 'Walt Disney Pictures|Team Todd|Tim Burton Productions|Roth Films|Zanuck Company, The', 'Fox Searchlight Pictures|Dune Entertainment|Protozoa Pictures|Cross Creek Pictures', 'DreamWorks Animation|Vertigo Entertainment|Mad Hatter Entertainment', 'Paramount Pictures|Appian Way|Phoenix Pictures|Sikelia Productions', 'Walt Disney Pictures|LivePlanet|Prana Studios|Sean Bailey Productions|Revolution Sun Studios', 'Columbia Pictures|Di Bonaventura Pictures|Relativity Media|Wintergreen Productions', 'Fox Searchlight Pictures|Dune Entertainment|Darlow Smithson Productions|Warner Bros.|Cloud Eight Films', 'Screen Gems|Olive Bridge Entertainment', 'Dune Entertainment|Fox 2000 Pictures|Walden Media', 'Lions Gate', 'Spyglass Entertainment|Peninsula Films|StudioCanal|GK Films|Italian Tax Credit', 'Walt Disney Pictures|Jerry Bruckheimer Films', 'Imagine Entertainment|Universal Pictures|Scott Free Productions|Relativity Media', 'Paramount Pictures|Scott Rudin Productions|Mike Zoss Productions|Skydance Productions', 'The Zanuck Company|Legendary Pictures|Thunder Road Pictures|Warner Bros.|Moving Picture Company (MPC)', 'Walt Disney Pictures|Jerry Bruckheimer Films|Saturn Films|Broken Road Productions|Junction Entertainment', 'Columbia Pictures|Scott Rudin Productions|Relativity Media', 'Universal Pictures|Marc Platt Productions', 'Paramount Pictures|Universal Pictures|Everyman Pictures|Relativity Media|Dreamworks Pictures', 'Twentieth Century Fox Film Corporation|Davis Entertainment|Dune Entertainment III|Troublemaker Studios', 'Ingenious Film Partners|1492 Pictures|Dune Entertainment|Fox 2000 Pictures|Sunswept Entertainment', 'Twentieth Century Fox Film Corporation|Scott Free Productions|Firm Films|Prospect Park|Millbrook Farm Productions', 'DC Comics|Di Bonaventura Pictures|Summit Entertainment|DC Entertainment', 'Dune Entertainment|Dune Entertainment III|Troublemaker Studios|Overnight Films', 'Alcon Entertainment|Silver Pictures', 'Twentieth Century Fox Film Corporation|Dune Entertainment|21 Laps Entertainment', 'Legendary Pictures|GK Films|Thunder Road Pictures|Warner Bros.', 'Paramount Pictures|Nickelodeon Movies|Kennedy/Marshall Company, The|Industrial Light & Magic (ILM)|Blinding Edge Pictures', 'Columbia Pictures|Gary Sanchez Productions', 'Summit Entertainment|Touchstone Pictures', 'The Weinstein Company|UK Film Council|Bedlam Productions|See-Saw Films|Aegis Film Fund', 'Bedford Falls Productions|Dune Entertainment|Regency Enterprises|Fox 2000 Pictures|Stuber Productions', 'Polish Film Institute|Imagenation Abu Dhabi FZ|Exclusive Films|Monolith Films|On the Road', 'Universal Pictures|Stuber Productions|Dentsu|Relativity Media', 'Tree Line Films|Twentieth Century Fox Film Corporation|Dune Entertainment|Regency Enterprises|Pink Machine', 'Columbia Pictures|Red Om Films|Plan B Entertainment', 'Columbia Pictures|Original Film|Relativity Media|Madhouse Entertainment', 'Universal Pictures|Spyglass Entertainment|Octagon Films|BenderSpink|Birnbaum/Barber', 'Universal Pictures|StudioCanal|Dentsu|Relativity Media|Working Title Films', 'Twentieth Century Fox Film Corporation|Dune Entertainment|Davis Entertainment|Dune Entertainment III', 'Escape Artists|CBS Films', 'Universal Pictures|Marc Platt Productions|Relativity Media', 'Mandate Pictures|Bona Fide Productions|Echo Films', 'River Road Entertainment|Road Rebel|Linson Entertainment', 'New Line Cinema|Karz Entertainment|Rice Films', 'Miramax Films|Gran Via Productions|FilmDistrict|Necropia|Tequila Gang', 'Lionsgate|Twisted Pictures|Serendipity Productions', 'Columbia Pictures|Jerry Weintraub Productions|China Film Group|Overbrook Entertainment', 'Legendary Pictures|Green Hat Films|Warner Bros.', 'Matador Pictures|Isle of Man Film|Magic Light Pictures|CinemaNX|Cinema Four', 'Studio Babelsberg|Runteam Ltd.|R.P. Productions|France 2 CinÃ©ma', 'Lionsgate|FidÃ©litÃ© Films|Hwy61', 'New Line Cinema|Platinum Dunes', 'Universal Pictures|Spyglass Entertainment|Relativity Media|Apatow Productions', 'Warner Bros.', '20th Century Fox|Regency Enterprises', 'Katalyst Films|Lionsgate|Aversano Films', 'Bold Films', 'New Line Cinema|Village Roadshow Pictures|Home Box Office (HBO)|HBO Films', 'Oops Doughnuts Productions|Touchstone Pictures|Frontier Pictures', 'Universal Pictures|Three Strange Angels|Studio Canal|Relativity Media|Working Title Films', 'United Artists|Metro-Goldwyn-Mayer (MGM)|New Crime Productions', 'Hammer Film Productions|EFTI|Exclusive Media Group|Overture Films', 'Village Roadshow Pictures|Warner Bros.|Animal Logic|Cruel and Unusual Films', 'Rainforest Films', 'Bedford Falls Productions', 'Spring Creek Productions|Battle Mountain Films', 'Fox Searchlight Pictures|DNA Films|Film4', 'Josephson Entertainment|Gold Circle Films|Village Roadshow Pictures Asia', 'PathÃ© Pictures International|UK Film Council|Celador Films|Canal+|Warner Bros.', 'Stone Productions|Mimran Schur Pictures', 'Color Force', 'The Weinstein Company|Atmosphere Entertainment MM|Chako Film Company|Dimension Films|Intellectual Properties Worldwide', 'Bad Robot|Goldcrest Pictures', 'Oceana Media Finance|Pantheon Entertainment Corporation|Innocence Productions|Prescience|Omega Entertainment', 'Dune Entertainment|Dune Entertainment III|Twentieth Century Fox|Walden Media|Mayhem Pictures', 'River Road Entertainment|Participant Media', 'Paramount Pictures|DreamWorks SKG|Spyglass Entertainment|Everyman Pictures|Reliance BIG Entertainment', 'Rogue Pictures|Relativity Media|Hydraulx|Rat Entertainment|Transmission Pictures', 'Miramax Films|Marv Films|Pioneer Pictures', 'Village Roadshow Pictures', 'Columbia Pictures|Gracie Films|Road Rebel', 'Robert Simonds Productions|Relativity Media|Spy Next Door', 'DreamWorks SKG|Mosaic', 'GK Films|Henceforth|Projection Pictures|London Boulevard', 'Amblin Entertainment|Malpaso Productions|Warner Bros.|Kennedy/Marshall Company, The', 'Relativity Media|Rogue', 'Wildwood Enterprises|American Film Company', 'Parabolic Pictures|Screen Gems', 'Twentieth Century Fox Film Corporation', 'Twentieth Century Fox Film Corporation|Dune Entertainment|Dune Entertainment III|Edward R. Pressman Film', 'Birdsong Pictures|IM Global', 'Penn Station Entertainment|Participant Media|Imagenation Abu Dhabi FZ|Overture Films', 'Lions Gate Family Entertainment|Relativity Media|Crest Animation Productions', 'De Line Pictures|Warner Bros. Animation|Sunswept Entertainment|Rhythm and Hues|Picnic Basket', 'Maguire Entertainment|Screen Gems|Sony Pictures Home Entertainment', 'Omnilab Media|Ambience Entertainment', 'Double Feature Films|CBS Films', 'Universal Pictures|Media Rights Capital|Night Chronicles|Relativity Media', 'Serendipity Point Films', 'Icon Productions|BBC Films|GK Films|Warner Bros.', 'Summit Entertainment|Robert Simonds Productions|Participant Media|Imagenation Abu Dhabi FZ|Furry Vengeance Productions', 'Hyde Park Films|platinum studios|Long Distance Films', 'HighRoad Entertainment|Prelude Pictures|Lone Runner Entertainment|Kenio Films|Perfect Game, The', 'Ealing Studios|Fragile Films|Quickfire Films|Prescience|Aegis Film Fund', 'Lions Gate Films|The Tyler Perry Company', 'Impact Pictures|Davis-Films|Constantin Film Produktion', 'PVR Cinemas|Hari Om Entertainment Co.|Blockbuster Movie Entertainers', 'Walt Disney Pictures|Fast Track Productions|Mayhem Pictures', 'WingNut Films|New Line Cinema|The Saul Zaentz Company', '1492 Pictures|Warner Bros.|Heyday Films', 'Asymmetrical Productions|Les Films Alain Sarde|Babbo Inc.|The Picture Factory|Canal+', 'DreamWorks SKG|Amblin Entertainment|Stanley Kubrick Productions|Warner Bros.', 'DreamWorks SKG|Pacific Data Images (PDI)|DreamWorks Animation', 'Miramax Films|Universal Pictures|Studio Canal|Working Title Films|Little Bird', 'Village Roadshow Pictures|Section Eight|NPV Entertainment|Jerry Weintraub Productions|Warner Bros.', 'Universal Pictures|Alphaville Films|Imhotep Productions', 'Walt Disney Pictures|Walt Disney Feature Animation', 'Paramount Pictures|Toho-Towa|Mutual Film Company|Lawrence Gordon Productions|British Broadcasting Corporation (BBC)', 'Imagine Entertainment|DreamWorks SKG|Universal Pictures', 'Universal Pictures|Liveplanet|Zide-Perry Productions', 'Walt Disney Pictures|BrownHouse Productions|Bottom of the Ninth Productions', 'Bazmark Films|Twentieth Century Fox Film Corporation', 'Twentieth Century Fox Film Corporation|Tim Burton Productions|Zanuck Company, The', 'Touchstone Pictures', 'Paramount Pictures|Swanford Films|Mandalay Pictures|Little Bird|KC Medien', 'Jerry Bruckheimer Films|Revolution Studios|Scott Free Productions', 'Marc Platt Productions|Metro-Goldwyn-Mayer (MGM)', 'Columbia Pictures Corporation|Escape Artists|Black and Blu Entertainment|Finestkind', 'Paramount Pictures|Village Roadshow Pictures|NPV Entertainment|Scott Rudin Productions|Red Hour Productions', 'Original Film|Columbia Pictures Corporation|Neal H. Moritz Productions', 'Gold/Miller Productions|Wayans Bros. Entertainment|Dimension Films|Brad Grey Pictures', 'Village Roadshow Pictures|NPV Entertainment|Warner Bros.|Outlaw Productions (I)|WV Films II', 'Cruise/Wagner Productions|Canal Plus|Sogecine|Las Producciones del Escorpion|Lucky Red', 'Nickelodeon Movies|Universal Cartoon Studios|Paramount Animation', 'Dimension Films|View Askew Productions|Miramax', 'Miramax Films|Tapestry Films|Simon Fields Productions', 'Village Roadshow Pictures|NPV Entertainment|Mad Chance|Zide-Perry Productions|Warner Bros.', 'Paramount Pictures|Cruise-Wagner Productions|Vinyl Films', 'Twentieth Century Fox Film Corporation|Current Entertainment|Immortal Entertainment|Canal+|EuropaCorp', 'Universal Pictures|Metropolitan Filmexport|Toho-Towa|Red Wagon Productions|Beacon Communications', 'Village Roadshow Pictures|NPV Entertainment|Silver Pictures|Warner Bros.|Jonathan Krane Group', 'Industry Entertainment|Epsilon Motion Pictures|Hyde Park Films|Metro-Goldwyn-Mayer (MGM)', 'Columbia Pictures|Square USA|Chris Lee Productions', 'Metro-Goldwyn-Mayer (MGM)', 'Twentieth Century Fox Film Corporation|Davis Entertainment', 'United Artists|American Zoetrope|Cinerenta Medienbeteiligungs KG|Cinerenta-Cinebeta|VCL Communications', 'Twentieth Century Fox Film Corporation|Underworld Entertainment', 'DreamWorks SKG', 'Paramount Pictures|AZL Productions KG|David Brown Productions|MFP Munich Film Partners|Phase 1 Productions', 'Columbia Pictures Corporation|Intermedia Films|Dee Gee Entertainment|Tapestry Films|Prufrock Pictures', 'Paramount Pictures|Fireworks Pictures|Alphaville Films', 'USA Films', 'New Line Cinema|Sean S. Cunningham Films|Crystal Lake Entertainment', 'DreamWorks SKG|Newmarket Capital Group|Lawrence Bender Productions|Pistolero Productions LLC', 'Regency Enterprises|Epsilon Motion Pictures|LivePlanet|New Regency Pictures|Bad Robot', 'Warner Bros. Pictures|Bel Air Entertainment', 'Intermedia Films|Lawrence Gordon Productions|PathÃ© Pictures International|IMF Internationale Medien und Film GmbH & Co. 3. Produktions KG', '20th Century Fox|Village Roadshow Pictures|NPV Entertainment|Regency Enterprises|Kopelson Entertainment', 'Bungalow Productions|Silver Lion Films|Vision View Entertainment', 'Cinerenta Medienbeteiligungs KG|American Entertainment Partners L.P.|David Kirschner Productions', 'Warner Bros. Pictures|Franchise Pictures|Morgan Creek Productions', 'Castle Rock Entertainment', 'Original Film', 'New Line Cinema|Industry Entertainment|Tribeca Productions|New Redemption Pictures', 'Paramount Pictures|GHS Productions KG|Munich Film Partners & Company (MFP) GHS Productions|Nides/McCormick Productions', 'DreamWorks SKG|Columbia Pictures Corporation|Montecito Picture Company, The', 'Columbia Pictures Corporation', 'Paramount Pictures|Mandalay Pictures|Horseshoe Bay Productions', 'NPV Entertainment|Warner Bros.', 'Columbia Pictures|Merlin Films', 'Bel Air Entertainment|Warner Bros.', 'Universal Pictures|Jersey Films|Native Pictures Productions', 'Columbia Pictures|Revolution Studios', 'Village Roadshow Pictures|Castle Rock Entertainment|NPV Entertainment|Darkwoods Productions', 'Franchise Pictures|Warner Bros.|Morgan Creek Productions', 'Screen Gems|Storm King Productions|Animationwerks', 'Village Roadshow Pictures|NPV Entertainment|Columbia Pictures Corporation', 'Conundrum Entertainment|Warner Bros. Animation|Warner Bros.', 'Universal Studios', 'Universal Pictures|Original Film|Ardustry Entertainment|Mediastream Film GmbH & Co. Productions KG', 'MTV Films|Cort/Madden Productions', 'Dimension Films|Troublemaker Studios|Miramax', 'Cheyenne Enterprises|Epsilon Motion Pictures|Empire Pictures|Metro-Goldwyn-Mayer (MGM)|Hyde Park Entertainment', 'Revolution Studios|Happy Madison Productions', 'Lawrence Bender Productions', 'Touchstone Pictures|Ufland', \"Epsilon Motion Pictures|Franchise Pictures|Trackform Film Productions|Mel's Cite du Cinema\", 'Spyglass Entertainment|Touchstone Pictures', 'Warner Bros. Pictures|Morgan Creek Productions', 'Universal Pictures|Scott Free Productions|Metro-Goldwyn-Mayer (MGM)|Dino De Laurentiis Company', 'Tollin/Robbins Productions|Warner Bros.', 'Walt Disney Pictures|Karz Entertainment', '20th Century Fox|1492 Pictures', 'Robert Simonds Productions|Touchstone Pictures', 'Universal Studios|Amblin Entertainment', 'Crystal Sky Worldwide|MDP Worldwide|ApolloMedia Distribution|Carousel Picture Company, The|Signature Entertainment', 'Lions Gate Films|Dan Films|CP Medien AG', 'DC Comics|Legendary Pictures|Warner Bros.|Syncopy', 'Twentieth Century Fox Film Corporation|M6 Films|Canal+|TPS Star|Grive Productions', 'Lucasfilm|Paramount Pictures', 'Summit Entertainment|Maverick Films|Imprint Entertainment|Goldcrest Pictures|Temple Hill Entertainment', 'Eon Productions', 'Universal Pictures|Internationale Filmproduktion Richter|Playtone|Relativity Media|Littlestar', 'Paramount Pictures|Warner Bros.|Kennedy/Marshall Company, The', 'Universal Pictures|China Film Co-Production Corporation|Relativity Media|Alphaville Films|Sommers Company, The', 'Universal Pictures|Marvel Studios|Valhalla Motion Pictures|MVL Incredible Productions', 'Village Roadshow Pictures|Malpaso Productions|Gerber Pictures|Warner Bros.|Double Nickel Entertainment', 'Universal Pictures|Dark Horse Entertainment|Lawrence Gordon Productions|Mid Atlantic Films|Relativity Media', 'Dune Entertainment|Hypnotic|New Regency Pictures', 'New Line Cinema|Walden Media', 'Universal Pictures|Spyglass Entertainment|Bazelevs Production|Kickstart Productions|Marc Platt Productions', 'Celador Films|Warner Bros.|Film4', 'Europa Corp|TF1 Films Production|Grive Productions|EuropaCorp', 'United Artists|Achte Babelsberg Film|Metro-Goldwyn-Mayer (MGM)|Bad Hat Harry Productions', 'Centropolis Entertainment|Legendary Pictures|Warner Bros.|Moonlighting Films|The Department of Trade and Industry of South Africa', 'Columbia Pictures|Weed Road Pictures|Forward Pass|Relativity Media|Overbrook Entertainment', 'Summit Entertainment|Kingsgate Films|Grosvenor Park Media Ltd.|Voltage Pictures|Film Capital Europe Funds (FCEF )', 'Twentieth Century Fox Film Corporation|Regency Enterprises|Mosaic Media Group|21 Laps Entertainment|Penn Station Entertainment', 'Walt Disney|Walden Media|Stillking Films|Ozumi Films|Propeler', 'DreamWorks SKG|Goldcrest Pictures|Red Hour Films|Internationale Filmproduktion Stella-del-Sud Second', 'DreamWorks SKG|K/O Paper Products|Goldcrest Pictures|KMP Film Invest', 'Miramax Films|BBC Films|Heyday Films', 'Rogue Marble|Nu Image Films|Lionsgate|Millennium Films|Emmett/Furla Films', 'Universal Pictures|Cruise/Wagner Productions|Impact Pictures|Relativity Media|Scion Films', 'Summit Entertainment|Offspring Entertainment|Touchstone Pictures', 'Twentieth Century Fox Film Corporation|Dune Entertainment III|Earth Canada Productions|Hammerhead Productions|3 Arts Entertainment', 'Columbia Pictures|Escape Artists|Relativity Media|Overbrook Entertainment', 'Paramount Pictures|Bad Robot', 'Universal Pictures|Apatow Productions', 'Bazmark Films|Ingenious Film Partners|Twentieth Century Fox Film Corporation|Dune Entertainment III|ScreenWest', 'The Zanuck Company|Heyday films|Warner Bros.', 'Sunswept Entertainment|Dune Entertainment III', 'Scott Free Productions|De Line Pictures|Warner Bros.', 'Spyglass Entertainment|Fox 2000 Pictures|Dune Entertainment III', 'New Line Cinema|Internationale Filmproduktion Blackbird Erste', 'Columbia Pictures|Relativity Media', 'Columbia Pictures|Mosaic Media Group|Gary Sanchez Productions|Relativity Media|Apatow Productions', 'De Line Pictures|Warner Bros.', 'Summit Entertainment|Mandalay Pictures|Baumgarten Management and Productions (BMP)', 'Columbia Pictures|Apatow Productions', 'Saturn Films|Wild Bunch|Protozoa Pictures|Top Rope', 'Walt Disney Pictures|Happy Madison Productions|Gunn Films', 'Lionsgate|MHF Zweite Academy Film|Marvel Knights|Valhalla Motion Pictures|SGF Entertainment', 'Dune Entertainment|Firm Films|Collision Entertainment|Abandon Entertainment|Foxtor Productions', 'Regency Enterprises|Castel Film Romania|ASAF|New Regency Pictures|Luna Pictures', 'Columbia Pictures|Original Film|Kanzaman|Relativity Media|Art In Motion', 'Blue Askew|View Askew Productions', 'Village Roadshow Pictures|Atlas Entertainment|Mosaic Media Group|Mad Chance|Warner Bros.', 'Universal Pictures|Internationale Filmproduktion Stella-del-SÃ¼d|Relativity Media|New Regency Pictures|WideAwake', 'StudioCanal|M6 Films|Canal+|CinÃ©CinÃ©ma|Babylon', 'Blueprint Pictures|Scion Films|Film4|Focus Features|Twins Financing', 'Imagine Entertainment|Malpaso Productions|Relativity Media', 'Paramount Pictures|The Kennedy/Marshall Company', 'Fox Searchlight Pictures|Regency Enterprises|Dune Entertainment III|Emmett/Furla Films', 'Columbia Pictures|Mandate Pictures|Depth of Field|Screen Gems', 'New Line Cinema|Spyglass Entertainment|Type A Films|Ott Medien|Wild West Picture Show Productions', 'Columbia Pictures|Happy Madison Productions|Relativity Media|Alta Loma Entertainment', 'Paramount Pictures|Goldcrest Pictures|Internationale Filmproduktion', 'Village Roadshow Pictures|Studio Babelsberg|Anarchos Productions|Silver Pictures|Warner Bros.', 'The Weinstein Company|Gravier Productions|Antena 3 Films|TelevisiÃ³ de Catalunya (TV3)|Antena 3 TelevisiÃ³n', 'Twentieth Century Fox Film Corporation|Blue Sky Studios|Twentieth Century Fox Animation', 'Casey Silver Productions|China Film Co-Production Corporation|Huayi Brothers|Relativity Media', 'Grosvenor Park Media Ltd.|InVenture Entertainment|Millennium Films|Emmett/Furla Films|Nu-Image Films', 'Lietuvos Kinostudija|Scout Productions|Telecinco Cinema|Castelao Producciones|Canal+ EspaÃ±a', 'Columbia Pictures|Happy Madison Productions|Sony Pictures Releasing', 'Paramount Vantage|Grosvenor Park Productions|Bedford Falls Company, The|Defiance Productions|Pistachio Pictures', 'Lakeshore Entertainment|Cohen/Pearl Productions|Screen Gems', 'Rogue Pictures|Vertigo Entertainment', 'Focus Features', 'Ascendant Pictures|Rising Star|VIP Medienfonds 4|Virtual Films|Outlander Productions', 'Twentieth Century Fox Film Corporation|Ten Thirteen Productions|Dune Entertainment III|Crying Box Productions', 'Playtone|Walden Media', 'Columbia Pictures|Original Film', 'Rifkin-Eberts|Dune Entertainment III|Seed Productions', 'StudioCanal|Dark Castle Entertainment|Toff Guy Films|Warner Bros.', 'Paramount Vantage|VN Productions', 'Virtual Studios|Initial Entertainment Group|Saturn Films|International Production Company|Blue Star Pictures', 'Regency Enterprises|New Regency Pictures', 'DC Comics|Lionsgate|Odd Lot Entertainment|Media Magik Entertainment|Dark Lot Entertainment', 'Spyglass Entertainment|Twentieth Century Fox Film Corporation|Dune Entertainment|UTV Motion Pictures|Blinding Edge Pictures', 'Rogue Pictures|Intrepid Pictures|Scion Films|Moonlighting Films|Internationale Filmproduktion Blackbird Dritte', 'South Pacific Pictures|Metropolitan Filmexport|Spice Factory|UK Film Council|The Australian Film Commission', 'New Line Cinema|Darren Star Productions|Home Box Office (HBO)', 'Fox Atomic', 'Universal Pictures Corporation', 'Dimension Films', 'Fox Searchlight Pictures', 'DreamWorks SKG|Scott Rudin Productions|BBC Films|Neal Street Productions|Evamere Entertainment', 'Relativity Media|Michaels-Goldwyn', 'BBC Films|Ecosse Films|HanWay Films|UK Film Council|2 Entertain', 'The Weinstein Company|Summit Entertainment|Endgame Entertainment', '20th Century Fox|Regency Enterprises|Guy Walks into a Bar Productions|Deep River Productions', 'Vertigo Entertainment|Screen Gems|Andale Pictures', 'Davis Entertainment|Relativity Media|IDEA Filmproduktions', 'Starz Media|Starz Animation|Odyssey Entertainment|Studiopolis|Vanguard Animation', 'Screen Gems|Overbrook Entertainment', '2929 Productions|Linson Entertainment|Art Linson Productions|Tribeca Productions', 'Grosvenor Park Media Ltd.|LionsGate|3 in the Box', 'Lionsgate|New Wave Entertainment|Management 360|Terra Firma Films|Superfinger Entertainment', 'Lions Gate Films|Lakeshore Entertainment|GreeneStreet Films|Midnight Picture Show', 'Isle of Man Film|Edward R. Pressman Film|Paradox Entertainment|First Foot Films', 'Ixtlan Productions|Emperor Motion Pictures|Global Entertainment Group', 'Miramax Films|Sherazade Film Development|Groundswell Productions|QED International|Corduroy Films', 'Walden Media', 'Exodus Film Group|Exodus Productions', 'UK Film Council|Intandem Films|Aramid Entertainment Fund|Film4|Lipsync Productions', 'Universal Pictures|Spyglass Entertainment', 'Bold Films|Marc Platt Productions|Odd Lot Entertainment|FilmDistrict|Motel Movies', 'Warner Bros.|Heyday Films|Moving Picture Company (MPC)', 'Walt Disney Pictures|Jerry Bruckheimer Films|Moving Picture Company (MPC)', 'Marvel Studios|Marvel Entertainment', 'Regency Enterprises|Strike Entertainment|New Regency Pictures', 'Summit Entertainment|Saturn Films|Nu Image Films|Millennium Films|Michael De Luca Productions', 'CBS Films|Millennium Films|Chartoff-Winkler Productions|Scared Productions|Nu Image Entertainment GmbH', 'The Mark Gordon Company|Vendome Pictures', 'Paramount Pictures|Skydance Productions|Bad Robot|TC Productions|Revolution Sun Studios', 'Columbia Pictures|Scott Rudin Productions|Film Rites|Metro-Goldwyn-Mayer (MGM)|Yellow Bird', 'Rogue Pictures|Relativity Media|Virgin Produced|Many Rivers Productions|Boy of the Year', 'New Line Cinema|Rat Entertainment', 'DreamWorks SKG|21 Laps Entertainment|Reliance Entertainment|Touchstone Pictures|ImageMovers', 'Castle Rock Entertainment|Screen Gems|Olive Bridge Entertainment', 'Columbia Pictures|Mosaic Media Group', 'Village Roadshow Pictures|Silver Pictures|Lin Pictures|Warner Bros.|Wigram Productions', 'De Line Pictures|Warner Bros.|DC Entertainment', 'Legendary Pictures|Living Films|Green Hat Films|Warner Bros.', 'Paramount Pictures|Spyglass Entertainment|Katalyst Films|Cold Spring Pictures|Montecito Picture Company, The', 'Paramount Pictures|Columbia Pictures|WingNut Films|Amblin Entertainment|Nickelodeon Movies', 'Universal Pictures|Relativity Media|Apatow Productions', 'New Line Cinema|Conundrum Entertainment', 'Paramount Pictures|Amblin Entertainment|Bad Robot|K/O Camera Toys', 'Legendary Pictures|Warner Bros.|Lennox House Films|Cruel and Unusual Films', 'Appian Way|Warner Bros.|Random Films', 'Summit Entertainment|Sunswept Entertainment|Total Entertainment|TSBD Canada Productions|Zohar International', 'Fox Searchlight', 'DreamWorks SKG|Reliance BIG Entertainment|Bay Films|Touchstone Pictures', 'France 3 CinÃ©ma|La Petite Reine|Studio 37|uFilm|Jouror Productions', 'Columbia Pictures|Happy Madison Productions|Sony Pictures Releasing|Broken Road Productions|Metro-Goldwyn-Mayer (MGM)', 'Imagine Entertainment|DreamWorks SKG|Universal Pictures|platinum studios|Reliance Entertainment', 'DreamWorks SKG|Amblin Entertainment|Reliance Entertainment|Kennedy/Marshall Company, The', 'Summit Entertainment|Mandate Pictures', 'Paramount Pictures|Nickelodeon Movies|GK Films|Blind Wink|Paramount Animation', 'Universal Pictures|Original Film|Relativity Media|Big Kid Pictures', 'Paramount Pictures|Infinitum Nihil|GK Films', 'Lakeshore Entertainment|Sidney Kimmel Entertainment|Lionsgate', 'Columbia Pictures|Imagenation Abu Dhabi FZ|Marvel Entertainment|Marvel Knights|Hyde Park Entertainment', 'Film 4|Color Force', 'Current Entertainment|Omnilab Media|Ambience Entertainment|International Traders|Open Road Films', 'New Line Cinema|Contrafilm|Mid Atlantic Films|Hungarian National Film Office|Lazio Film Commission', 'Impact Pictures|Studio Babelsberg|Nouvelles Ã‰ditions de Films (NEF)|New Legacy|Constantin Film Produktion', 'Screen Gems|Stars Road Entertainment|Buckaroo Entertainment|Michael De Luca Productions|TOKYOPOP', 'Paramount Pictures|Denver and Delilah Productions|Indian Paintbrush', 'Lions Gate Films|Vertigo Entertainment|Gotham Group|Tailor Made|Mango Farms', 'Studio Babelsberg|StudioCanal|Dark Castle Entertainment|TF1 Films Production|Canal+', 'Universal Pictures|Media Rights Capital|Gambit Pictures|Electric Shepherd Productions', 'Virgin Produced|Mark Canton Productions', 'Universal Pictures|Playtone Productions|Vendome Pictures', 'Universal Pictures|Big Talk Productions|Relativity Media|Working Title Films', 'TF1 Films Production|Canal+|CinÃ©CinÃ©ma|Grive Productions|EuropaCorp', 'Columbia Pictures|Original Film|Relativity Media', 'Mpower Pictures|Relativity Media|1984 Private Defense Contractors|Virgin Produced|Moonlighting Films', 'Columbia Pictures|Happy Madison Productions|Broken Road Productions', 'Regency Enterprises|Contrafilm|New Regency Pictures', 'Atlas Entertainment|Relativity Media', 'BBC Films|The Weinstein Company|UK Film Council|Lip Sync Post|Trademark Films', 'Twentieth Century Fox Film Corporation|Dune Entertainment|Vinyl Films|LBI Entertainment', 'Summit Entertainment|Regency Enterprises|Bazelevs Production|The Jacobson Company|New Regency Pictures', 'DreamWorks SKG|1492 Pictures|Participant Productions|Imagenation Abu Dhabi FZ|Reliance Entertainment', 'Scott Free Productions|1984 Private Defense Contractors|LD Entertainment|Open Road Films|Inferno Distribution', 'Columbia Pictures|Scott Rudin Productions', 'Vertigo Entertainment|Screen Gems', 'Original Film|Sony Pictures Entertainment|Reliance BIG Entertainment', 'Alcon Entertainment|Wild Ocean Films|2S Films', 'Dark Horse Entertainment|Nu Image Films|Paradox Entertainment|Nimar Studios|Millennium Films', 'Double Feature Films|Regency Enterprises|Warner Bros.|Participant Media|Imagenation Abu Dhabi FZ', 'Ingenious Media|Dune Entertainment|Fox 2000 Pictures|Deuce Three Productions|Sunswept Entertainment', \"CBS Films|Mel's Cite du Cinema|Storefront Films\", 'New Line Cinema|Mandate Pictures', 'Universal Pictures|Strike Entertainment|Morgan Creek Productions', 'Universal Pictures|Image Entertainment|Relativity Media|Rat Entertainment', 'Universal Pictures|Stuber Productions', 'Bazelevs Production|Dimension Films|Bekmambetov Projects Ltd.', 'Village Roadshow Pictures|Warner Bros.|Dr D Studios|Kennedy Miller Mitchell', 'Walt Disney Animation Studios', 'UK Film Council|Studio Canal|Film4', 'Fox 2000 Pictures|Color Force', 'Paramount Pictures|Scott Rudin Productions|Warner Bros.', 'Battleplan Productions', 'Participant Media|Imagenation Abu Dhabi FZ', 'Columbia Pictures|Sony Pictures Animation|Kerner Entertainment Company', 'Focus Features|Neunte Babelsberg Film|Focus Features|Holleran Company|Sechzehnte Babelsberg Film', 'Starz Animation|Touchstone Pictures', 'Fox Searchlight Pictures|Dune Entertainment|Ad Hominem Enterprises', 'FilmEngine|Infinitum Nihil|GK Films', 'UK Film Council|Crescendo Productions|Element Pictures|Irish Film Board|Prescience', 'The Weinstein Company', 'Spyglass Entertainment|MTV Films', 'Nu Image Films|Winkler Films|Millennium Films', 'Wild Bunch|Zanagar Films|Canal+|Constantin Film Produktion|CinÃ©CinÃ©ma', 'Appian Way|Crystal City Entertainment|Cross Creek Pictures|Exclusive Media Group|Smokehouse Pictures', 'Paramount Pictures|Di Bonaventura Pictures|Hasbro|Indochina Productions', 'Paramount Pictures|Blumhouse Productions|Room 101|Solana Films', 'Imagine Entertainment|Universal Pictures|Spyglass Entertainment|Wild West Picture Show Productions', 'Imagine Entertainment|Rogue Pictures|Relativity Media|Internationale Filmproduktion Blackbird Dritte', 'Endgame Entertainment|Maguire Entertainment|Ram Bergman Productions|Aura Film Partnership|Fierce Entertainment', 'Toledo Productions|Film4|Focus Features|Prime Focus|Twins Financing', 'Imagine Entertainment|Malpaso Productions|Wintergreen Productions', 'Universal Pictures|Wayfare Entertainment|Sanctum Australia|Relativity Media|Great Wight Productions/ Osford Films', 'Recorded Pictures Company|The Movie Network|Millbrook Pictures|Prospero Pictures|Lago Film', 'Mandalay Pictures|TriStar Pictures|Brookwell-McNamara Entertainment|FilmDistrict|Affirm Films', 'HW Two', 'Ingenious Media|Dune Entertainment|Fox 2000 Pictures|Flashpoint Entertainment|Big Screen Productions', 'Cliffjack Motion Pictures|Morgan Creek Productions', 'Walt Disney Pictures|Rickshaw Productions', 'Voltage pictures|Worldview Entertainment|ANA Media|Picture Perfect (I)', 'Twentieth Century Fox Film Corporation|Regency Enterprises|New Regency Pictures|The Collective Studios|Runteldat Entertainment', 'Alcon Entertainment|Arc Productions', 'Emperor Motion Pictures|China Film Group Corporation (CFGC)', 'Universal Pictures|Original Film|One Race Productions', 'TriStar Pictures|Stage 6 Films|Sony Pictures Worldwide Acquisitions (SPWA)|TDJ Enterprises / New Dimensions Entertainment|Our Stories Films', 'Dune Entertainment|Regency Enterprises|Fox 2000 Pictures|DiNovi Pictures|Dune Entertainment III', 'UK Film Council|Canal+|DJ Films|CinÃ©CinÃ©ma|PathÃ©', 'Corrino Media Corporation|Corsan|Staccato Films', 'Incentive Filmed Entertainment', 'Atlas Productions', 'ARP SÃ©lection|Lucky Red|Indigo Film|Medusa Film|France 2 CinÃ©ma', 'Chrysalis Films', 'Insurge Pictures|Magical Elves Productions|Scooter Braun Films', 'Indian Paintbrush', \"Ingenious Film Partners|Ingenious Media|Twentieth Century Fox Film Corporation|Donners' Company|Dune Entertainment\", '1492 Pictures|Warner Bros.|Heyday Films|MIRACLE Productions GmbH & Co. KG', 'Universal Pictures|Kennedy/Marshall Company, The|Hypnotic|Kalima Productions GmbH & Co. KG|Stillking Films', 'Impact Pictures|Davis-Films|New Legacy|Constantin Film Produktion', 'Columbia Pictures|Marvel Enterprises', 'Lucasfilm', 'DreamWorks SKG|Kemp Company|Splendid Pictures', 'Columbia Pictures|Amblin Entertainment|Columbia Pictures Corporation|Parkes+MacDonald Image Nation', 'Bac Films|Canal+Polska|Heritage Films|Studio Babelsberg|Agencja Produkcji Filmowej', 'DreamWorks SKG|Cruise/Wagner Productions|Amblin Entertainment|Twentieth Century Fox Film Corporation|Blue Tulip Productions', 'TF1 Films Productions|Current Entertainment|Canal+|EuropaCorp', 'Columbia Pictures|Original Film|Revolution Studios', 'DNA Films|British Film Council', 'Columbia Pictures|Hughes Entertainment|Revolution Studios|Shoelace Productions', 'New Line Cinema|Marvel Entertainment, LLC|Amen Ra Films|Milk & Honey|Imaginary Forces', 'Miramax Films|Initial Entertainment Group (IEG)|Alberto Grimaldi Productions', 'Columbia Pictures Corporation|Hofflund/Polone|Indelible Productions', 'Columbia Pictures|Sony Pictures Entertainment', 'Tapestry Films|Artisan Entertainment', 'Imagine Entertainment|Mikona Productions GmbH & Co. KG', 'New Line Cinema|Columbia Pictures Corporation|Out of the Blue... Entertainment|Happy Madison Productions', 'Village Roadshow Pictures|Castle Rock Entertainment|NPV Entertainment|Fortis Films', 'Kennedy/Marshall Company, The|Touchstone Pictures|Blinding Edge Pictures', 'DreamWorks SKG|BenderSpink|Parkes+MacDonald Image Nation', 'Pandora Pictures|Warner Bros.', 'MPH Entertainment|Playtone Productions|Gold Circle Films', 'David Foster Productions|Bel Air Entertainment|Warner Bros.|Hacienda Productions', 'Dimension Films|Blue Tulip Productions', 'Fox Searchlight Pictures|Hungry Eye Lowland Pictures B.V.|Flan de Coco Films', 'Paramount Pictures|Miramax Films|Scott Rudin Productions', 'DreamWorks SKG|The Zanuck Company|Twentieth Century Fox Film Corporation', \"New Line Cinema|Eric's Boy|Team Todd|Moving Pictures|Gratitude International\", 'Section Eight|Alcon Entertainment|Witt/Thomas Productions', 'Village Roadshow Pictures|NPV Entertainment|Dark Castle Entertainment|Warner Bros.|Ghost Ship Films Pty. Ltd.', 'Atlas Entertainment|Mosaic Media Group|Warner Bros.', 'Universal Pictures|Kalima Productions GmbH & Co. KG|World Wrestling Entertainment (WWE)|Alphaville Films', 'Colombia Pictures', 'Paramount Pictures|Icon Entertainment International|Wheelhouse Entertainment|Motion Picture Production GmbH & Co. Erste KG', 'Miramax Films|Lions Gate Films|Ventanarosa Productions|Handprint Entertainment', 'Castle Rock Entertainment|Warner Bros. Pictures|Schroeder Hoffman Productions', 'Columbia Pictures|Beverly Detroit|Propaganda Films|Clinica Estetico|Intermedia', 'United Artists|Intermedia Films|IM Filmproduktion|Cosmic Pictures|Metro-Goldwyn-Mayer (MGM)', 'DreamWorks SKG|Warner Bros.', 'Miramax Films|Amen Ra Films', 'Konrad Pictures', 'Lion Rock Productions|Metro-Goldwyn-Mayer (MGM)', 'New Line Cinema|Burg/Koules Productions|Evolution Entertainment', 'Regency Enterprises|Fox 2000 Pictures|Epsilon Motion Pictures|Unfaithful Filmproduktion GmbH & Co. KG', 'Paramount Pictures|Intermedia Films|National Geographic Society|New Regency Pictures|Palomar Pictures (II)', 'Village Roadshow Pictures|NPV Entertainment|Warner Bros.|WV Films LLC|Material', 'Walt Disney Pictures|Walt Disney Television Animation|Walt Disney Animation Australia|DisneyToon Studios|Walt Disney Animation Canada', 'Miramax Films|Producers Circle|Storyline Entertainment', 'Fox Searchlight Pictures|Catch 23 Entertainment', 'Epsilon Motion Pictures|Quinta Communications', 'Warner Bros. Pictures|Epsilon Motion Pictures|Franchise Pictures|Brad Grey Pictures|Sea Breeze Productions Inc.', 'The Zanuck Company|Spyglass Entertainment|World 2000 Entertainment|Touchstone Pictures|Tripod Entertainment', 'Village Roadshow Pictures|NPV Entertainment|Warner Bros.|Tribeca Productions|Overbrook Entertainment', 'Twentieth Century Fox Film Corporation|Regency Enterprises|Monarch Pictures|Epsilon Motion Pictures|New Regency Pictures', 'David Foster Productions|Cheyenne Enterprises|Metro-Goldwyn-Mayer (MGM)|David Ladd Films', 'New Line Cinema|Avery Pix', 'Imagine Entertainment|Mikona Productions GmbH & Co. KG|Universal Pictures|Shutt/Jones Productions', 'Malpaso Productions|Warner Bros. Pictures', 'Twentieth Century Fox Film Corporation|Lightstorm Entertainment', 'Paramount Pictures|Miramax Films|Marty Katz Productions|Jaffilms Inc.|Dune Films', 'Lakeshore Entertainment', 'Clear Blue Sky Productions', 'Walt Disney Pictures|Gran Via Productions|98 MPH Productions', 'Jerry Bruckheimer Films|Touchstone Pictures|Stillking Films', 'Miramax Films|Allied Filmmakers|Mad Chance', 'Senator Film Produktion|Propaganda Films|Colombia Pictures', 'Paramount Pictures|Nickelodeon Movies|Valhalla Motion Pictures', 'United Artists', 'Motion Picture Corporation of America|Artisan Entertainment', 'Paramount Pictures|MTV Films', \"Village Roadshow Pictures|Castle Rock Entertainment|NPV Entertainment|Mel's Cite du Cinema\", 'Paramount Pictures|Spyglass Entertainment|Touchstone Pictures', 'Universal Pictures|Metro-Goldwyn-Mayer (MGM)', 'Universal Pictures|Spyglass Entertainment|Shady Acres Entertainment|Gran Via Productions|Kalima Productions GmbH & Co. KG', 'Milagro Films|Franchise Pictures|DoRo Fiction Film|Signature Pictures|ApolloMedia Distribution', 'Sony Pictures Classics|Propaganda Films|Good Machine', 'Warner Bros. Pictures|Focus Features|Baltimore Spring Creek Productions', 'Lakeshore Entertainment|Saturn Films|Screen Gems|Sketch Films|UW4 Productions', 'Legendary Pictures|Warner Bros.|DC Entertainment|Syncopy', 'Columbia Pictures|The Weinstein Company', 'Universal Pictures|Dentsu|Relativity Media|Kennedy/Marshall Company, The|Captivate Entertainment', 'WingNut Films|New Line Cinema|Metro-Goldwyn-Mayer (MGM)', 'Twentieth Century Fox Film Corporation|Dune Entertainment|Scott Free Productions|Brandywine Productions', 'Columbia Pictures|Laura Ziskin Productions|Marvel Entertainment', 'Universal Pictures|Roth Films', 'Columbia Pictures|Original Film|Stephen J. Cannell Productions|Relativity Media|Metro-Goldwyn-Mayer (MGM)', 'Ingenious Film Partners|Ingenious Media|Dune Entertainment|Fox 2000 Pictures|Big Screen Productions', 'Paramount Pictures|Mutual Film Company|Skydance Productions|TC Productions', 'Summit Entertainment|Telecinco Cinema|Apaches Entertainment|Canal+ EspaÃ±a|Instituto de la CinematografÃ\\xada y de las Artes Audiovisuales (ICAA)', 'Brownstone Productions', 'Amblin Entertainment|Media Magik Entertainment|Imagenation Abu Dhabi FZ|Hemisphere Media Capital|Parkes/MacDonald Productions', 'Anarchos Productions|X-Filme Creative Pool|Ascension Pictures|ARD Degeto Film|Cloud Atlas Productions', 'Nu Image Films|Millennium Films', 'Twentieth Century Fox Film Corporation|M6 Films|Canal+|Grive Productions|EuropaCorp', 'Village Roadshow Pictures|Infinitum Nihil|GK Films|Warner Bros.|Tim Burton Productions', 'Summit Entertainment|Mr. Mudd Production', 'GK Films|Warner Bros.|Smokehouse Pictures', 'Nick Wechsler Productions|Extension 765', 'Lionsgate|Mutant Enemy Productions', 'Spyglass Entertainment|Screen Gems', 'New Line Cinema|Contrafilm|Walden Media', 'Lawrence Bender Productions|IM Global|Automatik Entertainment|Trigger Street Productions|87Eleven', 'Bazelevs Production|Tim Burton Productions|Abraham Productions|Location Gourmet', 'Onyx Films|Studio 37|Jouror Productions|France 2 CinÃ©ma|Transfilm', 'Scott Rudin Productions|Indian Paintbrush|American Empirical Pictures|Moonrise', 'DNA Films|Reliance BIG Entertainment|IM Global|Rena Film|Peach Trees', 'Universal Pictures|Hasbro|Bluegrass Films|Film 44', 'Universal Pictures|Relativity Media|CAMERON MACKINTOSH|Working Title Films', 'Relativity Media|Misher Films|Yucaipa Films|Goldmann Pictures|Rat Entertainment', 'Endgame Entertainment|FilmDistrict|DMG Entertainment|Ram Bergman Productions', 'Summit Entertainment|Sunswept Entertainment|Temple Hill Entertainment', 'Columbia Pictures|Annapurna Pictures|First Light Production', 'Irish Film Board|Relativity Media', 'Legendary Pictures|Thunder Road Pictures|Warner Bros.|Cott Productions|Furia de Titanes II, A.I.E.', 'Summit Entertainment', 'Twentieth Century Fox Film Corporation|Dune Entertainment|Davis Entertainment|Adam Schroeder Productions', 'Relativity Media|Bandito Brothers', 'Emmett/Furla Films|Exclusive Media Group|Hedge Fund Film Partners|Crave Films|Knightsbridge Entertainment', 'Alcon Entertainment|Lionsgate|Phoenix Pictures|What to Expect Productions', 'Silver Pictures|Green Hat Films', 'Universal Pictures|StudioCanal|Relativity Media|Leverage Management|Closest to the Hole Productions', 'The Weinstein Company|Benaroya Pictures|Yucaipa Films|Annapurna Pictures|Pie Films Inc.', 'New Line Cinema|Corner Store Entertainment', 'Saturn Films|Nu Image Films|Millennium Films', 'Columbia Pictures|Aardman Animations|Sony Pictures Animation', 'Ghoulardi Film Company|The Weinstein Company|Annapurna Pictures', 'Universal Pictures|Dentsu|Relativity Media|Apatow Productions|Stoller Global Solutions', 'Apatow Productions', 'Canal+|EuropaCorp|CinÃ©+', 'Relativity Media|Apatow Productions|A Hot Dog', 'Hammer Film Productions|UK Film Council|Alliance Films|Film i VÃ¤st|Talisman Productions', 'Walt Disney Pictures|Tim Burton Animation Company|Tim Burton Productions', 'Universal Pictures|Dentsu|Relativity Media|Bluegrass Films', 'Ixtlan|Relativity Media|Onda Entertainment', 'Summit Entertainment|Di Bonaventura Picture', 'Blueprint Pictures|CBS Films|British Film Institute (BFI)|Film4', 'Universal Pictures|Anonymous Content|Working Title Films', 'Lionsgate|Liddell Entertainment|LD Entertainment|Wonderful Films PLC|Exclusive Media Group', 'DreamWorks SKG|Touchstone Pictures', 'Dimension Films|Mark Canton Productions|Intellectual Properties Worldwide', 'Ghost House Pictures|North Box Productions', 'Davis-Films|Konami Corporation Ltd.', 'Plan B Entertainment|1984 Private Defense Contractors|Annapurna Pictures|Inferno Entertainment|Chockstone Pictures', 'Summit Entertainment|Intrepid Pictures|Film Rites|Galavis Film|Picture Machine', 'Lionsgate|Artina Films|Lucky Monkey Pictures|Green Room Films|Treehouse Pictures', 'Contrafilm|FilmDistrict', 'Wessler Entertainment', 'Columbia Pictures|Mandate Pictures|Escape Artists|Management 360|Metro-Goldwyn-Mayer (MGM)', 'Paramount Pictures|DreamWorks SKG|Saturn Films|Varsity Pictures', 'Lakeshore Entertainment|Sidney Kimmel Entertainment', 'Headline Pictures', 'Participant Media|Imagenation Abu Dhabi FZ|Focus Features|Media Farm|Sunday Night', 'Dos Corazones', 'Twentieth Century Fox Film Corporation|Lucasfilm Ltd.|Partnership Pictures', 'Paramount Pictures|Nickelodeon Movies|Anonymous Content|Fake Empire', 'Pariah Entertainment Group', 'Serenade Films|CBS Films|Also Known As Pictures', 'American Zoetrope|France 2 CinÃ©ma|VideoFilmes|Vanguard Films|Canal+', '20th Century Fox|Chernin Entertainment|Walden Media', 'Rainforest Films|Screen Gems|Studio Mir', 'Industry Entertainment|Grindstone Entertainment Group|Cheetah Vision|Mandalay Vision|Paradox Entertainment', 'StudioCanal|Dark Castle Entertainment|Warner Bros.|Studio Babelsberg Motion Pictures', 'France 2 CinÃ©ma|TÃ©lÃ©film Canada|Rai Cinema|Prospero Pictures|Alfama Films', 'Davis-Films', 'TriStar Pictures|Phoenix Pictures|Stage 6 Films|Akil Production Company', 'Paramount Pictures|Imagine Entertainment|MTV Films|Insurge Pictures', 'WingNut Films|New Line Cinema', 'Lakeshore Entertainment|Laurinfilm|Subterranean Productions LLC|Subterranean Productions UK Ltd.|Underworld Produktions GmbH', 'Miramax Films|A Band Apart|Super Cool ManChu', 'Village Roadshow Pictures|NPV Entertainment|Silver Pictures|Warner Bros.', 'Village Roadshow Pictures|NPV Entertainment|Heineken Branded Entertainment|Silver Pictures|Warner Bros.', 'Walt Disney Pictures|Pixar Animation Studios|Disney Enterprises', 'Universal Pictures|Spyglass Entertainment|Shady Acres Entertainment|Pit Bull Productions', 'DNA Films', 'New Line Cinema|Gold/Miller Productions|Guy Walks into a Bar Productions', 'Columbia Pictures|Intermedia Films|Warner Bros.|C-2 Pictures|IMF Internationale Medien und Film GmbH & Co. 3. Produktions KG', 'The Zanuck Company|Columbia Pictures Corporation|Jinks/Cohen Company|Tim Burton Productions', 'Twentieth Century Fox Film Corporation|Regency Enterprises|Epsilon Motion Pictures|New Regency Pictures|Marvel Enterprises', 'Universal Pictures|Zide-Perry Productions|LivePlanet|Loumolo & Co.', 'Twentieth Century Fox Film Corporation|JD Productions|International Production Company|Angry Films|Mediastream Dritte Film GmbH & Co. Beteiligungs KG', 'Paramount Pictures|De Line Pictures|Working Title Films', 'Walt Disney Pictures|Walt Disney Television Animation|Walt Disney Animation Australia|DisneyToon Studios', 'Columbia Pictures|Dimension Films (US version)', 'Universal Pictures|StudioCanal', 'Columbia Pictures|Universal Pictures|Revolution Studios|Quinta Communications', 'Dimension Films|Brad Grey Pictures', 'Universal Pictures|Marc Platt Productions|NuAmerica Entertainment', 'New Line Cinema|Newman/Tooley Films|Joseph Nittolo Entertainment|\"DIA\" Productions GmbH & Co. KG', 'Cruise/Wagner Productions|Warner Bros.|Radar Pictures|Bedford Falls Company, The', 'Columbia Pictures Corporation|Don Simpson/Jerry Bruckheimer Films', 'Summit Entertainment|Newmarket Capital Group|Regency Enterprises|Constantin Film Produktion|Stan Winston Studio', 'Konrad Pictures|Columbia Pictures Corporation', 'Universal Pictures|Twentieth Century Fox Film Corporation|Samuel Goldwyn Films|Miramax', 'Village Roadshow Pictures|Malpaso Productions|NPV Entertainment|Warner Bros.', 'Columbia Pictures|Revolution Studios|Happy Madison Productions', 'Paramount Pictures|David Foster Productions|Horsepower Films|LivePlanet|Core Productions', 'Universal Pictures|Good Machine|Valhalla Motion Pictures|Marvel Enterprises', 'Columbia Pictures Corporation|Dimension Films|Troublemaker Studios', 'DreamWorks SKG|The Montecito Picture Company', 'Spyglass Entertainment|Touchstone Pictures|Birnbaum / Barber Productions|Jackie Chan Films Limited|All Knight Productions', 'Original Film|Columbia Pictures Corporation|Camelot Pictures|Chris Lee Productions|Illusion Entertainment', 'Columbia Pictures|Revolution Studios|Cheyenne Enterprises|Michael Lobell Productions', 'Type A Films|Marc Platt Productions|Metro-Goldwyn-Mayer (MGM)', \"Paramount Pictures|Donners' Company|Mutual Film Company|Cobalt Media Group|Artists Production Group (APG)\", 'Paramount Pictures|DreamWorks SKG|Davis Entertainment|Lion Rock Productions|Province of British Columbia Film Incentive BC', 'Columbia Pictures Corporation|Wonderland Sound and Vision|Tall Trees Productions|Flower Films (II)', 'Columbia Pictures Corporation|Waverly Films|Warner Bros.', 'Walt Disney Pictures|Gunn Films|Doom Buggy Productions', 'Columbia Pictures Corporation|Dark Castle Entertainment|Warner Bros.', 'This Is That Productions|Y Productions|Mediana Productions Filmgesellschaft', 'New Line Cinema|Zide-Perry Productions', 'New Line Cinema|Next Entertainment|Platinum Dunes|Radar Pictures|Focus Features', 'Twentieth Century Fox Film Corporation|Robert Simonds Productions', 'Miramax Films|Mirage Enterprises|Castel Film Romania|Bona Fide Productions|Cattleya', 'New Line Cinema|Cecchi Gori Group Tiger Cinematografica|Avery Pix|Sean S. Cunningham Films|Crystal Lake Entertainment', 'Silver Pictures|Warner Bros.', 'Lonely Film Productions GmbH & Co. KG.|Warner Bros. Animation|Warner Bros.|Goldmann Pictures|Baltimore Spring Creek Productions', 'Intermedia Films|Krane Entertainment', 'Columbia Pictures|Universal Pictures|WWE Studios', 'Mikona Productions GmbH & Co. KG|Universal Pictures|Original Film|Ardustry Entertainment', 'Tig Productions|Touchstone Pictures|Beacon Pictures|Cobalt Media Group', 'Twentieth Century Fox Film Corporation|Robert Simonds Productions|Mediastream Dritte Film GmbH & Co. Beteiligungs KG', 'Columbia Pictures|Revolution Studios|Davis Entertainment', 'Universal Pictures|Spyglass Entertainment|The Kennedy/Marshall Company|DreamWorks Pictures|Touchstone Pictures', 'Original Film|Monarch Pictures|Metro-Goldwyn-Mayer (MGM)', 'United Artists|American Zoetrope|Myriad Pictures|Jeepers Creepers II', 'Village Roadshow Pictures|Castle Rock Entertainment|NPV Entertainment|Kasdan Pictures|WV Films II', 'Regency Enterprises|Fox 2000 Pictures|Epsilon Motion Pictures|Mediastream Dritte Film|Jinks/Cohen Company', 'Twentieth Century Fox Film Corporation|N1 European Film Produktions GmbH & Co. KG|Baumgarten Merims Productions', 'Imagine Entertainment|Universal Pictures|Mike Zoss Productions|Alphaville Productions', 'Lakeshore Entertainment|Alphaville Films', 'Regency Enterprises|Epsilon Motion Pictures|New Regency Pictures', 'Newmarket Films', 'Hyde Park Films|Touchstone Pictures', 'City Light Films|Revolution Studios|Casey Silver Productions', 'Turner Pictures|Antietam Filmworks', 'GreeneStreet Films|Metro-Goldwyn-Mayer (MGM)', 'Universal Pictures|Intermedia Films|Saturn Films', 'Boll Kino Beteiligungs GmbH & Co. KG|Brightlight Pictures|Herold Productions|Mindfire Entertainment', 'Universal Pictures|Spectacle Entertainment Group', 'Metro-Goldwyn-Mayer (MGM)|David Ladd Films', 'Revolution Studios|Tollin/Robbins Productions', 'Recorded Picture Company (RPC)', 'France 2 CinÃ©ma|Canal Plus|FidÃ©litÃ© Productions|Gimages|FOZ', 'Harbour Pictures|Touchstone Pictures', 'Splendid Pictures|Maverick Films|Metro-Goldwyn-Mayer (MGM)|Dylan Sellers Productions|Madacy Entertainment', 'Walt Disney Pictures|Walden Media|Earthship Productions', 'Twentieth Century Fox Film Corporation|Conundrum Entertainment', \"Twentieth Century Fox Film Corporation|Donners' Company|Bad Hat Harry Productions|Marvel Enterprises|XM2 Productions\", 'Lions Gate Films', 'Epsilon Motion Pictures|Franchise Pictures|Escape Artists|Reiner-Greisman', 'Focus Films', 'Warner Bros.|Heyday Films|Esperanto Filmoj', 'Summit Entertainment|K/O Paper Products|SOIXAN7E QUIN5E|See Me Louisiana', 'Paramount Pictures|Appian Way|EMJAG Productions|Red Granite Pictures|Sikelia Productions', 'Legendary Pictures|Warner Bros.|Disney Double Dare You (DDY)|Indochina Productions', 'Universal Pictures|Chernin Entertainment|Relativity Media|Monolith Pictures (III)|Radical Studios', 'Legendary Pictures|Warner Bros.|DC Entertainment|Syncopy|Cruel and Unusual Films', 'Annapurna Pictures', 'Paramount Pictures|Skydance Productions|Bad Robot|Kurtzman/Orci', 'Plan B Entertainment|Regency Enterprises|River Road Entertainment|Film4|New Regency Pictures', 'One Race Productions|Radar Pictures|Riddick Canada Productions', 'New Line Cinema|The Safran Company|Evergreen Media Group', 'Village Roadshow Pictures|Bazmark Films|Warner Bros.|A&E Television Networks|Red Wagon Entertainment', 'TriStar Pictures|Media Rights Capital|Sony Pictures Entertainment (SPE)|QED International|Alpha Core', 'Ingenious Media|Twentieth Century Fox Film Corporation|Dune Entertainment|Mid Atlantic Films|Big Screen Productions', 'Paramount Pictures|GK Films|Skydance Productions|Hemisphere Media Capital|Apparatus Productions', 'New Line Cinema|Ingenious Media|Twentieth Century Fox Film Corporation|Samuel Goldwyn Films|Big Screen Productions', 'Summit Entertainment|Chartoff Productions|Odd Lot Entertainment|K/O Paper Products|Digital Domain', 'Universal Studios|Marc Platt Productions|Emmett/Furla Films|Envision Entertainment Corporation', 'Revolution Films|Working Title Films|Cross Creek Pictures|Exclusive Media Group|Double Negative', '1492 Pictures|Dune Entertainment|Fox 2000 Pictures|Sunswept Entertainment|Dune Entertainment III', 'Alcon Entertainment|Madhouse Entertainment|8:38 Productions', 'Columbia Pictures|Atlas Entertainment|Annapurna Pictures', 'Paramount Pictures|Studio Babelsberg|MTV Films|Gary Sanchez Productions|Metro-Goldwyn-Mayer (MGM)', 'Mid Atlantic Films|Stuber Productions|Universal|Moving Picture Company (MPC)|H2F Entertainment', 'Constantin Film Produktion|Don Carmody Productions|Unique Features|Mr. Smith Productions', 'Universal Pictures|Weed Road Pictures|Herrick Entertainment|Leverage Management|Closest to the Hole Productions', 'Universal Studios|Universal Pictures|Voltage Pictures|Truth Entertainment', 'Universal Pictures|Original Film|Dark Horse Entertainment', 'RabbitBandini Productions|Division Films|Pop Films|Radar Pictures|Muse Productions', 'TriStar Pictures|WWE Studios|Troika Pictures|Emergency Films|Apotheosis Media Group', 'TriStar Pictures|Ghost House Pictures|FilmDistrict', 'Laurence Mark Productions|CBS Films|Outlaw Sinema|Good Universe|Gidden Media', 'Canal Plus|TF1 Films Production|Grive Productions|EuropaCorp|Relativity Media', 'Sidney Kimmel Entertainment|Electric City Entertainment|Verisimilitude', 'Columbia Pictures|Happy Madison Productions|Sony Pictures Entertainment (SPE)', 'Legendary Pictures|Green Hat Films', 'Millennium Films|Open Road Films', 'Summit Entertainment|Atmosphere Entertainment MM|Emmett/Furla Films|Mark Canton Productions|Envision Entertainment', 'Screen Gems|Metro-Goldwyn-Mayer (MGM)|Misher Films', 'Ingenious Media|Fox 2000 Pictures|Scott Free Productions|Kanzaman|Nick Wechsler Productions', 'Columbia Pictures|Centropolis Entertainment|Iron Horse Entertainment (II)|Mythology Entertainment (II)', 'Likely Story|Apatow Productions|Exclusive Media Group|Sycamore Pictures', 'Millenium Films|Two Ton Films', 'New Line Cinema|Original Film|Legendary Pictures|Warner Bros.|Big Kid Pictures', '20th Century Fox|Double Feature Films|Appian Way|Stone Village Pictures|New Regency Pictures', 'Dark Castle Entertainment|After Dark Films|IM Global|Automatik Entertainment|Silver Reel', 'Fastnet Films|Caramel Film|No Trace Camping', 'Columbia Pictures|Mandate Pictures|Sony Pictures Entertainment (SPE)|Point Grey Pictures', 'Paramount Pictures|MTV Films|Dickhouse Productions', 'SND', 'Columbia Pictures|Blinding Edge Pictures|Overbrook Entertainment', 'Ingenious Film Partners|Ingenious Media|Twentieth Century Fox Film Corporation|Chernin Entertainment|Big Screen Productions', 'Walt Disney Pictures|BBC Films|Ruby Films|Essential Media & Entertainment|Hopscotch Features', 'Intrepid Pictures|Blumhouse Productions|Relativity Media|WWE Studios|MICA Entertainment', 'Walt Disney Pictures|Jerry Bruckheimer Films|Infinitum Nihil|Silver Bullet Productions (II)|Blind Wink Productions', 'Village Roadshow Pictures|Lin Pictures|Warner Bros.|Langley Park Production', 'Stuber Productions|Aggregate Films|DumbDumb', 'Sudden Storm Productions|FilmNation Entertainment|Treehouse Pictures|Before the Door Pictures|Washington Square Films', 'Nu Image Films|Lions Gate', 'Cloud Eight Films|PathÃ©|Decibel Films|Film4', 'Paramount Pictures|Gary Sanchez Productions|Apatow Productions', 'Paramount Pictures|De Line Pictures', 'Nick Wechsler Productions|Open Road Films|Silver Reel|Chockstone Pictures', 'Vertigo Entertainment|40 Acres & A Mule Filmworks|Good Universe|OB Productions', 'Universal Pictures|Toma 78|De Milo', 'Laura Ziskin Productions|Lee Daniels Entertainment|Follow Through Productions|Salamander Pictures|Pam Williams Productions', 'Greenestreet Films|Relativity Media|Virgin Produced|Wessler Entertainment|Witness Protection Films', 'Relativity Media|Virgin Produced|Mandeville Films|SkyLand Entertainment', 'Rainmaker Entertainment|Mainframe Entertainment|Weinstein Company, The', 'Gerber Pictures|Warner Bros.', 'Isle of Man Film|DJ Films|British Film Institute (BFI)|Pinewood Studios|Metrol Technology', 'Open Road Films|Overnight Films|AR Films|Aldamisa Entertainment|Demarest Films', 'Temple Hill Productions|Relativity Media', 'PathÃ© Distribution|A24', 'Grindstone Entertainment Group|Cheetah Vision|Voltage Pictures|Emmett/Furla Films|Envision Entertainment Corporation', 'HBO Films', 'Columbia Pictures|Sony', 'Perdido Productions', 'Di Bonaventura Pictures|Endgame Entertainment|Universal|Open Road Films', 'Paco Cinematografica|Warner Bros.|Regione Lazio|Business Location Sudtirol Alto Adige|Friuli Venezia Giulia Film Commission', 'New Line Cinema|Benderspink|Carousel Productions', 'FilmNation Entertainment|Everest Entertainment', 'Archer Street Productions|Lionsgate|Pictures in Paradise|Silver Reel|Latitude Media', 'Regency Enterprises|Inferno International|1984 Private Defense Contractors|Closest to the Hole Productions|New Regency Pictures', 'Grindstone Entertainment Group|Cheetah Vision|K5 International|Paradox Entertainment|Emmett/Furla Films', 'Columbia Pictures|Sony Pictures Animation|Kerner Entertainment Company|Hemisphere Media Capital|NeoReel', 'DreamWorks SKG|Participant Media|Reliance Entertainment|Touchstone Pictures|Anonymous Content', 'Wild Bunch|LGM Productions|Les Productions du TrÃ©sor|Mars Distribution|Canal+', \"Twentieth Century Fox Film Corporation|Donners' Company|Marvel Entertainment|Bad Hat Harry Productions|Big Screen Productions\", 'Front Street Productions|Participant Media|Imagenation Abu Dhabi FZ|Exclusive Media Group|Spitfire Pictures', 'Reel FX Creative Studios|Relativity Media', 'Paramount Vantage|Bona Fide Productions', 'Universal Pictures|Village Roadshow Pictures|China Film Group Corporation (CFGC)|Company Films|Dalian Wanda Group', 'Sneak Preview Productions', 'Jean Doumanian Productions|Smokehouse Pictures', 'Blumhouse Productions|Room 101|Solana Films', 'Open Road Films|Dillywood|Five Star Institute|Silver Reel', 'Gaumont|Kintop Pictures|Reliance Entertainment|Relativity Media|IM Global', 'Appian Way|Scott Free Productions|Relativity Media|Energy Entertainment|Red Granite Pictures', 'Universal Pictures|Original Film|One Race Productions|Dentsu|Relativity Media', 'Triggerfish Animation', 'Fox Searchlight Pictures|Fox Searchlight', 'Exclusive Media Group|Picturehouse Entertainment', 'Prana Animation Studios|Summertime Entertainment', 'Scott Free Productions', 'Universal', 'StudioCanal|CBS Films', 'Distant Horizons|Film Afrika Worldwide|Videovision Entertainment|Pathe|Origin Pictures', 'BBC Films|The Weinstein Company|Baby Cow Productions|PathÃ©|Yucaipa Films', 'Ecosse Films|Le Pacte|Scope Pictures|Film i VÃ¤st|Filmgate Films', 'Dark Castle Entertainment|Signature Pictures|After Dark Films|Silver Reel|Saints LA', 'Twentieth Century Fox Film Corporation|Regency Enterprises|21 Laps Entertainment|Wild West Picture Show Productions|TSG Entertainment', 'Art Pictures Studio', 'Patalex IV Productions Limited|Warner Bros.|Heyday Films', 'DC Comics|Legendary Pictures|Warner Bros.|DC Entertainment|Syncopy', 'Walt Disney|Walden Media', 'Studio Babelsberg|DC Comics|Virtual Studios|Anarchos Productions|Silver Pictures', 'Village Roadshow Pictures|The Zanuck Company|Warner Bros.|Tim Burton Productions|Plan B Entertainment', 'Spyglass Entertainment|Everyman Pictures|Hammer & Tongs|Touchstone Pictures', 'DreamWorks SKG|Warner Bros.|Parkes/MacDonald Productions', 'Twentieth Century Fox Film Corporation|1492 Pictures|Constantin Film Produktion|Marvel Enterprises|Kumar Mobiliengesellschaft mbH & Co. Projekt Nr. 3 KG', \"Village Roadshow Pictures|DC Comics|Lonely Film Productions GmbH & Co. KG.|Donners' Company|Branded Entertainment/Batfilm Productions\", 'New Line Cinema|Tapestry Films|Avery Pix', 'Paramount Pictures|Lakeshore Entertainment|MTV Films|Colossal Pictures|Valhalla Motion Pictures', 'Walt Disney Pictures|Spyglass Entertainment', 'Paramount Pictures|DreamWorks SKG|Cruise/Wagner Productions|Amblin Entertainment', 'DreamWorks SKG|Spyglass Entertainment|Columbia Pictures Corporation|Red Wagon Productions', 'Columbia Pictures Corporation|Overbrook Entertainment', 'Canal Plus|Twentieth Century Fox Film Corporation|Current Entertainment|TF 1 Film Productions|TPS Star', 'Universal Pictures|Three Strange Angels|Studio Canal|Metro-Goldwyn-Mayer (MGM)|Working Title Films', 'Studio Babelsberg|Twentieth Century Fox Film Corporation|Scott Free Productions|Kanzaman|Dune Films', 'New Line Cinema|Spring Creek Productions|BenderSpink|Kumar Mobiliengesellschaft mbH & Co. Projekt Nr. 1 KG', 'WingNut Films|Universal Pictures|Big Primate Pictures|MFPV Film', 'Double Feature Films|Jersey Films|Nina Saxon Film Design|Metro-Goldwyn-Mayer (MGM)', 'Columbia Pictures Corporation|Mandalay Pictures|Metro-Goldwyn-Mayer (MGM)', 'Universal Pictures|StudioCanal|Scion Films|Focus Features|Working Title Films', 'River Road Entertainment|Alberta Film Entertainment|Focus Features|Good Machine', 'Original Film|Columbia Pictures Corporation|Revolution Studios', 'DiNovi Pictures|Alcon Entertainment|Alloy Entertainment', '20th Century Fox|Weed Road Pictures|Dutch Oven|New Regency Productions|Summit Entertainment', 'Amblin Entertainment|Columbia Pictures Corporation', 'Saturn Films|Ascendant Pictures|Endgame Entertainment|Entertainment Manufacturing Company|Rising Star', 'Tim Burton Animation Company|Will Vinton Studios|Warner Bros.|Tim Burton Productions|Laika Entertainment', 'Aardman Animations|DreamWorks Animation', 'Village Roadshow Pictures|Section Eight|Spring Creek Productions|Warner Bros.', 'Section Eight|Mandalay Pictures|VIP 3 Medienfonds|2929 Productions|Rising Star', 'Universal Pictures|Neal Street Productions|Red Wagon Entertainment|Motion Picture KAPPA Produktionsgesellschaft', 'DreamWorks SKG|MacDonald/Parkes Productions', 'Walt Disney Pictures|Robert Simonds Productions', 'Paramount Pictures|Cruise/Wagner Productions|Vinyl Films|KMP Film Invest', 'Paramount Pictures|Di Bonaventura Pictures', 'Miramax Films|Imagine Entertainment|Universal Pictures|Parkway Pictures (I)|Touchstone Pictures', 'The Weinstein Company|Kanbar Entertainment|Blue Yonder Films', 'Twentieth Century Fox Film Corporation|Fox 2000 Pictures|Josephson Entertainment|MBC Beteiligungs Filmproduktion', 'Columbia Pictures Corporation|Red Wagon Entertainment|Bewitched', 'Di Bonaventura Pictures|John Wells Productions|Reaper Productions|Stillking Films|Babelsberg Film', 'Fox 2000 Pictures|Wildgaze Films|Alan Greenspan Productions|Mars Media Beteiligungs|Flower Films (II)', 'Miramax Films|Endgame Entertainment|Hart-Sharp Entertainment', 'Universal Pictures|StudioCanal|Mirage Enterprises|Working Title Films|Misher Films', 'The Weinstein Company|Summit Entertainment|Atlas Entertainment|Mosaic Media Group|Reforma Films', 'Miramax Films|Revolution Studios|Persistent Entertainment|Initial Entertainment Group (IEG)|The Ladd Company', 'Miramax Films|Cheyenne Enterprises|Yari Film Group|Stratus Film Co.|Syndicate Films International', 'Village Roadshow Pictures|Gerber Pictures|Warner Bros.|WV Films III', 'DreamWorks SKG|Universal Pictures|Amblin Entertainment|Peninsula Films|Alliance Atlantis Communications', 'Lakeshore Entertainment|Firm Films|Screen Gems', 'Fox Searchlight Pictures|Room 9 Entertainment', 'Section Eight|Warner Bros.|Participant Media|FilmWorks|4M', 'Miramax Films|Di Bonaventura Pictures|Patalex V Productions Limited', 'Universal Pictures|MFPV Film|Double Feature Films|ShadowCatcher Entertainment|Daniel Bobker Productions', 'Alcon Entertainment', 'Warner Independent Pictures (WIP)|Section Eight Productions', 'Paramount Pictures|MTV Films|Tollin/Robbins Productions', 'New Line Cinema|DC Comics|BenderSpink', 'Platinum Dunes|Dimension Films|Metro-Goldwyn-Mayer (MGM)|Radar Pictures', 'Imagine Entertainment|Columbia Pictures Corporation|JC 23 Entertainment', 'Canal Plus|Current Entertainment|Clubdeal|TF1 Films Production|EuropaCorp', 'Twentieth Century Fox Film Corporation|Robert Simonds Productions|Runteldat Entertainment', 'Columbia Pictures|Regency Enterprises|3 Arts Entertainment|Tall Trees Productions', 'Universal Pictures|Morgan Creek Productions', 'Imagine Entertainment|Touchstone Pictures', 'Rogue Pictures|Why Not Productions|Liaison Films|Biscayne Pictures', 'Bac Films|Focus Features|Five Roses', 'Paramount Pictures|Escape Artists|Kumar Mobiliengesellschaft mbH & Co. Projekt Nr. 2 KG', 'Universal Pictures|Atmosphere Entertainment MM|Romero-Grunwald Productions|Exception Wild Bunch', 'Tree Line Films|Konrad Pictures|Catfish Productions|Fox 2000 Pictures|Mars Media Beteiligungs', 'Mile High Productions|Kevin Messick Productions|Touchstone Pictures|Beacon Pictures', 'Paramount Pictures|MTV Films|Cent Productions Inc.', 'Craven-Maddalena Films|Outerbanks Entertainment|Dimension Films|Kalis Productions GmbH & Co. Zweite KG', 'Paramount Pictures|Columbia Pictures Corporation|MTV Films|Happy Madison Productions|Callahan Filmworks', 'Columbia Pictures|Revolution Studios|Cube Vision', 'Epsilon Motion Pictures|Franchise Pictures|Baldwin Entertainment Group|Dante Entertainment|Crusader Entertainment', 'Revolution Studios|Debra Hill Productions', 'Laura Ziskin Productions|Original Film|Columbia Pictures Corporation|Phoenix Pictures|AFG Talons Productions', 'Universal Pictures|26 Films', 'Boll KG', 'Paramount Pictures|Bristol Bay Productions|Baldwin Entertainment Group|Desertlands Entertainment|Mace Neufeld Productions', \"Sony Pictures Classics|Cooper's Town Productions|Eagle Vision Inc.|Manitoba Film and Video Production Tax Credit|Province of British Columbia Production Services Tax Credit\", 'Vanguard Films|Scanbox', 'Studio Babelsberg|Epsilon Motion Pictures|UK Film Council|Scion Films|Focus Features', 'Village Roadshow Pictures|Dark Castle Entertainment|Warner Bros.', 'Miramax Films|Lawrence Bender Productions|Marty Katz Productions', 'New Line Cinema|Davis-Films|Metropolitan Filmexport|Scott Free Productions|Domino 17521', 'Columbia Pictures Corporation|Dimension Films', 'The Javelina Film Company|EuropaCorp', 'Touchstone Pictures|Milkshake Films|Hargitay & Hargitay Pictures in Motion', 'Universal Pictures|Brightlight Pictures|Endgame Entertainment|The Movie Network (TMN)|Canadian Film or Video Production Tax Credit (CPTC)', 'Walt Disney Pictures|Gunn Films|Max Stronghold Productions Inc.', 'DreamWorks SKG|Craven-Maddalena Films|BenderSpink', 'Big Beach Productions|Stillking Films|Warner Independent Pictures (WIP)|Telegraph Films', 'Paramount Pictures|Columbia Pictures Corporation|Nickelodeon Movies|O.N.C. Entertainment|Robert Simonds Productions', 'MTV Films', 'Boll Kino Beteiligungs GmbH & Co. KG|Brightlight Pictures|Herold Productions|Lionsgate|Infogrames Entertainment', 'Ghost House Pictures|Senator International|Screen Gems|Pacific Renaissance Pictures Ltd.', 'Lakeshore Entertainment|Cinerenta Medienbeteiligungs KG|Screen Gems|Cineblue Internationale Filmproduktionsgesellschaft|City Productions', 'Columbia Pictures|1492 Pictures|Revolution Studios', 'Warner Bros.|Participant Media|Nick Wechsler Productions', 'Columbia Pictures|TriStar Pictures', 'Vertigo Entertainment|Touchstone Pictures|Post No Bills Films|Pandemonium Productions', 'Lakeshore Entertainment|Screen Gems', 'Walt Disney Pictures|Jerry Bruckheimer Films|Second Mate Productions', 'Columbia Pictures|Imagine Entertainment|Skylark Productions|Government of Malta', 'Summit Entertainment|Offspring Entertainment|Touchstone Pictures|Eketahuna LLC', 'Paramount Pictures|Cruise/Wagner Productions|Studio Babelsberg|MI 3 Film|China Film Co-Production Corporation', 'Twentieth Century Fox Film Corporation|Dune Entertainment|Major Studio Partners|Peninsula Films|Fox 2000 Pictures', 'Vertigo Entertainment|Media Asia Films|Warner Bros.|Initial Entertainment Group (IEG)|Plan B Entertainment', 'Columbia Pictures|Universal Pictures|Waverly Films|Relativity Media', 'Touchstone Pictures|Syncopy', 'Ingenious Film Partners|Twentieth Century Fox Film Corporation|1492 Pictures|21 Laps Entertainment', 'Paramount Vantage|Media Rights Capital|Anonymous Content|Central Films', 'Universal Pictures|Strike Entertainment|Hit & Run Productions', 'Twentieth Century Fox Film Corporation|Four By Two Productions', 'Original Film|Columbia Pictures Corporation|Revolution Studios|Happy Madison Productions', 'Universal Pictures|Mosaic Media Group|Wild West Picture Show Productions', 'Imagine Entertainment|Universal Pictures', 'Pacific Data Images (PDI)|DreamWorks Animation', 'Davis-Films|Nouvelles Ã‰ditions de Films (NEF)|Rising Star|VIP Medienfonds 4|Ikiru Films', 'Bedford Falls Productions|Lonely Film Productions GmbH & Co. KG.|Virtual Studios|Spring Creek Productions|Warner Bros.', 'Lions Gate Films|Lakeshore Entertainment|GreeneStreet Films|Radical Media', 'The Weinstein Company|FilmEngine|Capitol Films|Ascendant Pictures|VIP Medienfonds 4', 'Walt Disney Pictures|Spyglass Entertainment|Vertigo Entertainment|Kennedy/Marshall Company, The|Mandeville Films', 'New Line Cinema|Zide-Perry Productions|Kumar Mobiliengesellschaft mbH & Co. Projekt Nr. 1 KG|Hard Eight Pictures|Matinee Pictures', 'Silent Hill DCP Inc.|Davis-Films|Konami', 'DreamWorks SKG|Lakeshore Entertainment', 'Regency Enterprises|Warner Bros.|Muse Entertainment Enterprises|Protozoa Pictures|New Regency Pictures', 'Village Roadshow Pictures|Kennedy Miller Productions|Kingdom Feature Productions|Warner Bros.|Animal Logic', 'Columbia Pictures|Revolution Studios|Rogue Marble|Metro-Goldwyn-Mayer (MGM)', 'Walt Disney Pictures|Contrafilm|C.O.R.E. Feature Animation|Hoytyboy Pictures|Nigel Productions', 'Jerry Bruckheimer Films|Scott Free Productions|Touchstone Pictures', 'Ingenious Film Partners|Twentieth Century Fox Film Corporation|Dune Entertainment|Major Studio Partners|Fox 2000 Pictures', 'Village Roadshow Pictures|Vertigo Entertainment|Sound for Film|Warner Bros.', 'Columbia Pictures|Amblin Entertainment|Sony Pictures Animation|Sony Pictures Entertainment|ImageMovers', 'Paramount Pictures|Scott Rudin Productions|Failure to Launch Productions', 'Icon Productions|Icon Entertainment International|Touchstone Pictures', 'Warner Bros. Pictures|DNA Films|Legendary Pictures|Playtone Production|Warner Bros. Animation', 'Dune Entertainment|Major Studio Partners|Craven-Maddalena Films', 'Regency Enterprises|Cheyenne Enterprises|New Regency Pictures', 'Universal Pictures|American Zoetrope|Morgan Creek Productions', 'Universal Pictures|Forward Pass|Motion Picture ETA Produktionsgesellschaft|Foqus Arte Digital|Metropolis Films', 'Twentieth Century Fox Film Corporation|Dune Entertainment|Major Studio Partners|Landscape Entertainment|John US Productions', 'Twentieth Century Fox Film Corporation|Epsilon Motion Pictures|Franchise Pictures|Scott Free Productions|World 2000 Entertainment', 'DreamWorks SKG|Amblin Entertainment|Malpaso Productions|Warner Bros.', 'Imagine Entertainment|Universal Pictures|Universal Animation Studios', 'Universal Pictures|StudioCanal|Relativity Media|Scion Films|Working Title Films', 'Legendary Pictures|Thunder Road Pictures|Wonderland Sound and Vision|Warner Bros.', \"Michael London Productions|Stillking Films|Bob Yari Productions|Bull's Eye Entertainment|Contagious Entertainment\", 'Nu Image Entertainment|3L Filmverleih', 'Columbia Pictures Corporation|Rising Star|Relativity Media|Phoenix Pictures|VIP 4 Medienfonds', 'Twentieth Century Fox Film Corporation|Regency Enterprises|Epsilon Motion Pictures|Firm Films|Deep River Productions', 'Intermedia Films|Kanzaman|C-2 Pictures|IMF Internationale Medien und Film GmbH & Co. 3. Produktions KG', 'The Weinstein Company|View Askew Productions', 'Columbia Pictures Corporation|Escape Artists|Relativity Media|Overbrook Entertainment', 'American Zoetrope|Columbia Pictures Corporation|Pricel|Tohokushinsha Film|Commission du Film France', 'Scott Rudin Productions|Revolution Studios', 'Fox Searchlight Pictures|Cowboy Films|DNA Films|Scottish Screen|UK Film Council', 'Lions Gate Films|Twisted Pictures|Evolution Entertainment', 'Paramount Pictures|Nickelodeon Movies|Black & White Productions', 'Virtual Studios|Next Entertainment|Warner Bros.|Irwin Allen Productions|Radiant Productions', 'Universal Pictures|Depth of Field', 'River Road Entertainment|Edward R. Pressman Film|Iron Film', 'Universal Pictures|Kaplan/Perrone Entertainment|MMCB Film Produktion 2004', 'Fox Searchlight Pictures|Bona Fide Productions|Big Beach Films', 'Revolution Studios|Wayans Bros. Entertainment', 'Twentieth Century Fox Film Corporation|11:11 Mediaworks', 'Thousand Words|Warner Independent Pictures (WIP)|Detour Filmproduction|Section Eight Productions', 'Mandate Pictures|Three Strange Angels', 'Paramount Pictures|Double Feature Films|Intermedia Films|Kernos Filmproduktionsgesellschaft & Company', 'Fox 2000 Pictures|Scott Free Productions', 'Prospero Pictures|Icon Entertainment International|Scion Films|Rocket Pictures|Alliance Atlantis Motion Picture Production', 'Universal Pictures|Shady Acres Entertainment', 'Sony Pictures Animation', 'Paramount Pictures|Nickelodeon Movies|Paramount Animation', 'Paramount Pictures|DreamWorks SKG|Laurence Mark Productions', 'Contrafilm|Firm Films|Touchstone Pictures|Beacon Pictures|Eyetronics', 'Paramount Classics', 'Miramax Films|The Mark Gordon Company|Yari Film Group|Bob Yari Productions', 'Twentieth Century Fox Film Corporation|Pacific Film and Television Commission|WWE Studios', 'Walt Disney Pictures|Mandeville Films|Boxing Cat Films', 'Isle of Man Film|Weinstein Company, The|Samuelson Productions', 'New Line Cinema|Tiara Blu Films', 'Fox 2000 Pictures|Storefront Pictures', \"Donners' Company|Cheyenne Enterprises|Alcon Entertainment|Nu Image Entertainment GmbH|Millennium Films\", 'Fox Searchlight Pictures|Scott Rudin Productions|DNA Films|BBC Films|Ingenious Film Partners', 'Universal Pictures|StudioCanal|Sidney Kimmel Entertainment|Working Title Films', 'BIM Distribuzione|Granada Film Productions|Scott Rudin Productions|PathÃ© Renn Productions|PathÃ© Pictures International', 'Twentieth Century Fox Film Corporation|Dune Entertainment|Major Studio Partners|Regency Enterprises|Epsilon Motion Pictures', 'Warner Bros.|Section Eight Productions|Sunset Gower Studios', 'Ingenious Film Partners|Electric Entertainment|Skydance Productions|Flyboys Films', 'International Production Company|True Grit Productions|Zero Gravity Management|Pierce/Williams Entertainment', 'Columbia Pictures Corporation|Relativity Media', 'Columbia Pictures Corporation|Ghost House Pictures|Vertigo Entertainment', 'Village Roadshow Pictures|Thunder Road Pictures|Warner Bros.|Beacon Pictures|Jon Shestack Productions', 'Red Hour Films', 'Screen Gems, Inc.', 'Davis Entertainment|Screen Gems', 'Yash Raj Films', 'Legendary Pictures|Warner Bros.|Blinding Edge Pictures', 'Fox Searchlight Pictures|Mirabai Films', 'Tessalit Productions', 'Spyglass Entertainment|Hollywood Pictures|Endgame Entertainment|Wonderland Sound and Vision', 'Rogue Pictures|Intrepid Pictures|Biscayne Pictures|Raygun Productions|Rosey Film Productions LLC', 'Lions Gate Films|2929 Productions|Out of the Blue... Entertainment|Starbucks Entertainment|Cinema Gypsy Productions', '1492 Pictures|Warner Bros.|Heyday Films|P of A Productions Limited', 'Miramax Films|Universal Pictures|Studio Canal|Working Title Films|Atlantic Television', 'Anonymous Content|This Is That Productions|Focus Features', 'Universal Pictures|The Kennedy/Marshall Company|Hypnotic|Motion Picture THETA Produktionsgesellschaft|Ludlum Entertainment', 'Plan B Entertainment|Warner Bros.|Nimar Studios|Radiant Productions|Helena Productions', 'Walt Disney Pictures|Jerry Bruckheimer Films|Saturn Films|Junction Entertainment', 'Twentieth Century Fox Film Corporation|Laurence Mark Productions|Davis Entertainment|Overbrook Entertainment|Mediastream Vierte Film GmbH & Co. Vermarktungs KG', 'Columbia Pictures Corporation|Happy Madison Productions|Anonymous Content|Flower Films (II)', 'Universal Pictures|Stillking Films|Sommers Company, The', 'Revolution Studios|Dark Horse Entertainment|Lawrence Gordon Productions|Starlite Films', 'Castle Rock Entertainment|Golden Mean|Universal CGI|Shangri-La Entertainment|Playtone', 'New Line Cinema|FilmEngine|Katalyst Films|BenderSpink|Province of British Columbia Production Services Tax Credit', 'Impact Pictures|Constantin Film Ltd.', 'Village Roadshow Pictures|Section Eight|Jerry Weintraub Productions|Warner Bros.|WV Films III', 'DreamWorks SKG|Universal Pictures|Everyman Pictures|Tribeca Productions', \"Lions Gate Films|Twentieth Century Fox Film Corporation|Centropolis Entertainment|Mark Gordon Productions|Mel's Cite du Cinema\", 'Appian Way|Forward Pass|Cappa Productions|Warner Bros.|Initial Entertainment Group (IEG)', 'Paramount Pictures|DreamWorks SKG|Parkes/MacDonald Productions|Edge City', 'New Line Cinema|Amen Ra Films|Shawn Danielle Productions Ltd.|Imaginary Forces|Marvel Enterprises', 'DreamWorks SKG|Amblin Entertainment|Parkes/MacDonald Productions', 'Paramount Pictures|Scott Rudin Productions|Nickelodeon Movies|DreamWorks Pictures|Kumar Mobiliengesellschaft mbH & Co. Projekt Nr. 2 KG', 'Lakeshore Entertainment|Malpaso Productions|Epsilon Motion Pictures|Warner Bros.|Albert S. Ruddy Productions', 'Paramount Pictures|Natural Nylon Entertainment|Riff Raff Film Productions|Filmauro|Blue Flower Productions', \"Blackfriars Bridge Films|Yari Film Group|Bob Yari Productions|ApolloProScreen Filmproduktion|Bull's Eye Entertainment\", 'Columbia Pictures|Revolution Studios|Thirteen Productions', 'Regency Enterprises|Epsilon Motion Pictures|New Regency Pictures|Daybreak', 'Miramax Films|Film Colony', 'Gaylord Films|Warner Bros.|Dylan Sellers Productions|Clifford Werber Productions', 'Impact Pictures|Studio Babelsberg|Twentieth Century Fox Film Corporation|Davis Entertainment|Stillking Films', 'Twentieth Century Fox Film Corporation|Red Hour Films|Mediastream Vierte Film GmbH & Co. Vermarktungs KG', 'Canal Plus|TF1 Films Production|EuropaCorp', 'France 3 CinÃ©ma|Intermedia Films|PathÃ© Renn Productions|Egmond Film & Television|Warner Bros.', 'Laura Ziskin Productions|Columbia Pictures Corporation|Marvel Enterprises', 'DreamWorks SKG|The Montecito Picture Company|Blue Sea Productions', 'Regency Enterprises|Fox 2000 Pictures|Epsilon Motion Pictures|Scott Free Productions|New Regency Pictures', 'Universal Pictures|Jersey Films|Loofah Productions', 'Lions Gate Films|VIP 3 Medienfonds|Valhalla Motion Pictures|Marvel Enterprises|VIP 2 Medienfonds', 'Village Roadshow Pictures|DiNovi Pictures|Warner Bros.|Frantic Films|Maple Shade Films', 'New Amsterdam Entertainment|Strike Entertainment|Metropolitan Filmexport|Toho-Towa|Cruel and Unusual Films', 'Jerry Bruckheimer Films|World 2000 Entertainment|Touchstone Pictures|Green Hills Productions', 'Universal Pictures|One Race Productions|Primal Foe Productions|Radar Pictures', 'Gracie Films|Columbia Pictures Corporation', \"Columbia Pictures Corporation|Pariah Entertainment Group|Grand Slam Productions|Mel's Cite du Cinema\", 'Ghost House Pictures|Vertigo Entertainment|Senator International|Colombia Pictures|Fellah Pictures', 'Paramount Pictures|Scott Rudin Productions|Clinica Estetico', 'Filmax Entertainment|Castelao Producciones|Canal+ EspaÃ±a|Instituto de la CinematografÃ\\xada y de las Artes Audiovisuales (ICAA)|ICF', 'Rogue Pictures', 'Twentieth Century Fox Film Corporation|Robert Simonds Productions|EuropaCorp', 'Paramount Pictures|Patalex Productions', 'Paramount Pictures|De Line Pictures|DreamWorks Pictures', 'Casey Silver Productions|Touchstone Pictures|Dune Films', 'BIM Distribuzione|Fellowship Adventure Group', 'Columbia Pictures|Revolution Studios|Wayans Bros. Entertainment|Gone North Productions', 'Lions Gate Films|United Artists|Industrial Development Corporation of South Africa|Endgame Entertainment|Miracle Pictures', 'Paramount Pictures|Kopelson Entertainment|Harlequin Pictures|Intertainment AG|Blackout Productions Inc.', 'Paramount Pictures|Scott Rudin Productions', 'Fox Searchlight Pictures|Michael London Productions|Sideways Productions Inc.', 'Weed Road Pictures|Warner Bros.|Dimension Films|Red Hour Films|AR-TL', 'Scott Rudin Productions|Touchstone Pictures|Blinding Edge Pictures', 'Cheyenne Enterprises|Franchise Pictures|MHF Zweite Academy Film|Eclipse Catering|Nine Yards Two Productions', 'Icon Productions', 'Miramax Films|Lions Gate Films|Artisan Entertainment|Lawrence Bender Productions|Havana Nights LLC', 'Village Roadshow Pictures|Atmosphere Entertainment MM|Warner Bros.', 'Odyssey Entertainment|Warner Bros.|Scion Films|Really Useful Films', \"Lakeshore Entertainment|Metro-Goldwyn-Mayer (MGM)|Mel's Cite du Cinema\", 'Studio Babelsberg|Walden Media|Babelsberg Film|Mostow/Lieberman Productions|80 Days Productions', 'Revolution Studios|Jinks/Cohen Company|Visual Arts Entertainment', 'Twentieth Century Fox Film Corporation|Davis Entertainment|Aldrich Group|Optional Pictures', 'Lions Gate Films|2929 Productions|Artists Production Group (APG)|Blue Productions', 'Universal Studios|Imagine Entertainment|Friday Night Lights LLC|MDBF Filmgesellschaft mbH & Company KG', 'Alliance Films|Focus Features', 'PathÃ© Renn Productions|TF1 Films Production|Canal+|Pathe|Two Brothers Productions', 'Village Roadshow Pictures|Original Film|Warner Bros.', 'Walt Disney', 'Avenue Pictures Productions|Weed Road Pictures|Intermedia Films|Egmond Film & Television|Dimension Films', 'Fox Searchlight Pictures|Broken Lizard Industries|Coconut Pete Productions', 'Paramount Pictures|Cruise/Wagner Productions|Lakeshore Entertainment|Intermedia Films', 'Warner Bros. Pictures|Shangri-La Entertainment|Material|Taormina Productions', 'Epsilon Motion Pictures|Franchise Pictures|Signature Pictures|Linson Entertainment|Art Linson Productions', 'Fox Searchlight Pictures|Bird and a Bear Entertainment|Hallway Pictures|Catch Productions', 'Revolution Studios|Blue Star Pictures', 'Casey Silver Productions|Beacon Communications|Touchstone Pictures|Beacon Pictures|Fantail Films Inc.', 'Cool Music|Warner Bros.|Heyday Films|Harry Potter Publishing Rights', 'Universal Pictures|The Kennedy/Marshall Company|Ludlum Entertainment|Motion Picture BETA Produktionsgesellschaft|Bourne Again', 'Miramax Films|Scott Rudin Productions|Paramount Vantage|Mike Zoss Productions', 'Village Roadshow Pictures|Original Film|Weed Road Pictures|Warner Bros.|Heyday Films', 'Jerry Bruckheimer Films|Saturn Films|Walt Disney|Junction Entertainment|Sparkler Entertainment', 'Columbia Pictures|Laura Ziskin Productions|Marvel Enterprises', 'Darkwoods Productions|Dimension Films', 'Paramount Pictures|Ingenious Film Partners|Di Bonaventura Pictures|Marv Films|Vaughn Productions', 'Ingenious Film Partners|Twentieth Century Fox Film Corporation|Dune Entertainment|Cheyenne Enterprises|Wintergreen Productions', 'Paramount Vantage|River Road Entertainment|Art Linson Productions|Into the Wild', 'Virtual Studios|Legendary Pictures|Hollywood Gang Productions|Atmosphere Entertainment MM|Warner Bros.', 'Columbia Pictures Corporation|Relativity Media|Michael De Luca Productions|Marvel Enterprises|Crystal Sky Pictures', 'Fox Searchlight Pictures|Mandate Pictures', 'Walden Media|Hal Lieberman Company|Lauren Levine Productions Inc.', 'Paramount Pictures|Di Bonaventura Pictures|Grosvenor Park Impact Productions', 'Universal Pictures|Studio Canal|Relativity Media|Working Title Films', 'Miramax Films|Ghoulardi Film Company|Paramount Vantage', 'Imagine Entertainment|Universal Pictures|Scott Free Productions|Relativity Media|Film Rites', 'Warner Bros.|DreamWorks Pictures|Tim Burton Productions|Zanuck Company, The|Parkes+MacDonald Image Nation', 'Dune Entertainment|Regency Enterprises|Fox 2000 Pictures|Bagdasarian Productions', 'Pacific Data Images (PDI)|DreamWorks Animation|Columbus 81 Productions', 'Wendy Finerman Productions|Alcon Entertainment|Grosvenor Park Productions', 'New Line Cinema|Contrafilm|Firm Films', 'Ingenious Film Partners|Twentieth Century Fox Film Corporation|1492 Pictures|Dune Entertainment|Constantin Film Produktion', 'Walt Disney Pictures|Josephson Entertainment|Andalasia Productions|Right Coast Productions', 'Paramount Pictures|Warner Bros.|Phoenix Pictures', 'Village Roadshow Pictures|Section Eight|Jerry Weintraub Productions|Warner Bros.', 'The Weinstein Company|Imagi Animation Studios|Warner Bros.|Mirage Studios|Imagi Production', 'Gracie Films|Twentieth Century Fox Film Corporation', 'Universal Pictures|Participant Productions|Playtone Production', 'DNA Films|Figment Films|Sociedad General de Cine S.A.|UK Film Council|Fox Atomic', 'Universal Pictures|Forward Pass|Relativity Media|FilmWorks|MDBF Zweite Filmgesellschaft', 'DNA Films|Ingenious Film Partners|UK Film Council|Moving Picture Company (MPC)', 'Tiger Aspect Productions|Working Title Films', 'Tig Productions|Eden Rock Media|Element Films|Relativity Media', 'Columbia Pictures|Dark Horse Entertainment|Ghost House Pictures|HorrorFlix', 'New Line Cinema|Ingenious Film Partners|Depth of Field|Scholastic Productions', 'TriStar Pictures|Nu Image Entertainment|Brightlight Pictures', 'Paramount Pictures|DreamWorks SKG|Cold Spring Pictures|Montecito Picture Company, The', 'Cruise/Wagner Productions|United Artists|Wildwood Enterprises|Andell Entertainment|Metro-Goldwyn-Mayer (MGM)', 'Tree Line Films|Lionsgate|Relativity Media|Yuma', 'Warner Bros.|CJ Entertainment|Southpaw Entertainment', 'The Weinstein Company|Open City Films|GreeneStreet Films', 'Mosaic Media Group|Current Entertainment|Lionsgate|Fierce Entertainment|Province of British Columbia Production Services Tax Credit', 'Columbia Pictures|Universal Pictures|Spyglass Entertainment|Shady Acres Entertainment|Original Film', 'Universal Pictures|Happy Madison Productions', 'Paramount Pictures|Virtual Studios|Revolution Studios|Saturn Films|Broken Road Productions', 'TriStar Pictures|Hyde Park Films|Offspring Entertainment', 'Lions Gate Films|Twisted Pictures', 'Silver Pictures|Warner Bros.|Jessie Nelson Productions|David Dobkin Productions', 'New Line Cinema|Angry Films', 'BBC Films|Serendipity Point Films|TÃ©lÃ©film Canada|Astral Media|Scion Films', 'Paramount Pictures|Shangri-La Entertainment|ImageMovers|Paramount Animation', 'Village Roadshow Pictures|Castle Rock Entertainment|Warner Bros.|Storefront Pictures|WV Films III', 'Conundrum Entertainment|Davis Entertainment|DreamWorks Pictures|Radar Pictures', 'Twentieth Century Fox Film Corporation|Dune Entertainment|Anka Film|EuropaCorp|Daybreak Productions', 'Walt Disney Pictures|Mayhem Pictures|Monkey Dance Productions', 'Big Talk Productions|Yer Dead Productions|Weinstein Company, The|Dimension Films|Troublemaker Studios', 'Entertainment Films|Material Entertainment|Beech Hill Films', 'Warner Bros.|Storyline Entertainment|Two Ton Films|Zadan / Meron Productions', 'Lions Gate Films|Next Entertainment|Screen Gems', 'Intrepid Pictures|Focus Films|Platinum Dunes', 'TriStar Pictures|360 Pictures', 'Dimension Films|Spectacle Entertainment Group|Nightfall Productions', 'Ecosse Films|2 Entertain|Bueprint Pictures', 'Halcyon Pictures|Kinematograf Wien', 'Universal Pictures|StudioCanal|Working Title Films', 'Village Roadshow Pictures|Vertigo Entertainment|Silver Pictures|Warner Bros.', 'Capitol Films|Linsefilm|Unity Productions|Michael Cerenzie Productions|Funky Buddha Productions', 'Revolution Studios|TriStar Pictures', 'Impact Pictures|Davis-Films|Constantin Film Produktion|Resident Evil Productions', 'Plan B Entertainment|Virtual Studios|Scott Free Productions|Alberta Film Entertainment|Warner Bros.', 'Plan B Entertainment|Revolution Films|Paramount Vantage', 'Village Roadshow Pictures|Dark Castle Entertainment|Warner Bros.|Eyetronics|Chime Films', 'DreamWorks SKG|Davis Entertainment|Tollin/Robbins Productions', 'Village Roadshow Pictures|Castle Rock Entertainment|Reserve Room|Flower Films (II)', 'Anonymous Content|Level 1 Entertainment|MID Foundation', 'Summit Entertainment|Blackfriars Bridge Films|NALA Films|Samuels Media|Warner Independent Pictures (WIP)', 'Lionsgate|Karz Entertainment', 'Twentieth Century Fox Film Corporation|Regency Enterprises|New Regency Pictures|Paul Schiff Productions', 'Castle Rock Entertainment|Land Films Inc.|Anonymous Content', 'The Weinstein Company|FilmColony', 'The Weinstein Company|Harpo Films|Marshall Production', 'Double Feature Films|Jersey Films|Kernos Filmproduktionsgesellschaft & Company', 'Spyglass Entertainment|Hollywood Pictures|Birnbaum / Barber Productions', 'Columbia Pictures|Industry Entertainment|2929 Productions', 'DreamWorks SKG|MacDonald/Parkes Productions|Sidney Kimmel Entertainment|Neal Street Productions|China Film Co-Production Corporation', 'Screen Gems|Hal Lieberman Company', 'Touchstone Pictures|Focus Features|Jon Shestack Productions', 'Morgan Creek Productions|Clifford Werber Productions|SW7D Productions', 'Foresight Unlimited|RAMCO|Captivity Productions', 'Village Roadshow Pictures|Warner Bros. Pictures|Robert Simonds Productions|Phoenix Pictures|Underground', 'Scott Rudin Productions|I Could Never Ltd.|Bauer Martinez Studios', 'Castle Rock Entertainment|Mirage Enterprises|Section Eight Productions', 'Revolution Studios|Ecosse Films|Beacon Pictures|Walden Media', 'Twentieth Century Fox Film Corporation|Dune Entertainment|Baldwin Entertainment Group|Hyde Park Entertainment|Brass Hat Films', 'Twentieth Century Fox Film Corporation|Dune Entertainment|Major Studio Partners|Phoenix Pictures', 'Miramax Films|The Ladd Company', 'Columbia Pictures Corporation|Apatow Productions', 'DreamWorks SKG|Neal Street Productions|DreamWorks Pictures|Province of British Columbia Production Services Tax Credit', 'Columbia Pictures|Happy Madison Productions|Sunlight Productions|Relativity Media|Madison 23', 'New Line Cinema|Grosvenor Park Media Ltd.', 'Endgame Entertainment|Rising Star|Killer Films|John Wells Productions|Dreamachine', 'BBC', 'Ingenious Film Partners|Quinta Communications|Dino De Laurentiis Company|Zephyr Films', 'Universal Pictures|Canadian Film or Video Production Tax Credit (CPTC)|Gold Circle Films|Province of British Columbia Production Services Tax Credit|H2F Entertainment', 'Block 2 Pictures|Jet Tone Production|StudioCanal|Lou Yi Inc.', 'Ingenious Film Partners|Dino de Laurentiis Cinematografica|Dino De Laurentiis Company|Zephyr Films|Red Lion Sarl', 'Universal Pictures|Twisted Pictures|Evolution Entertainment', 'Ingenious Film Partners|ETIC Films|Quinta Communications|Dino De Laurentiis Company|Zephyr Films', 'Huayi Brothers Media Corporation', 'Lions Gate Films|Tyler Perry Company, The', 'DreamWorks SKG|Universal Pictures|Scott Free Productions|Red Wagon Entertainment|Mill Film', 'Summit Entertainment|Newmarket Capital Group|Team Todd|I Remember Productions', 'DreamWorks SKG|Twentieth Century Fox Film Corporation|Playtone|ImageMovers', 'Columbia Pictures Corporation|SKA Films', 'Paramount Pictures|Cruise/Wagner Productions|Munich Film Partners & Company (MFP) MI2 Productions', 'Twentieth Century Fox Film Corporation|Regency Enterprises|KirchMedia', 'Paramount Pictures|Centropolis Entertainment|Icon Entertainment International|Wind Dancer Productions', 'DreamWorks SKG|Aardman Animations|DreamWorks Animation|PathÃ©', 'Centropolis Entertainment|Columbia Pictures Corporation|Mutual Film Company|Global Entertainment Productions GmbH & Company Medien KG', 'New Line Cinema|Zide-Perry Productions|Hard Eight Pictures', 'Universal Pictures|Canal Plus|Dino De Laurentiis Company', 'BBC Films|Tiger Aspect Productions|StudioCanal|Arts Council of England|Working Title Films', 'Jersey Films', 'DreamWorks SKG|Universal Pictures|Tribeca Productions|Nancy Tenenbaum Films', 'Universal Pictures|Studio Canal|Touchstone Pictures', 'Interscope Communications|Polygram Filmed Entertainment', 'Village Roadshow Pictures|Castle Rock Entertainment|NPV Entertainment|Fortis Films|Warner Bros.', 'Columbia Pictures Corporation|Global Entertainment Productions GmbH & Company Medien KG', 'Twentieth Century Fox Film Corporation|Regency Enterprises', 'Lions Gate Films|Edward R. Pressman Film|Muse Productions', 'Fine Line Features|Zentropa Entertainments|Danmarks Radio (DR)|SVT Drama|Arte', 'Walt Disney Pictures|Jerry Bruckheimer Films|Technical Black|Run It Up Productions Inc.', 'DreamWorks SKG|Twentieth Century Fox Film Corporation|Wildwood Enterprises|Epsilon Motion Pictures|Allied Filmmakers', 'USA Films|Initial Entertainment Group (IEG)|Bedford Falls Company, The|Compulsion Inc.|Splendid Medien AG', 'Twentieth Century Fox Film Corporation|Alcon Entertainment', 'Columbia Pictures|Phoenix Pictures', 'Universal Pictures|Original Film|Newmarket Capital Group|Cranium Films', 'Limited Edition Productions Inc.|Touchstone Pictures|Blinding Edge Pictures|Barry Mendel Productions', 'Village Roadshow Pictures|Malpaso Productions|Mad Chance|Warner Bros.|Clipsal Films', 'Franchise Pictures|Warner Bros.|Morgan Creek Productions|Nine Yards Productions|Rational Packaging Company', 'Columbia Pictures|Vinyl Films|DreamWorks Pictures', 'Beacon Communications', 'Miramax Films|David Brown Productions|Fat Free', 'Buena Vista|Touchstone Pictures', 'Village Roadshow Pictures|NPV Entertainment|Warner Bros.|The Canton Company|Mars Production Pty. Ltd.', 'Spyglass Entertainment|The Jacobson Company|Touchstone Pictures|Red Horizon Productions', 'New Line Cinema|Avery Pix|Radical Media|Katira Productions GmbH & Co. KG|Caro-McLeod', 'Franchise Pictures|Warner Bros.|Morgan Creek Productions|The Canton Company', 'Universal Pictures|Amblin Entertainment', 'New Line Cinema|Tig Productions', '20th Century Fox|Figment Films', 'Warner Bros.|Baltimore Spring Creek Productions|Radiant Productions', 'Twentieth Century Fox Film Corporation|David Kirschner Productions|Fox Animation Studios', 'Konrad Pictures|Craven-Maddalena Films|Dimension Films', 'Dimension Films|Marty Katz Productions', 'Neo Art & Logic|Dimension Films|Wes Craven Films', 'DreamWorks SKG|Twentieth Century Fox Film Corporation|ImageMovers', 'Paramount Pictures|Seven Arts Pictures|Munich Film Partners & Company (MFP) ROE Production', 'Fountainbridge Films|Laurence Mark Productions|Columbia Pictures Corporation|Finding Forrester Productions', 'Walt Disney Pictures|Cruella Productions', 'Spyglass Entertainment|Touchstone Pictures|Triple Threat Talent', 'United Artists|Metro-Goldwyn-Mayer (MGM)|Hammerhead Productions|Screenland Pictures', 'Amen Ra Films|Franchise Pictures|Warner Bros.|Morgan Creek Productions', 'Davis-Panzer Productions|Dimension Films', '40 Acres & A Mule Filmworks', 'Fox Searchlight Pictures|Industry Entertainment|Walrus & Associates|Hollywood Partners|Charenton Productions', 'New Line Cinema|Silver Pictures|Sweetpea Entertainment', 'SNL Studios', 'Metro-Goldwyn-Mayer (MGM)|JLT Productions', \"Twentieth Century Fox Film Corporation|Donners' Company|Bad Hat Harry Productions|Marvel Enterprises|Springwood Productions\", 'Universal Pictures|Capella International|KC Medien AG|Tribeca Productions', 'Laurence Mark Productions|Columbia Pictures Corporation|Global Entertainment Productions GmbH & Company Medien KG|Nora Ephron Productions']\n"
          ],
          "name": "stdout"
        },
        {
          "output_type": "execute_result",
          "data": {
            "text/plain": [
              "release_year\n",
              "2014    2295464519\n",
              "Name: profit, dtype: int64"
            ]
          },
          "metadata": {
            "tags": []
          },
          "execution_count": 46
        }
      ]
    },
    {
      "cell_type": "markdown",
      "metadata": {
        "id": "8Im1S2HRVp_4"
      },
      "source": [
        "# 21. В каком месяце за все годы суммарно вышло больше всего фильмов?"
      ]
    },
    {
      "cell_type": "code",
      "metadata": {
        "id": "Mqr70jabgl_d"
      },
      "source": [
        "answers['21'] = 'Сентябрь' # +"
      ],
      "execution_count": 142,
      "outputs": []
    },
    {
      "cell_type": "code",
      "metadata": {
        "colab": {
          "base_uri": "https://localhost:8080/"
        },
        "id": "0TMvMBvVhTim",
        "outputId": "2666de40-43ac-4a5d-eae9-bbcc2ea9d92d"
      },
      "source": [
        "data = pd.read_csv('movie_bd_v5.csv', encoding = 'utf-8')\n",
        "data.release_date = pd.to_datetime(data.release_date) #преобразование в дата/время.\n",
        "data.release_date.dt.month.value_counts().head(1) #получили месяц объекта типа дата/время, подсчитали количество месяцев релизов, отобразили первый элемент серии"
      ],
      "execution_count": 48,
      "outputs": [
        {
          "output_type": "execute_result",
          "data": {
            "text/plain": [
              "9    227\n",
              "Name: release_date, dtype: int64"
            ]
          },
          "metadata": {
            "tags": []
          },
          "execution_count": 48
        }
      ]
    },
    {
      "cell_type": "markdown",
      "metadata": {
        "id": "uAJsZ_NeVp_7"
      },
      "source": [
        "# 22. Сколько суммарно вышло фильмов летом? (за июнь, июль, август)"
      ]
    },
    {
      "cell_type": "code",
      "metadata": {
        "id": "pyYRAxMtgnXj"
      },
      "source": [
        "answers['22'] = '450' # +"
      ],
      "execution_count": 143,
      "outputs": []
    },
    {
      "cell_type": "code",
      "metadata": {
        "colab": {
          "base_uri": "https://localhost:8080/"
        },
        "id": "DpZmOkz1s6No",
        "outputId": "5466e83c-4410-43af-80ad-88e0debb62e0"
      },
      "source": [
        "data = pd.read_csv('movie_bd_v5.csv', encoding = 'utf-8')\n",
        "data.release_date = pd.to_datetime(data.release_date) #преобразование в дата/время.\n",
        "months = data.release_date.dt.month.isin([6, 8, 7]).value_counts()[1] \n",
        "print(months)"
      ],
      "execution_count": 50,
      "outputs": [
        {
          "output_type": "stream",
          "text": [
            "450\n"
          ],
          "name": "stdout"
        }
      ]
    },
    {
      "cell_type": "markdown",
      "metadata": {
        "id": "G94ppOY1VqAA"
      },
      "source": [
        "# 23. Для какого режиссера зима – самое продуктивное время года? "
      ]
    },
    {
      "cell_type": "code",
      "metadata": {
        "id": "MofP2NrCgpHd"
      },
      "source": [
        "answers['23'] = 'Peter Jackson' # +"
      ],
      "execution_count": 144,
      "outputs": []
    },
    {
      "cell_type": "code",
      "metadata": {
        "colab": {
          "base_uri": "https://localhost:8080/"
        },
        "id": "Vyfr4QJEBA6C",
        "outputId": "1c7e4750-1636-47cb-935f-bc5a016a149d"
      },
      "source": [
        "data = pd.read_csv('movie_bd_v5.csv', encoding = 'utf-8')\n",
        "data.release_date = pd.to_datetime(data.release_date)\n",
        "winter = data[data.release_date.dt.month.isin([12, 1, 2,])] #фильтр по зимним месяцам\n",
        "winter.director = winter.director.str.split('|') #серия с разделителями '|' \n",
        "winter = winter.explode('director') #преобразовываем каждый элемент df в строку, реплицируя значения индекса\n",
        "winter.groupby('director').imdb_id.count().sort_values(ascending=False) #группируем дф по зиме по директорам, \n",
        "#подсчитываем количество фильмов на каждого режиссера "
      ],
      "execution_count": 57,
      "outputs": [
        {
          "output_type": "stream",
          "text": [
            "/usr/local/lib/python3.7/dist-packages/pandas/core/generic.py:5170: SettingWithCopyWarning: \n",
            "A value is trying to be set on a copy of a slice from a DataFrame.\n",
            "Try using .loc[row_indexer,col_indexer] = value instead\n",
            "\n",
            "See the caveats in the documentation: https://pandas.pydata.org/pandas-docs/stable/user_guide/indexing.html#returning-a-view-versus-a-copy\n",
            "  self[name] = value\n"
          ],
          "name": "stderr"
        },
        {
          "output_type": "execute_result",
          "data": {
            "text/plain": [
              "director\n",
              "Peter Jackson            7\n",
              "Steven Soderbergh        6\n",
              "Clint Eastwood           6\n",
              "Martin Scorsese          4\n",
              "Adam Shankman            4\n",
              "                        ..\n",
              "Matt Bettinelli-Olpin    1\n",
              "Matt Reeves              1\n",
              "Matthew O'Callaghan      1\n",
              "Matthew Vaughn           1\n",
              "Jon Avnet                1\n",
              "Name: imdb_id, Length: 358, dtype: int64"
            ]
          },
          "metadata": {
            "tags": []
          },
          "execution_count": 57
        }
      ]
    },
    {
      "cell_type": "markdown",
      "metadata": {
        "id": "RBo0JVjVVqAF"
      },
      "source": [
        "# 24. Какая студия дает самые длинные названия своим фильмам по количеству символов?"
      ]
    },
    {
      "cell_type": "code",
      "metadata": {
        "id": "E15QoHdhgp69"
      },
      "source": [
        "answers['24'] = 'Four By Two Productions' # +"
      ],
      "execution_count": 145,
      "outputs": []
    },
    {
      "cell_type": "code",
      "metadata": {
        "id": "QRGS8L0iVqAG",
        "colab": {
          "base_uri": "https://localhost:8080/"
        },
        "outputId": "5b32395d-b5e8-4281-9426-7b2f719c70bb"
      },
      "source": [
        "data = pd.read_csv('movie_bd_v5.csv', encoding = 'utf-8')\n",
        "data.production_companies = data.production_companies.apply(lambda x: str(x).split('|'))#разделяем столбец датафрейма на серию из списков по разделителю |\n",
        "data = data.explode('production_companies') #преобразовываем каждый элемент df в строку, реплицируя значения индекса\n",
        "data['lenght'] = data.original_title.str.len()\n",
        "#print(data.sample(2))\n",
        "data.groupby('production_companies').lenght.mean().sort_values(ascending=False).head(1)"
      ],
      "execution_count": 59,
      "outputs": [
        {
          "output_type": "execute_result",
          "data": {
            "text/plain": [
              "production_companies\n",
              "Four By Two Productions    83.0\n",
              "Name: lenght, dtype: float64"
            ]
          },
          "metadata": {
            "tags": []
          },
          "execution_count": 59
        }
      ]
    },
    {
      "cell_type": "markdown",
      "metadata": {
        "id": "9G0hbvR7VqAK"
      },
      "source": [
        "# 25. Описание фильмов какой студии в среднем самые длинные по количеству слов?"
      ]
    },
    {
      "cell_type": "code",
      "metadata": {
        "id": "wFzGwAYygrHD"
      },
      "source": [
        "answers['25'] = 'Midnight Picture Show' # +"
      ],
      "execution_count": 146,
      "outputs": []
    },
    {
      "cell_type": "code",
      "metadata": {
        "id": "Ge2GsLNxVqAK",
        "colab": {
          "base_uri": "https://localhost:8080/"
        },
        "outputId": "fff48372-adac-469f-f287-2641f8b4577c"
      },
      "source": [
        "from collections import Counter\n",
        "data = pd.read_csv('movie_bd_v5.csv', encoding = 'utf-8')\n",
        "data.production_companies = data.production_companies.apply(lambda x: str(x).split('|'))#разделяем столбец датафрейма на серию из списков по разделителю |\n",
        "data = data.explode('production_companies') #преобразовываем каждый элемент df в строку, реплицируя значения индекса\n",
        "data['words'] =data.overview.str.split().apply(len)\n",
        "#print(data.sample(1))\n",
        "data.groupby('production_companies').words.mean().sort_values(ascending=False).head(1)"
      ],
      "execution_count": 61,
      "outputs": [
        {
          "output_type": "execute_result",
          "data": {
            "text/plain": [
              "production_companies\n",
              "Midnight Picture Show    175.0\n",
              "Name: words, dtype: float64"
            ]
          },
          "metadata": {
            "tags": []
          },
          "execution_count": 61
        }
      ]
    },
    {
      "cell_type": "markdown",
      "metadata": {
        "id": "FJ1AFt90VqAP"
      },
      "source": [
        "# 26. Какие фильмы входят в 1 процент лучших по рейтингу? \n",
        "по vote_average"
      ]
    },
    {
      "cell_type": "code",
      "metadata": {
        "id": "SEyIx_qhgsPf"
      },
      "source": [
        "answers['26'] = 'The Dark Knight' # +"
      ],
      "execution_count": 147,
      "outputs": []
    },
    {
      "cell_type": "code",
      "metadata": {
        "id": "8qmJVq4CVqAQ",
        "colab": {
          "base_uri": "https://localhost:8080/"
        },
        "outputId": "19c222c4-24d3-4728-844e-60de7948e59c"
      },
      "source": [
        "data = pd.read_csv('movie_bd_v5.csv', encoding = 'utf-8')\n",
        "#data.quantile(0.99, numeric_only=True).vote_average\n",
        "data[(data.vote_average > data.quantile(0.99).vote_average)].groupby('original_title').vote_average.mean().sort_values(ascending=False).head(5)"
      ],
      "execution_count": 63,
      "outputs": [
        {
          "output_type": "execute_result",
          "data": {
            "text/plain": [
              "original_title\n",
              "The Dark Knight       8.1\n",
              "The Imitation Game    8.0\n",
              "Room                  8.0\n",
              "Interstellar          8.0\n",
              "Inside Out            8.0\n",
              "Name: vote_average, dtype: float64"
            ]
          },
          "metadata": {
            "tags": []
          },
          "execution_count": 63
        }
      ]
    },
    {
      "cell_type": "markdown",
      "metadata": {
        "id": "MdXsUXbCVqAV"
      },
      "source": [
        "# 27. Какие актеры чаще всего снимаются в одном фильме вместе?\n"
      ]
    },
    {
      "cell_type": "code",
      "metadata": {
        "id": "f7WpiUWPgtCt"
      },
      "source": [
        "answers['27'] = 'Daniel Radcliffe, Rupert Grint' # +"
      ],
      "execution_count": 148,
      "outputs": []
    },
    {
      "cell_type": "code",
      "metadata": {
        "colab": {
          "base_uri": "https://localhost:8080/"
        },
        "id": "9xzZfgPAe0PB",
        "outputId": "88e4f823-ba5c-42b9-9a22-d8d3ee0ff74d"
      },
      "source": [
        "from collections import Counter\n",
        "from itertools import combinations\n",
        "duo = Counter()\n",
        "data = pd.read_csv('movie_bd_v5.csv', encoding = 'utf-8')\n",
        "for a in range(0,len(data)):\n",
        "  actor = data.cast[a].split('|')\n",
        "  for var in itertools.combinations(actor, 2):\n",
        "    if var not in duo:\n",
        "      duo[var] = 1\n",
        "    else:\n",
        "      duo[var] +=1\n",
        "print(pd.Series(duo.most_common(5)))"
      ],
      "execution_count": 90,
      "outputs": [
        {
          "output_type": "stream",
          "text": [
            "0       ((Daniel Radcliffe, Rupert Grint), 8)\n",
            "1        ((Daniel Radcliffe, Emma Watson), 8)\n",
            "2            ((Rupert Grint, Emma Watson), 7)\n",
            "3             ((Ben Stiller, Owen Wilson), 6)\n",
            "4    ((Johnny Depp, Helena Bonham Carter), 6)\n",
            "dtype: object\n"
          ],
          "name": "stdout"
        }
      ]
    },
    {
      "cell_type": "markdown",
      "metadata": {
        "id": "U0nONFnGVqAX"
      },
      "source": [
        "# Submission"
      ]
    },
    {
      "cell_type": "code",
      "metadata": {
        "id": "IfcaRO9-VqAX",
        "colab": {
          "base_uri": "https://localhost:8080/"
        },
        "outputId": "47a25dd5-9b16-4c02-b008-bc18eb216a2e"
      },
      "source": [
        "# в конце можно посмотреть свои ответы к каждому вопросу\n",
        "\n",
        "list_keys = list(answers.keys())\n",
        "list_keys.sort()\n",
        "for i in list_keys:\n",
        "  print(i, ':', answers[i])"
      ],
      "execution_count": 160,
      "outputs": [
        {
          "output_type": "stream",
          "text": [
            "01 : 723 Pirates of the Caribbean: On Stranger Tides\t(tt1298650)\n",
            "02 : 1157 Gods and Generals (tt0279111)\n",
            "03 : 768 Winnie the Pooh (tt1449283)\n",
            "04 : 109.6585494970884\n",
            "05 : 107\n",
            "06 : 239 Avatar (tt0499549)\n",
            "07 : 1245 The Lone Ranger (tt1210819)\n",
            "08 : 1478\n",
            "09 : 599 The Dark Knight (tt0468569)\n",
            "10 : 1245 The Lone Ranger (tt1210819)\n",
            "11 : Drama\n",
            "12 : Drama\n",
            "13 : Peter Jackson\n",
            "14 : Robert Rodriguez\n",
            "15 : Chris Hemsworth\n",
            "16 : Matt Damon\n",
            "17 : Action\n",
            "18 : K-19: The Widowmaker\n",
            "19 : 2015\n",
            "20 : 2014\n",
            "21 : Сентябрь\n",
            "22 : 450\n",
            "23 : Peter Jackson\n",
            "24 : Four By Two Productions\n",
            "25 : Midnight Picture Show\n",
            "26 : The Dark Knight\n",
            "27 : Daniel Radcliffe, Rupert Grint\n"
          ],
          "name": "stdout"
        }
      ]
    },
    {
      "cell_type": "code",
      "metadata": {
        "id": "SiRmHPl8VqAd",
        "colab": {
          "base_uri": "https://localhost:8080/"
        },
        "outputId": "9dc9d5b9-5ce6-4c8d-aafc-64dd66380b00"
      },
      "source": [
        "# и убедиться что ни чего не пропустил)\n",
        "len(answers)"
      ],
      "execution_count": 161,
      "outputs": [
        {
          "output_type": "execute_result",
          "data": {
            "text/plain": [
              "27"
            ]
          },
          "metadata": {
            "tags": []
          },
          "execution_count": 161
        }
      ]
    },
    {
      "cell_type": "code",
      "metadata": {
        "id": "uCfuTkRbVqAg"
      },
      "source": [
        ""
      ],
      "execution_count": null,
      "outputs": []
    },
    {
      "cell_type": "code",
      "metadata": {
        "id": "Vwx3NrkSVqAl"
      },
      "source": [
        ""
      ],
      "execution_count": null,
      "outputs": []
    }
  ]
}